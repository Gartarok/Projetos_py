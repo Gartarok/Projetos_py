{
 "cells": [
  {
   "cell_type": "markdown",
   "metadata": {},
   "source": [
    "# Exercícios\n",
    "### 01. Variáveis e Condicionais\n",
    "\n",
    "---\n",
    "\n",
    "<img src=\"https://selecao.letscode.com.br/favicon.png\" width=\"40px\" style=\"position: absolute; top: 0px; right: 40px; border-radius: 5px;\" />\n",
    "\n",
    "## Para entregar! 🔥"
   ]
  },
  {
   "cell_type": "markdown",
   "metadata": {},
   "source": [
    "**01. Faça um programa que peça a temperatura em graus Fahrenheit (ºF), transforme e mostre a temperatura em graus Celsius (°C).**\n",
    "\n",
    "$$T(°C) = \\frac{5 \\cdot [T(ºF) - 32]}{9}$$\n",
    "\n",
    "> Obs: Tente também fazer um programa que faça o inverso: peça a temperatura em graus Celsius e a transforme em graus Fahrenheit."
   ]
  },
  {
   "cell_type": "code",
   "execution_count": 9,
   "metadata": {},
   "outputs": [
    {
     "name": "stdout",
     "output_type": "stream",
     "text": [
      "Digite a temperatura em Fahrenheit: 32\n",
      "A temperatura em Celsius é:  0.0\n"
     ]
    }
   ],
   "source": [
    "#Fahrenheit para Celsius\n",
    "temperatura_f = float(input('Digite a temperatura em Fahrenheit: '))\n",
    "temperatura_c = (5/9)*(temperatura_f-32)\n",
    "print(\"A temperatura em Celsius é: \", round(temperatura_c,2))"
   ]
  },
  {
   "cell_type": "code",
   "execution_count": 11,
   "metadata": {},
   "outputs": [
    {
     "name": "stdout",
     "output_type": "stream",
     "text": [
      "Digite a temperatura em Celsius: 0\n",
      "A temperatura em Celsius é:  32.0\n"
     ]
    }
   ],
   "source": [
    "#Celsius para Fahrenheit\n",
    "temperatura_c = float(input('Digite a temperatura em Celsius: '))\n",
    "temperatura_f = ((9/5)*temperatura_c)+32\n",
    "print(\"A temperatura em Celsius é: \", round(temperatura_f,2))"
   ]
  },
  {
   "cell_type": "markdown",
   "metadata": {},
   "source": [
    "**02. Peça para o usuário digitar uma velocidade inicial (em m/s), uma posição inicial (em m) e um instante de tempo (em s) e imprima a posição de um projétil nesse instante de tempo.**\n",
    "\n",
    "Use a fórmula matemática:\n",
    "\n",
    "$$y(t) = y(0) + v(0)\\cdot t + \\frac{g \\cdot t^2}{2}$$\n",
    "\n",
    "Onde, $g$ é a aceleração da gravidade ($-10m/s²$), $y(t)$ é a posição final, $y(0)$ é a posição inicial, $v(0)$ é a velocidade inicial e $t$ é o instante de tempo."
   ]
  },
  {
   "cell_type": "code",
   "execution_count": 26,
   "metadata": {},
   "outputs": [
    {
     "name": "stdout",
     "output_type": "stream",
     "text": [
      "Digite a posição inical em  [m]: 411\n",
      "Digite a temperatura a velocidade inicial em [m/s]: 5\n",
      "Digite o instante do tempo em [s]: 3\n",
      "A posição final é 381.0 [m]\n"
     ]
    }
   ],
   "source": [
    "posicao_inicial = float(input('Digite a posição inical em  [m]: '))\n",
    "velocidade_inicial = float(input('Digite a temperatura a velocidade inicial em [m/s]: '))\n",
    "tempo = float(input('Digite o instante do tempo em [s]: '))\n",
    "g = -10\n",
    "posicao_final = posicao_inicial + (velocidade_inicial * tempo) + (g * tempo **2)/2\n",
    "print('A posição final é',posicao_final,'[m]')"
   ]
  },
  {
   "cell_type": "markdown",
   "metadata": {},
   "source": [
    "**03. Vamos fazer um programa para verificar quem é o assassino de um crime. Para descobrir o assassino, a polícia faz um pequeno questionário com 5 perguntas onde a resposta só pode ser sim ou não:**\n",
    "\n",
    "a. Mora perto da vítima?  \n",
    "b. Já trabalhou com a vítima?  \n",
    "c. Telefonou para a vítima?  \n",
    "d. Esteve no local do crime?  \n",
    "e. Devia para a vítima?  \n",
    "\n",
    "Cada resposta sim dá um ponto para o suspeito. A polícia considera que os suspeitos com 5 pontos são os assassinos, com 4 a 3 pontos são cúmplices e 2 pontos são apenas suspeitos, necessitando outras investigações. Valores abaixo de 1 são liberados."
   ]
  },
  {
   "cell_type": "code",
   "execution_count": 33,
   "metadata": {},
   "outputs": [
    {
     "name": "stdout",
     "output_type": "stream",
     "text": [
      "Responda as perguntas com sim ou não. \n",
      "Digite 1 para sim e 0 para não!\n",
      "Mora perto da vítima? [1/0]: 1\n",
      "Já trabalhou com a vítima? [1/0]: 1\n",
      "Telefonou para a vítima? [1/0]: 1\n",
      "Esteve no local do crime? [1/0]: 1\n",
      "Devia para a vítima? [1/0]: 0\n",
      "O susperito é um cúmplice!\n"
     ]
    }
   ],
   "source": [
    "print('Responda as perguntas com sim ou não. \\nDigite 1 para sim e 0 para não!')\n",
    "a = int(input('Mora perto da vítima? [1/0]: '))\n",
    "b = int(input('Já trabalhou com a vítima? [1/0]: '))\n",
    "c = int(input('Telefonou para a vítima? [1/0]: '))\n",
    "d = int(input('Esteve no local do crime? [1/0]: '))\n",
    "e = int(input('Devia para a vítima? [1/0]: '))\n",
    "\n",
    "soma = a + b + c + d + e\n",
    "\n",
    "if soma == 5:\n",
    "    print('É o assasino!')\n",
    "elif soma == 4 or soma == 3:\n",
    "    print('O suspeito é um cúmplice!')\n",
    "elif soma == 2:\n",
    "    print('Necessita de outra investigações. Ainda é apenas um suspeito.')\n",
    "else:\n",
    "    print('Está liberado!')"
   ]
  },
  {
   "cell_type": "markdown",
   "metadata": {},
   "source": [
    "**04. Faça um programa que leia 4 números e informe o maior deles.**\n",
    "\n",
    "> Utilize apenas `if's`"
   ]
  },
  {
   "cell_type": "code",
   "execution_count": 22,
   "metadata": {},
   "outputs": [
    {
     "name": "stdout",
     "output_type": "stream",
     "text": [
      "Digite o primeiro número: 1\n",
      "Digite o segundo número: 2\n",
      "Digite o terceiro número: 888\n",
      "Digite o quarto número: 2\n",
      "O mairo número é o terceiro\n"
     ]
    }
   ],
   "source": [
    "#Apenas Inputs e If's\n",
    "numero_1 = float(input('Digite o primeiro número: '))\n",
    "numero_2 = float(input('Digite o segundo número: '))\n",
    "numero_3 = float(input('Digite o terceiro número: '))\n",
    "numero_4 = float(input('Digite o quarto número: '))\n",
    "\n",
    "if (numero_1>numero_2 and numero_1>numero_3 and numero_1>numero_4):\n",
    "    print('O mairo número é o primeiro')\n",
    "if (numero_2>numero_1 and numero_2>numero_3 and numero_2>numero_4):\n",
    "    print('O mairo número é o segundo')\n",
    "if (numero_3>numero_2 and numero_3>numero_1 and numero_3>numero_4):\n",
    "    print('O mairo número é o terceiro')\n",
    "if (numero_4>numero_2 and numero_4>numero_3 and numero_4>numero_41):\n",
    "    print('O mairo número é o quarto')\n",
    "\n",
    "\n",
    "    \n"
   ]
  },
  {
   "cell_type": "markdown",
   "metadata": {},
   "source": [
    "**05. Um hospital quer fazer o diagnóstico de gripe ou dengue a partir de um questionário de sintomas, tendo as perguntas abaixo, faça um programa que faça o diagnóstico deste hospital:**\n",
    "\n",
    "a.\tSente dor no corpo?  \n",
    "b.\tVocê tem febre?  \n",
    "c.\tVocê tem tosse?  \n",
    "d.\tEstá com congestão nasal?  \n",
    "e.\tTem manchas pelo corpo?  \n",
    "\n",
    "Para o diagnóstico ele tem a seguinte tabela:\n",
    "\n",
    "| A | B | C | D | E | Resultado|\n",
    "|:-----:|:-----:|:-----:|:-----:|:-----:|:-----:|\n",
    "|Sim|Sim|Não|Não|Sim|Dengue|\n",
    "|Sim|Sim|Sim|Sim|Não|Gripe|\n",
    "|Não|Sim|Sim|Sim|Não|Gripe|\n",
    "|Sim|Não|Não|Não|Não|Sem doenças|\n",
    "|Não|Não|Não|Não|Não|Sem doenças|"
   ]
  },
  {
   "cell_type": "code",
   "execution_count": 39,
   "metadata": {},
   "outputs": [
    {
     "name": "stdout",
     "output_type": "stream",
     "text": [
      "Responda as perguntas com sim ou não. \n",
      "Digite 1 para sim e 0 para não!\n",
      "Sente dor no corpo? [1/0]: 1\n",
      "Você tem febre? [1/0]: 1\n",
      "Você tem tosse? [1/0]: 0\n",
      "Está com congestão nasal? [1/0]: 0\n",
      "Tem manchas pelo corpo? [1/0]: 1\n",
      "O diagnóstico é Dengue!\n"
     ]
    }
   ],
   "source": [
    "print('Responda as perguntas com sim ou não. \\nDigite 1 para sim e 0 para não!')\n",
    "\n",
    "a = int(input('Sente dor no corpo? [1/0]: '))\n",
    "b = int(input('Você tem febre? [1/0]: '))\n",
    "c = int(input('Você tem tosse? [1/0]: '))\n",
    "d = int(input('Está com congestão nasal? [1/0]: '))\n",
    "e = int(input('Tem manchas pelo corpo? [1/0]: '))\n",
    "\n",
    "resultado = [a,b,c,d,e]\n",
    "\n",
    "if resultado == [1,1,0,0,1]:\n",
    "    print('O diagnóstico é Dengue!')\n",
    "elif resultado == [1,1,1,1,0]:\n",
    "    print('O diagnóstico é Gripe!')\n",
    "elif resultado == [0,1,1,1,0]:\n",
    "    print('O diagnóstico é Gripe!')\n",
    "elif resultado == [1,0,0,0,0]:\n",
    "    print('O paciente está Sem Doenças!')\n",
    "elif resultado == [0,0,0,0,0]:\n",
    "    print('O paciente está Sem Doenças!')\n",
    "else:\n",
    "    print('Não foi póssivel inferir nada com o resultado.')\n",
    "    "
   ]
  },
  {
   "cell_type": "code",
   "execution_count": 46,
   "metadata": {},
   "outputs": [],
   "source": [
    "#FIM"
   ]
  },
  {
   "cell_type": "markdown",
   "metadata": {},
   "source": [
    "---\n",
    "\n",
    "## Para evoluir! 🚀"
   ]
  },
  {
   "cell_type": "markdown",
   "metadata": {},
   "source": [
    "**01. Faça um programa que peça as 4 notas bimestrais de um aluno e mostre a média aritmética delas.**"
   ]
  },
  {
   "cell_type": "code",
   "execution_count": null,
   "metadata": {},
   "outputs": [],
   "source": [
    "n_1 = float(input('Digite a primeira nota: '))\n",
    "n_2 = float(input('Digite a segunda nota: '))\n",
    "n_3 = float(input('Digite a terceira nota: '))\n",
    "n_4 = float(input('Digite a quarta nota: '))\n",
    "\n",
    "media = ( n_1 + n_2 + n_3 + n_4 ) / 4\n",
    "print('A média das notas é', media)"
   ]
  },
  {
   "cell_type": "markdown",
   "metadata": {},
   "source": [
    "**02. Faça um programa que peça o raio de um círculo, calcule e mostre sua área.**\n",
    "\n",
    "> Obs: Fórmula da área de um círculo: $A = 3,14 \\times r^2$, onde $r$ é o raio."
   ]
  },
  {
   "cell_type": "code",
   "execution_count": 40,
   "metadata": {},
   "outputs": [
    {
     "name": "stdout",
     "output_type": "stream",
     "text": [
      "Digite o raio do círculo: 3\n",
      "A área do círculu é 9.4239 [unidadesArea]\n"
     ]
    }
   ],
   "source": [
    "raio = float(input('Digite o raio do círculo: '))\n",
    "area = raio * 3.1413\n",
    "print('A área do círculu é', area, '[unidadesArea]')"
   ]
  },
  {
   "cell_type": "markdown",
   "metadata": {},
   "source": [
    "**03. Faça um programa que pergunte quanto você ganha por hora e o número de horas trabalhadas no mês e depois, calcule e mostre o total do seu salário no referido mês.**"
   ]
  },
  {
   "cell_type": "code",
   "execution_count": 41,
   "metadata": {},
   "outputs": [
    {
     "name": "stdout",
     "output_type": "stream",
     "text": [
      "Digite a sua remuneração por hora [R$/h]: 1\n",
      "Digite o total de horas trabalhadas no mês [h]: 1\n",
      "O salário ao final do mês é de R$ 1.0\n"
     ]
    }
   ],
   "source": [
    "real_hora = float(input('Digite a sua remuneração por hora [R$/h]: '))\n",
    "horas = float(input('Digite o total de horas trabalhadas no mês [h]: '))\n",
    "salario = real_hora * horas\n",
    "print('O salário ao final do mês é de R$',salario)"
   ]
  },
  {
   "cell_type": "markdown",
   "metadata": {},
   "source": [
    "**04. Faça um programa que peça o dia, o mês e o ano para o usuário e imprima a data completa no formato `dd/mm/aaaa`.**\n",
    "\n",
    "> Utilize apenas o `print` para imprimir com essa formatação."
   ]
  },
  {
   "cell_type": "code",
   "execution_count": 45,
   "metadata": {
    "scrolled": true
   },
   "outputs": [
    {
     "name": "stdout",
     "output_type": "stream",
     "text": [
      "Digite o dia [DD]: 10\n",
      "Digite o mês [MM]: 11\n",
      "Digite o ano [AAAA]: 1993\n",
      "A data é 10/11/1993\n"
     ]
    }
   ],
   "source": [
    "#Assumindo que o usuário tem a consciência data é numerico \n",
    "dia = input('Digite o dia [DD]: ')\n",
    "mes = input('Digite o mês [MM]: ')\n",
    "ano = input('Digite o ano [AAAA]: ')\n",
    "print('A data é ' + dia + '/' + mes + '/' + ano)\n"
   ]
  },
  {
   "cell_type": "markdown",
   "metadata": {},
   "source": [
    "**05. Faça um programa que peça 2 números inteiros e um número real, calcule e mostre:**\n",
    "\n",
    "a) o produto do dobro do primeiro com metade do segundo.  \n",
    "b) a soma do triplo do primeiro com o terceiro.  \n",
    "c) o terceiro elevado ao cubo.  "
   ]
  },
  {
   "cell_type": "code",
   "execution_count": 48,
   "metadata": {},
   "outputs": [
    {
     "name": "stdout",
     "output_type": "stream",
     "text": [
      "1 - Digite um número inteiro: 1\n",
      "2 - Digite um segundo número inteiro: 2\n",
      "3 - Digite um número real: 3\n",
      "O produto do dobro do primeiro com metade do segundo: 2.0\n",
      "A soma do triplo do primeiro com o terceiro: 6.0\n",
      "O terceiro elevado ao cubo: 27.0\n"
     ]
    }
   ],
   "source": [
    "n1 = int(input('1 - Digite um número inteiro: '))\n",
    "n2 = int(input('2 - Digite um segundo número inteiro: '))\n",
    "n3 = float(input('3 - Digite um número real: '))\n",
    "\n",
    "A = (2*n1)*(n2/2)\n",
    "B = (3*n1)+n3\n",
    "C = n3**3\n",
    "\n",
    "print(\"O produto do dobro do primeiro com metade do segundo:\",A)\n",
    "print(\"A soma do triplo do primeiro com o terceiro:\",B)\n",
    "print(\"O terceiro elevado ao cubo:\",C)"
   ]
  },
  {
   "cell_type": "markdown",
   "metadata": {},
   "source": [
    "**06. Faça um programa que peça o peso e altura de uma pessoa e calcule seu IMC (Índice de Massa Corporal).**\n",
    "\n",
    "$$\\textrm{IMC} = \\frac{\\textrm{Peso}}{\\textrm{Altura}^2}$$"
   ]
  },
  {
   "cell_type": "code",
   "execution_count": 52,
   "metadata": {},
   "outputs": [
    {
     "name": "stdout",
     "output_type": "stream",
     "text": [
      "Digite o seu peso [Kg]: 100\n",
      "Digite sua altura [m]: 1.8\n",
      "O seu IMC é: 30.864197530864196\n"
     ]
    }
   ],
   "source": [
    "peso = float(input('Digite o seu peso [Kg]: '))\n",
    "altura = float(input('Digite sua altura [m]: '))\n",
    "IMC = peso/(altura**2)\n",
    "print(\"O seu IMC é:\",IMC)"
   ]
  },
  {
   "cell_type": "markdown",
   "metadata": {},
   "source": [
    "**07. Faça um programa que peça um número e mostre se ele é positivo ou negativo.**"
   ]
  },
  {
   "cell_type": "code",
   "execution_count": 54,
   "metadata": {},
   "outputs": [
    {
     "name": "stdout",
     "output_type": "stream",
     "text": [
      "Digite um número real: -10\n",
      "O número é negativo!\n"
     ]
    }
   ],
   "source": [
    "num = float(input('Digite um número real: '))\n",
    "if num>=0:\n",
    "    print('O número é positivo!')\n",
    "else:\n",
    "    print('O número é negativo!')"
   ]
  },
  {
   "cell_type": "markdown",
   "metadata": {},
   "source": [
    "**08. Escreva um programa que peça a nota de 3 provas de um aluno e mostre se ele passou ou não de ano.**\n",
    "\n",
    "> Obs.: O aluno irá passar de ano se a média das suas notas for maior ou igual a 6 (média é a soma das notas dividido pelo número de provas)."
   ]
  },
  {
   "cell_type": "code",
   "execution_count": 56,
   "metadata": {},
   "outputs": [
    {
     "name": "stdout",
     "output_type": "stream",
     "text": [
      "Digite a primeira nota: 10\n",
      "Digite a segunda nota: 2\n",
      "Digite a terceira nota: 8\n",
      "O aluno passou!\n"
     ]
    }
   ],
   "source": [
    "n_1 = float(input('Digite a primeira nota: '))\n",
    "n_2 = float(input('Digite a segunda nota: '))\n",
    "n_3 = float(input('Digite a terceira nota: '))\n",
    "\n",
    "media = ( n_1 + n_2 + n_3 ) / 3\n",
    "if media>=6:\n",
    "    print('O aluno passou!')\n",
    "else:\n",
    "    print('O aluno foi reprovado!')"
   ]
  },
  {
   "cell_type": "markdown",
   "metadata": {},
   "source": [
    "**09. Faça um programa que mostre uma questão de múltipla escolha com 5 opções (letras a, b, c, d, e). Sabendo a resposta certa, o programa deve receber a opção do usuário e informar a letra que o usuário marcou e se a resposta está certa ou errada.**"
   ]
  },
  {
   "cell_type": "code",
   "execution_count": 59,
   "metadata": {},
   "outputs": [
    {
     "name": "stdout",
     "output_type": "stream",
     "text": [
      "\n",
      "Qual a raiz quadrada de 144?\n",
      "a.14\n",
      "b.13\n",
      "c.12\n",
      "d.11\n",
      "e.10\n",
      "\n",
      "Escolha sua resposta entre a b c d e\n",
      "\n",
      "Qual a resposta certa?: e\n",
      "Resposta errada!\n"
     ]
    }
   ],
   "source": [
    "print('''\n",
    "Qual a raiz quadrada de 144?\n",
    "a.14\n",
    "b.13\n",
    "c.12\n",
    "d.11\n",
    "e.10\n",
    "\n",
    "Escolha sua resposta entre a b c d e\n",
    "''')\n",
    "resposta = input('Qual a resposta certa?: ')\n",
    "if resposta == 'c':\n",
    "    print('Você acertou!')\n",
    "else:\n",
    "    print('Resposta errada!')"
   ]
  },
  {
   "cell_type": "markdown",
   "metadata": {},
   "source": [
    "**10. Faça um programa em que o usuário tem que adivinhar o número escolhido pelo computador. O computador deve sortear um número inteiro de 1 a 5 e pedir para o usuário tentar descobrir qual o número sorteado. Após o usuário digitar sua resposta, o programa deve dizer se ele acertou ou não.**\n",
    "\n",
    "> Dica: para sortear um número, você precisará utilizar a biblioteca random."
   ]
  },
  {
   "cell_type": "code",
   "execution_count": 83,
   "metadata": {},
   "outputs": [
    {
     "name": "stdout",
     "output_type": "stream",
     "text": [
      "Tente adivinhar o número gerado!\n",
      "Digite um número entre 1 e 5: 2\n",
      "Acertou!\n"
     ]
    }
   ],
   "source": [
    "import random\n",
    "aleatorio = random.randint(1, 5)\n",
    "print('Tente adivinhar o número gerado!')\n",
    "numero = int(input('Digite um número entre 1 e 5: '))\n",
    "if numero == aleatorio:\n",
    "    print('Acertou!')\n",
    "else:\n",
    "    print('Errou, o número certo era',aleatorio)\n"
   ]
  },
  {
   "cell_type": "markdown",
   "metadata": {},
   "source": [
    "**11. Vamos fazer um radar eletrônico de velocidade. Faça um programa que leia a velocidade de um carro, e diga se ele está acima ou não da velocidade permitida de 50 km/h. Se o carro estiver acima da velocidade, o programa deve imprimir que o motorista ultrapassou a velocidade permitida e recebeu uma multa num determinado valor. Para calcular o valor da multa, considere que para cada quilômetro acima da velocidade permitida, o motorista deve pagar 10 reais.**"
   ]
  },
  {
   "cell_type": "code",
   "execution_count": 88,
   "metadata": {},
   "outputs": [
    {
     "name": "stdout",
     "output_type": "stream",
     "text": [
      "A velocidade máxima permitida é 50 Km/h\n",
      "Velocidade do carro [km/h]: 50\n",
      "O carro está em uma velocidade permitida!\n"
     ]
    }
   ],
   "source": [
    "#Radar\n",
    "print('A velocidade máxima permitida é 50 Km/h')\n",
    "velocidade_carro = float(input('Velocidade do carro [km/h]: '))\n",
    "if velocidade_carro>50:\n",
    "    multa = (velocidade_carro-50)*10\n",
    "    print('Velocidade acima da máxima permitida!')\n",
    "    print('A multa é de R$',multa)\n",
    "else:\n",
    "    print('O carro está em uma velocidade permitida!')"
   ]
  },
  {
   "cell_type": "markdown",
   "metadata": {},
   "source": [
    "**12. Com a recomendação que as pessoas fiquem em casa e evitem aglomerações como medida pra frear a contaminação pelo coronavírus, como saber quando devemos procurar um hospital? Faça um programa que pergunte os sintomas que a pessoa apresenta e responda se ela deve ou não procurar um hospital.**\n",
    "\n",
    "Sintomas:\n",
    "\n",
    "A. Você tem febre persistente?  \n",
    "B. Você tem dificuldade para respirar?  \n",
    "\n",
    "A resposta do programa deve seguir a seguinte tabela:\n",
    "\n",
    "|A|B|Resultado|\n",
    "|---|---|---|\n",
    "|Sim | Não | Fique em casa|\n",
    "|Não | Sim | Fique em casa|\n",
    "|Não | Não | Fique em casa|\n",
    "|Sim | Sim | Procure um hospital|"
   ]
  },
  {
   "cell_type": "code",
   "execution_count": 61,
   "metadata": {},
   "outputs": [
    {
     "name": "stdout",
     "output_type": "stream",
     "text": [
      "Responda as perguntas com sim ou não. \n",
      "Digite 1 para sim e 0 para não!\n",
      "Sente dor no corpo? [1/0]: 0\n",
      "Você tem febre? [1/0]: 0\n",
      "Fique em casa!\n"
     ]
    }
   ],
   "source": [
    "print('Responda as perguntas com sim ou não. \\nDigite 1 para sim e 0 para não!')\n",
    "\n",
    "a = int(input('Sente dor no corpo? [1/0]: '))\n",
    "b = int(input('Você tem febre? [1/0]: '))\n",
    "\n",
    "resultado = [a,b]\n",
    "\n",
    "if resultado == [1,0]:\n",
    "    print('Fique em casa!')\n",
    "elif resultado == [0,1]:\n",
    "    print('Fique em casa!')\n",
    "elif resultado == [0,0]:\n",
    "    print('Fique em casa!')\n",
    "elif resultado == [1,1]:\n",
    "    print('Procure um hospital!')\n",
    "else:\n",
    "    print('Não foi póssivel inferir nada com o resultado.')\n",
    "    "
   ]
  },
  {
   "cell_type": "markdown",
   "metadata": {},
   "source": [
    "**13. Faça um programa que informe a data e a hora atual para o usuário.**"
   ]
  },
  {
   "cell_type": "code",
   "execution_count": 76,
   "metadata": {},
   "outputs": [
    {
     "name": "stdout",
     "output_type": "stream",
     "text": [
      "A dia de hoje é 14 / 12 / 2021\n",
      "A hora atual é: 11 h\n"
     ]
    }
   ],
   "source": [
    "#Datetime se faz necessário aqui\n",
    "import datetime\n",
    "currDate = datetime.datetime.now()\n",
    "print('A dia de hoje é',currDate.day,'/',currDate.month,'/',currDate.year)\n",
    "print('A hora atual é:',currDate.hour,'h')"
   ]
  },
  {
   "cell_type": "code",
   "execution_count": null,
   "metadata": {},
   "outputs": [],
   "source": []
  }
 ],
 "metadata": {
  "kernelspec": {
   "display_name": "Python 3",
   "language": "python",
   "name": "python3"
  },
  "language_info": {
   "codemirror_mode": {
    "name": "ipython",
    "version": 3
   },
   "file_extension": ".py",
   "mimetype": "text/x-python",
   "name": "python",
   "nbconvert_exporter": "python",
   "pygments_lexer": "ipython3",
   "version": "3.8.8"
  }
 },
 "nbformat": 4,
 "nbformat_minor": 2
}
