{
 "cells": [
  {
   "cell_type": "markdown",
   "metadata": {},
   "source": [
    "# Exercícios\n",
    "### 02. Estruturas de Repetição e Listas\n",
    "\n",
    "---\n",
    "\n",
    "<img src=\"https://selecao.letscode.com.br/favicon.png\" width=\"40px\" style=\"position: absolute; top: 0px; right: 40px; border-radius: 5px;\" />"
   ]
  },
  {
   "cell_type": "markdown",
   "metadata": {},
   "source": [
    "### Para entregar! 🔥"
   ]
  },
  {
   "cell_type": "markdown",
   "metadata": {},
   "source": [
    "**01. Calcule a soma de até mil termos da série 1 + 1/2 + 1/4 + 1/8 + 1/16 + ...**\n",
    "\n",
    "Dica: Use três variáveis:\n",
    "\n",
    "- um contador, que começa em zero;  \n",
    "- uma variável para a soma de todos os termos, que também começa em zero;  \n",
    "- uma variável para cada termo, que começa em 1 e a cada loop é dividida por 2.  \n",
    "\n",
    "> A repetição da soma de mil termos pode ser feita com a função while contador < 1000.  "
   ]
  },
  {
   "cell_type": "code",
   "execution_count": 4,
   "metadata": {},
   "outputs": [
    {
     "name": "stdout",
     "output_type": "stream",
     "text": [
      "7.485470860550343\n"
     ]
    }
   ],
   "source": [
    "contador=0\n",
    "soma = 0\n",
    "termo_adicional = 1\n",
    "\n",
    "while contador < 1000:\n",
    "    contador+=1\n",
    "    termo_adicional  = 1/contador\n",
    "    soma = soma + termo_adicional \n",
    "print(soma)\n"
   ]
  },
  {
   "cell_type": "markdown",
   "metadata": {},
   "source": [
    "**02. Calcule a soma de mil termos dos inversos dos fatoriais:**\n",
    "\n",
    "$$\\frac{1}{1!} + \\frac{1}{2!} + \\frac{1}{3!} + \\frac{1}{4!} + \\dots$$\n",
    "\n",
    "Dica: Assim como no exercício anterior use três variáveis: um contador; uma variável para a soma; e uma variável para os termos. Lembre-se de que 4! = 4*3*2*1 que também é igual a 4*3!."
   ]
  },
  {
   "cell_type": "code",
   "execution_count": 37,
   "metadata": {
    "scrolled": true
   },
   "outputs": [
    {
     "name": "stdout",
     "output_type": "stream",
     "text": [
      "1.7182818284590455\n"
     ]
    }
   ],
   "source": [
    "contador=0\n",
    "soma = 0\n",
    "termo_adicional = 1\n",
    "\n",
    "while contador < 1000:\n",
    "    contador+=1\n",
    "    termo_adicional  = termo_adicional*contador  \n",
    "    soma = soma + 1/termo_adicional \n",
    "print(soma)"
   ]
  },
  {
   "cell_type": "markdown",
   "metadata": {},
   "source": [
    "**03. Faça um programa que imprima o maior e o menor número de uma lista, sem usar a função `min()` ou `max()`.**"
   ]
  },
  {
   "cell_type": "code",
   "execution_count": 81,
   "metadata": {},
   "outputs": [],
   "source": [
    "#Lista a ser analisada em max&min\n",
    "lista = [1,2,3,4,5,6,7,2,0,100,0,-1.3,-2.01,3,1,1,1,1]"
   ]
  },
  {
   "cell_type": "code",
   "execution_count": 78,
   "metadata": {},
   "outputs": [
    {
     "name": "stdout",
     "output_type": "stream",
     "text": [
      "O maior numero é 100\n",
      "O menor numero é -2.01\n"
     ]
    }
   ],
   "source": [
    "#Máximo\n",
    "for i in lista:\n",
    "    lista_interna = []\n",
    "    for elemento in lista:\n",
    "\n",
    "        if i>=elemento:\n",
    "            lista_interna.append(0)\n",
    "            \n",
    "        else:\n",
    "            lista_interna.append(1)\n",
    "\n",
    "    if sum(lista_interna) == 0:\n",
    "        print(f'O maior numero é {i}')\n",
    "        \n",
    "#Mímimo\n",
    "for i in lista:\n",
    "    lista_interna = []\n",
    "    for elemento in lista:\n",
    "\n",
    "        if i<=elemento:\n",
    "            lista_interna.append(0)\n",
    "            \n",
    "        else:\n",
    "            lista_interna.append(1)\n",
    "\n",
    "    if sum(lista_interna) == 0:\n",
    "        print(f'O menor numero é {i}')"
   ]
  },
  {
   "cell_type": "code",
   "execution_count": 80,
   "metadata": {},
   "outputs": [
    {
     "name": "stdout",
     "output_type": "stream",
     "text": [
      "O maior elemento da lista é 100\n",
      "O menor elemento da lista é -2.01\n"
     ]
    }
   ],
   "source": [
    "#Com Sort\n",
    "lista.sort()\n",
    "maior = lista[-1]\n",
    "menor = lista[0]\n",
    "print('O maior elemento da lista é', maior)\n",
    "print('O menor elemento da lista é', menor)"
   ]
  },
  {
   "cell_type": "markdown",
   "metadata": {},
   "source": [
    "**04. Utilizando a função max() faça um programa que imprima os três maiores números de uma lista.**"
   ]
  },
  {
   "cell_type": "code",
   "execution_count": 85,
   "metadata": {},
   "outputs": [
    {
     "name": "stdout",
     "output_type": "stream",
     "text": [
      "30\n",
      "20\n",
      "15\n"
     ]
    }
   ],
   "source": [
    "lista = [1,2,3,4,5,6,7,8,9,10,11,12,15,20,30]\n",
    "\n",
    "def max3(lista):\n",
    "    maxlista = lista.copy()\n",
    "    for i in range(3):\n",
    "        print(max(maxlista))\n",
    "        alfa = maxlista.index(max(maxlista))\n",
    "        maxlista.pop(alfa)\n",
    "\n",
    "#Executar a função\n",
    "max3(lista)"
   ]
  },
  {
   "cell_type": "markdown",
   "metadata": {},
   "source": [
    "**05. Faça um programa que pede para o usuário digitar o CPF e verifica se ele é válido. Para isso, primeiramente o programa deve multiplicar cada um dos 9 primeiros dígitos do CPF pelos números de 10 a 2 e somar todas as respostas. O resultado deve ser multiplicado por 10 e dividido por 11. O resto dessa divisão deve ser igual ao primeiro dígito verificador (10º dígito). Em seguida, o programa deve multiplicar cada um dos 10 primeiros dígitos do CPF pelos números de 11 a 2 e repetir o procedimento anterior para verificar o segundo dígito verificador.**b"
   ]
  },
  {
   "cell_type": "markdown",
   "metadata": {},
   "source": [
    "_Exemplo:_\n",
    "\n",
    "Se o CPF for 286.255.878-87 o programa deve fazer primeiro:\n",
    "\n",
    " x = (2\\*10 + 8\\*9 + 6\\*8 + 2\\*7 + 5\\*6 + 5\\*5 + 8\\*4 + 7\\*3 + 8\\*2)\n",
    " \n",
    "Em seguida, o programa deve testar se x\\*10%11 == 8 (o décimo número do CPF). Se sim, o programa deve calcular:\n",
    "\n",
    " x = (2\\*11 + 8\\*10 + 6\\*9 + 2\\*8 + 5\\*7 + 5\\*6 + 8\\*5 + 7\\*4 + 8\\*3 + 8\\*2)\n",
    " \n",
    "e verificar se x\\*10%11 == 7 (o décimo primeiro número do CPF)."
   ]
  },
  {
   "cell_type": "code",
   "execution_count": 107,
   "metadata": {},
   "outputs": [
    {
     "data": {
      "text/plain": [
       "189"
      ]
     },
     "execution_count": 107,
     "metadata": {},
     "output_type": "execute_result"
    }
   ],
   "source": [
    "x = 1*10 + 4*9 + 3*8 + 7*7 + 2*6 + 2*5 + 7*4 + 2*3 + 7*2\n",
    "x\n"
   ]
  },
  {
   "cell_type": "code",
   "execution_count": 192,
   "metadata": {},
   "outputs": [
    {
     "name": "stdout",
     "output_type": "stream",
     "text": [
      "Digite um CPF válido! Ele deve ter 11 digitos númericos!\n",
      "Digite o CPF: 124541241\n",
      "Digite um CPF válido! Ele deve ter 11 digitos númericos!\n",
      "Digite o CPF: 12345678910\n",
      "[1, 2, 3, 4, 5, 6, 7, 8, 9, 1, 0]\n",
      "CPF inválido!\n"
     ]
    }
   ],
   "source": [
    "#Funções\n",
    "#---------\n",
    "#Primeiro Verificador\n",
    "def V1(CPF):\n",
    "    contador1,soma1,check1=10,0,0\n",
    "    for numero in CPF[0:9]:\n",
    "        soma1 = soma1 + contador1*numero\n",
    "        contador1-=1\n",
    "    if (soma1*10)%11==CPF[9]:\n",
    "        check1 = 1\n",
    "        return 1\n",
    " \n",
    "#Segundo Verificado\n",
    "def V2(CPF):\n",
    "    contador2,soma2,check2=11,0,0\n",
    "    for numero in CPF[0:10]:\n",
    "        soma2 = soma2 + contador2*numero\n",
    "        contador2-=1\n",
    "\n",
    "    if (soma2*10)%11==CPF[10]:\n",
    "        check2 = 1\n",
    "        return 1\n",
    " \n",
    "\n",
    "#Main\n",
    "CPF_string='Num'\n",
    "condicao = False\n",
    "while condicao == False:\n",
    "    print('Digite um CPF válido! Ele deve ter 11 digitos númericos!')\n",
    "    CPF_string=input('Digite o CPF: ')\n",
    "    condicao = (CPF_string.isnumeric()==True) and (len(CPF_string)==11)\n",
    "\n",
    "CPF = [int(numero) for numero in CPF_string]\n",
    "\n",
    "print(CPF)\n",
    "#CPF = [1,4,3,7,2,2,7,2,7,9,0]   \n",
    "if(1==V1(CPF)):\n",
    "    print('1º Verificado!')\n",
    "    if (1==V2(CPF)):\n",
    "        print('2º Verificado! \\nCPF Válido!')\n",
    "    else:\n",
    "        print('CPF inválido!')\n",
    "else:\n",
    "    print('CPF inválido!')\n",
    "\n"
   ]
  },
  {
   "cell_type": "code",
   "execution_count": 191,
   "metadata": {},
   "outputs": [
    {
     "name": "stdout",
     "output_type": "stream",
     "text": [
      "['1', '2', '3', '4', '5', '6', '7', '8']\n"
     ]
    }
   ],
   "source": [
    "CPF ='12345678'\n",
    "h_letters = [ letter for letter in CPF ]\n",
    "print( h_letters)"
   ]
  },
  {
   "cell_type": "code",
   "execution_count": null,
   "metadata": {},
   "outputs": [],
   "source": []
  },
  {
   "cell_type": "code",
   "execution_count": null,
   "metadata": {
    "scrolled": true
   },
   "outputs": [],
   "source": []
  },
  {
   "cell_type": "markdown",
   "metadata": {},
   "source": [
    "---\n",
    "\n",
    "### Para evoluir! 🚀"
   ]
  },
  {
   "cell_type": "markdown",
   "metadata": {},
   "source": [
    "**01. Faça um programa que peça ao usuário um número e imprima todos os números de um até o número dado.**\n",
    "\n",
    "Exemplo:\n",
    "digite: 5\n",
    "\n",
    "imprime: 1 2 3 4 5"
   ]
  },
  {
   "cell_type": "code",
   "execution_count": 16,
   "metadata": {},
   "outputs": [
    {
     "name": "stdout",
     "output_type": "stream",
     "text": [
      "Digite num numero inteiro positivo: 5\n",
      "1\n",
      "2\n",
      "3\n",
      "4\n",
      "5\n"
     ]
    }
   ],
   "source": [
    "numero = int(input(\"Digite num numero inteiro positivo: \"))\n",
    "\n",
    "# Compreensão de lista\n",
    "lista_numero = [print(i+1) for i in range(numero)]"
   ]
  },
  {
   "cell_type": "markdown",
   "metadata": {},
   "source": [
    "**02. Peça ao usuário para digitar um número e imprima o fatorial de n.**"
   ]
  },
  {
   "cell_type": "code",
   "execution_count": null,
   "metadata": {},
   "outputs": [],
   "source": [
    "numero = int(input(\"Digite num numero inteiro positivo: \"))\n",
    "\n",
    "\n",
    "def fatorial(numero):\n",
    "    fatorial = numero-1\n",
    "    numero=numero-1"
   ]
  },
  {
   "cell_type": "markdown",
   "metadata": {},
   "source": [
    "**03. Peça ao usuário para digitar um número N e some todos os números de 1 a N utilizando o laço de repetição while.**"
   ]
  },
  {
   "cell_type": "code",
   "execution_count": 196,
   "metadata": {},
   "outputs": [
    {
     "name": "stdout",
     "output_type": "stream",
     "text": [
      "Digite num numero inteiro positivo: 3\n",
      "6\n"
     ]
    }
   ],
   "source": [
    "numero = int(input(\"Digite num numero inteiro positivo: \"))\n",
    "i=1\n",
    "soma=0\n",
    "while i<=numero:\n",
    "    soma = soma + i\n",
    "    i+=1\n",
    "print(soma)"
   ]
  },
  {
   "cell_type": "markdown",
   "metadata": {},
   "source": [
    "**04. Faça um programa que imprima a tabuada do 9 (de $9\\times 1$ a $9\\times 10$) usando `while`.**"
   ]
  },
  {
   "cell_type": "code",
   "execution_count": 201,
   "metadata": {},
   "outputs": [
    {
     "name": "stdout",
     "output_type": "stream",
     "text": [
      "A tabuada do 9: \n",
      "9 x 1 = 9\n",
      "9 x 2 = 18\n",
      "9 x 3 = 27\n",
      "9 x 4 = 36\n",
      "9 x 5 = 45\n",
      "9 x 6 = 54\n",
      "9 x 7 = 63\n",
      "9 x 8 = 72\n",
      "9 x 9 = 81\n",
      "9 x 10 = 90\n"
     ]
    }
   ],
   "source": [
    "i=1\n",
    "print('A tabuada do 9: ')\n",
    "while i<=10:\n",
    "    print(f'9 x {i} = {9*i}')\n",
    "    i+=1"
   ]
  },
  {
   "cell_type": "markdown",
   "metadata": {},
   "source": [
    "**05. Faça um programa, usando loops, que peça para um usuário digitar um número e que só finaliza quando o usuário digitar 0. Ao final imprima a soma de todos os números digitados.**"
   ]
  },
  {
   "cell_type": "code",
   "execution_count": 203,
   "metadata": {},
   "outputs": [
    {
     "name": "stdout",
     "output_type": "stream",
     "text": [
      "Digite um número: 1\n",
      "Digite um número: 2\n",
      "Digite um número: 0\n",
      "3.0\n"
     ]
    }
   ],
   "source": [
    "sumcum = 0\n",
    "numero = 1\n",
    "while numero!=0:\n",
    "    numero = float(input('Digite um número real: '))\n",
    "    sumcum = sumcum + numero\n",
    "print(sumcum)"
   ]
  },
  {
   "cell_type": "markdown",
   "metadata": {},
   "source": [
    "**06. Faça um programa que sorteia um número N e peça para o usuário adivinhar o número sorteado. A cada resposta errada, o seu programa deve imprimir um aviso dizendo que a resposta está errada e pedir novamente uma resposta ao usuário.**\n",
    "\n",
    "> Para a realização desse exercício, utilize alguma função da biblioteca random (e.g. randint())."
   ]
  },
  {
   "cell_type": "code",
   "execution_count": null,
   "metadata": {},
   "outputs": [],
   "source": []
  },
  {
   "cell_type": "markdown",
   "metadata": {},
   "source": [
    "**07. Faça um programa que peça para o usuário digitar a idade, o salário e o sexo de uma pessoa até que as entradas digitadas sejam válidas.**\n",
    "\n",
    "a. Idade: entre 0 e 150;  \n",
    "b. Salário: maior que 0;  \n",
    "c. Sexo: M, F ou Outro."
   ]
  },
  {
   "cell_type": "code",
   "execution_count": null,
   "metadata": {},
   "outputs": [],
   "source": []
  },
  {
   "cell_type": "markdown",
   "metadata": {},
   "source": [
    "**08. Crie uma lista qualquer e faça um programa que imprima cada elemento da lista usando o for.**"
   ]
  },
  {
   "cell_type": "code",
   "execution_count": 214,
   "metadata": {},
   "outputs": [
    {
     "name": "stdout",
     "output_type": "stream",
     "text": [
      "1\n",
      "2\n",
      "3\n",
      "4\n",
      "5\n"
     ]
    }
   ],
   "source": [
    "#For Normal\n",
    "lista = [1,2,3,4,5]\n",
    "for i in lista:\n",
    "    print(i)"
   ]
  },
  {
   "cell_type": "code",
   "execution_count": 215,
   "metadata": {},
   "outputs": [
    {
     "name": "stdout",
     "output_type": "stream",
     "text": [
      "1\n",
      "2\n",
      "3\n",
      "4\n",
      "5\n"
     ]
    }
   ],
   "source": [
    "#Listcomprehension\n",
    "numeros = [print(i) for i in lista]"
   ]
  },
  {
   "cell_type": "markdown",
   "metadata": {},
   "source": [
    "**09. Faça um programa que imprima todos os itens de uma lista usando while e compare com o exercício anterior.**"
   ]
  },
  {
   "cell_type": "code",
   "execution_count": 218,
   "metadata": {},
   "outputs": [
    {
     "name": "stdout",
     "output_type": "stream",
     "text": [
      "1\n",
      "2\n",
      "3\n",
      "4\n",
      "5\n"
     ]
    }
   ],
   "source": [
    "#While\n",
    "i = 0 \n",
    "while i<len(lista):\n",
    "    print(lista[i])\n",
    "    i+=1"
   ]
  },
  {
   "cell_type": "markdown",
   "metadata": {},
   "source": [
    "**10. Faça um programa que peça para o usuário digitar um número n e imprima uma lista com todos os números de 0 a n-1.**\n",
    "\n",
    "Exemplo: se o usuário digitar 5, o programa deve imprimir [0, 1, 2, 3, 4]"
   ]
  },
  {
   "cell_type": "code",
   "execution_count": 206,
   "metadata": {},
   "outputs": [
    {
     "name": "stdout",
     "output_type": "stream",
     "text": [
      "Digite num numero inteiro positivo: 5\n",
      "[0, 1, 2, 3, 4]\n"
     ]
    }
   ],
   "source": [
    "i = int(input('Digite num numero inteiro positivo: '))\n",
    "numeros = [i for i in range(5)]\n",
    "print(numeros)"
   ]
  },
  {
   "cell_type": "markdown",
   "metadata": {},
   "source": [
    "**11. Faça um programa que olhe todos os itens de uma lista e diga quantos deles são pares.**"
   ]
  },
  {
   "cell_type": "code",
   "execution_count": 213,
   "metadata": {},
   "outputs": [
    {
     "name": "stdout",
     "output_type": "stream",
     "text": [
      "O número total de pares é 4\n"
     ]
    }
   ],
   "source": [
    "lista = [1,2,3,4,5,6,7,8]\n",
    "numeros=[i for i in lista if i%2==0]\n",
    "print(f'O número total de pares é {len(numeros)}')"
   ]
  },
  {
   "cell_type": "markdown",
   "metadata": {},
   "source": [
    "**12. Faça um programa que, dadas duas listas de mesmo tamanho, crie uma nova lista com cada elemento igual a soma dos elementos da lista 1 com os da lista 2, na mesma posição.**\n",
    "\n",
    "Exemplo:\n",
    "\n",
    "Dadas lista1 = [1, 4, 5] e lista2 = [2, 2, 3], então lista3 = [1+2, 4+2, 5+3] = [3, 6, 8]"
   ]
  },
  {
   "cell_type": "code",
   "execution_count": 219,
   "metadata": {},
   "outputs": [
    {
     "name": "stdout",
     "output_type": "stream",
     "text": [
      "[4, 4, 10]\n"
     ]
    }
   ],
   "source": [
    "#For\n",
    "lista1 = [1,2,3]\n",
    "lista2 = [3,2,7]\n",
    "lista3 = []\n",
    "\n",
    "for i in range(len(lista1)):\n",
    "    soma = lista1[i]+lista2[i]\n",
    "    lista3.append(soma)\n",
    "    \n",
    "print(lista3)"
   ]
  },
  {
   "cell_type": "code",
   "execution_count": 222,
   "metadata": {},
   "outputs": [
    {
     "name": "stdout",
     "output_type": "stream",
     "text": [
      "[1, 5, 14]\n"
     ]
    }
   ],
   "source": [
    "#ListC\n",
    "lista1 = [-2,3,7]\n",
    "lista2 = [3,2,7]\n",
    "lista3 = [lista1[i]+lista2[i] for i in range(len(lista1))]\n",
    "print(lista3)"
   ]
  },
  {
   "cell_type": "markdown",
   "metadata": {},
   "source": [
    "**13. Faça um programa que dadas duas listas de mesmo tamanho, imprima o produto escalar entre elas.**\n",
    "\n",
    "> OBS: produto escalar é a soma do resultado da multiplicação entre o número na posição i da lista1 pelo número na posição i da lista2, com i variando de 0 ao tamanho da lista."
   ]
  },
  {
   "cell_type": "code",
   "execution_count": 235,
   "metadata": {},
   "outputs": [
    {
     "name": "stdout",
     "output_type": "stream",
     "text": [
      "O produto escalar é 28\n"
     ]
    }
   ],
   "source": [
    "#For\n",
    "lista1 = [1,2,3]\n",
    "lista2 = [3,2,7]\n",
    "lista3 = []\n",
    "\n",
    "for i in range(len(lista1)):\n",
    "    mult = lista1[i]*lista2[i]\n",
    "    lista3.append(mult)\n",
    "    \n",
    "print(f'O produto escalar é {sum(lista3)}')"
   ]
  },
  {
   "cell_type": "code",
   "execution_count": 236,
   "metadata": {},
   "outputs": [
    {
     "name": "stdout",
     "output_type": "stream",
     "text": [
      "O produto escalar é 49\n"
     ]
    }
   ],
   "source": [
    "#ListC\n",
    "lista1 = [-2,3,7]\n",
    "lista2 = [3,2,7]\n",
    "lista3 = [lista1[i]*lista2[i] for i in range(len(lista1))]\n",
    "print(f'O produto escalar é {sum(lista3)}')"
   ]
  },
  {
   "cell_type": "markdown",
   "metadata": {},
   "source": [
    "**14. Faça um programa que pede para o usuário digitar 5 números e, ao final, imprime uma lista com os 5 números digitados pelo usuário (sem converter os números para int ou float).**\n",
    "\n",
    "> Exemplo: Se o usuário digitar 1, 5, 2, 3, 6, o programa deve imprimir a lista ['1','5','2','3','6']"
   ]
  },
  {
   "cell_type": "code",
   "execution_count": 224,
   "metadata": {},
   "outputs": [
    {
     "name": "stdout",
     "output_type": "stream",
     "text": [
      "Digite 5 números!\n",
      "Digite o 1º: 1\n",
      "Digite o 2º: 2\n",
      "Digite o 3º: 3\n",
      "Digite o 4º: 4\n",
      "Digite o 5º: 5\n",
      "['1', '2', '3', '4', '5']\n"
     ]
    }
   ],
   "source": [
    "i=0\n",
    "lista=[]\n",
    "print('Digite 5 números!')\n",
    "while i<5:\n",
    "    elemento = input(f\"Digite o {1+i}º: \")\n",
    "    lista.append(elemento)\n",
    "    i+=1\n",
    "print(lista)"
   ]
  },
  {
   "cell_type": "code",
   "execution_count": 237,
   "metadata": {},
   "outputs": [
    {
     "name": "stdout",
     "output_type": "stream",
     "text": [
      "Digite um número: 1\n",
      "Digite um número: 2\n",
      "Digite um número: 3\n",
      "Digite um número: 4\n",
      "Digite um número: 5\n",
      "['1', '2', '3', '4', '5']\n"
     ]
    }
   ],
   "source": [
    "#LC\n",
    "lista = [input('Digite um número: ') for i in range(5) ]\n",
    "print(lista)"
   ]
  },
  {
   "cell_type": "markdown",
   "metadata": {},
   "source": [
    "**15. Faça um programa que peça as 4 notas bimestrais e mostre a média aritmética delas, usando listas.**"
   ]
  },
  {
   "cell_type": "code",
   "execution_count": 231,
   "metadata": {},
   "outputs": [
    {
     "name": "stdout",
     "output_type": "stream",
     "text": [
      "Digite as 4 notas bimestrais: \n",
      "Digite a 1º nota: 1\n",
      "Digite a 2º nota: 2\n",
      "Digite a 3º nota: 3\n",
      "Digite a 4º nota: 4\n",
      "A média das 4 notas foi 2.5\n"
     ]
    }
   ],
   "source": [
    "print('Digite as 4 notas bimestrais: ')\n",
    "lista = [float(input(f'Digite a {i+1}º nota: ')) for i in range(4) ]\n",
    "media  = sum(lista)/len(lista)\n",
    "print(f'A média das 4 notas foi {media}')"
   ]
  },
  {
   "cell_type": "markdown",
   "metadata": {},
   "source": [
    "**16. Sorteie uma lista de 10 números e imprima:**\n",
    "\n",
    "a.\tuma lista com os 4 primeiros números;  \n",
    "b.\tuma lista com os 5 últimos números;  \n",
    "c.\tuma lista contendo apenas os elementos das posições pares;  \n",
    "d.\tuma lista contendo apenas os elementos das posições ímpares;  \n",
    "e.\ta lista inversa da lista sorteada (isto é, uma lista que começa com o último elemento da lista sorteada e termina com o primeiro);  \n",
    "f.\tuma lista inversa dos 5 primeiros números;  \n",
    "g.\tuma lista inversa dos 5 últimos números.  "
   ]
  },
  {
   "cell_type": "code",
   "execution_count": 270,
   "metadata": {},
   "outputs": [
    {
     "name": "stdout",
     "output_type": "stream",
     "text": [
      "[1, 3, 3, 100]\n",
      "[11, 12, 13, 15, 20]\n",
      "[3, 100, 6, 8, 11, 13, 20]\n",
      "[1, 3, 5, 7, 9, 12, 15]\n",
      "[20, 15, 13, 12, 11, 9, 8, 7, 6, 5, 100, 3, 3, 1]\n",
      "[5, 100, 3, 3, 1]\n",
      "[20, 15, 13, 12, 11]\n"
     ]
    }
   ],
   "source": [
    "lista = [1,3,3,100,5,6,7,8,9,11,12,13,15,20]\n",
    "#a\n",
    "lista_4_ini = lista[0:4]\n",
    "print(lista_4_ini)\n",
    "#b\n",
    "lista_5_last = lista[-5:]\n",
    "print(lista_5_last)\n",
    "#c\n",
    "lista_par = [lista[i] for i in range(len(lista)) if (i+1)%2==0]\n",
    "print(lista_par)\n",
    "#d\n",
    "lista_impar = [lista[i] for i in range(len(lista)) if (i+1)%2!=0]\n",
    "print(lista_impar)\n",
    "#e\n",
    "lista_inversa = lista[::-1]\n",
    "print(lista_inversa)\n",
    "#f\n",
    "lista_5_ini_inversa = ((lista[0:5])[::-1])\n",
    "print(lista_5_ini_inversa)\n",
    "#f\n",
    "lista_5_last_inversa = ((lista[-5:])[::-1])\n",
    "print(lista_5_last_inversa)"
   ]
  },
  {
   "cell_type": "markdown",
   "metadata": {},
   "source": [
    "**17. Faça um programa que sorteia 10 números entre 0 e 100 e conte quantos números sorteados são maiores que 50.**"
   ]
  },
  {
   "cell_type": "markdown",
   "metadata": {},
   "source": []
  },
  {
   "cell_type": "markdown",
   "metadata": {},
   "source": [
    "**18. Faça um programa que sorteie 10 números entre 0 e 100 e imprima:**\n",
    "\n",
    "a.\to maior número sorteado;  \n",
    "b.\to menor número sorteado;  \n",
    "c.\ta média dos números sorteados;  \n",
    "d.\ta soma dos números sorteados.  "
   ]
  },
  {
   "cell_type": "code",
   "execution_count": null,
   "metadata": {},
   "outputs": [],
   "source": []
  },
  {
   "cell_type": "markdown",
   "metadata": {},
   "source": [
    "**19. Faça um programa que peça para o usuário digitar o nome e a idade de um aluno e o número de provas que esse aluno fez. Depois, o programa deve pedir para o usuário digitar as notas de cada prova do aluno. Ao final o programa deve imprimir uma lista contendo:**\n",
    "\n",
    "a.\tNome do aluno na posição 0;  \n",
    "b.\tIdade do aluno na posição 1;  \n",
    "c.\tUma lista com todas as notas na posição 2;  \n",
    "d.\tA média do aluno na posição 3;  \n",
    "e.\tTrue ou False, caso a média seja maior que 5 ou não, na posição 4.  \n",
    "\n",
    "> Dica: Use o que você fez nos exercícios anteriores para criar esse programa.\n"
   ]
  },
  {
   "cell_type": "code",
   "execution_count": null,
   "metadata": {},
   "outputs": [],
   "source": []
  },
  {
   "cell_type": "markdown",
   "metadata": {},
   "source": [
    "**20. Faça um programa como o do item anterior, porém que imprima a média sem considerar a maior e menor nota do aluno (nesse caso o número de provas precisa ser obrigatoriamente maior que dois).**\n",
    "\n",
    "> Dica: crie uma cópia com a lista de todas as notas antes de fazer a média."
   ]
  },
  {
   "cell_type": "markdown",
   "metadata": {},
   "source": []
  }
 ],
 "metadata": {
  "kernelspec": {
   "display_name": "Python 3",
   "language": "python",
   "name": "python3"
  },
  "language_info": {
   "codemirror_mode": {
    "name": "ipython",
    "version": 3
   },
   "file_extension": ".py",
   "mimetype": "text/x-python",
   "name": "python",
   "nbconvert_exporter": "python",
   "pygments_lexer": "ipython3",
   "version": "3.8.8"
  }
 },
 "nbformat": 4,
 "nbformat_minor": 2
}
