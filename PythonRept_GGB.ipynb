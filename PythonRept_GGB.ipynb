{
 "cells": [
  {
   "cell_type": "markdown",
   "metadata": {},
   "source": [
    "# Exercícios\n",
    "### 02. Estruturas de Repetição e Listas\n",
    "\n",
    "---\n",
    "\n",
    "<img src=\"https://selecao.letscode.com.br/favicon.png\" width=\"40px\" style=\"position: absolute; top: 0px; right: 40px; border-radius: 5px;\" />"
   ]
  },
  {
   "cell_type": "markdown",
   "metadata": {},
   "source": [
    "### Para entregar! 🔥"
   ]
  },
  {
   "cell_type": "markdown",
   "metadata": {},
   "source": [
    "**01. Calcule a soma de até mil termos da série 1 + 1/2 + 1/4 + 1/8 + 1/16 + ...**\n",
    "\n",
    "Dica: Use três variáveis:\n",
    "\n",
    "- um contador, que começa em zero;  \n",
    "- uma variável para a soma de todos os termos, que também começa em zero;  \n",
    "- uma variável para cada termo, que começa em 1 e a cada loop é dividida por 2.  \n",
    "\n",
    "> A repetição da soma de mil termos pode ser feita com a função while contador < 1000.  "
   ]
  },
  {
   "cell_type": "code",
   "execution_count": 4,
   "metadata": {},
   "outputs": [
    {
     "name": "stdout",
     "output_type": "stream",
     "text": [
      "7.485470860550343\n"
     ]
    }
   ],
   "source": [
    "contador=0\n",
    "soma = 0\n",
    "termo_adicional = 1\n",
    "\n",
    "while contador < 1000:\n",
    "    contador+=1\n",
    "    termo_adicional  = 1/contador\n",
    "    soma = soma + termo_adicional \n",
    "print(soma)\n"
   ]
  },
  {
   "cell_type": "markdown",
   "metadata": {},
   "source": [
    "**02. Calcule a soma de mil termos dos inversos dos fatoriais:**\n",
    "\n",
    "$$\\frac{1}{1!} + \\frac{1}{2!} + \\frac{1}{3!} + \\frac{1}{4!} + \\dots$$\n",
    "\n",
    "Dica: Assim como no exercício anterior use três variáveis: um contador; uma variável para a soma; e uma variável para os termos. Lembre-se de que 4! = 4*3*2*1 que também é igual a 4*3!."
   ]
  },
  {
   "cell_type": "code",
   "execution_count": 37,
   "metadata": {
    "scrolled": true
   },
   "outputs": [
    {
     "name": "stdout",
     "output_type": "stream",
     "text": [
      "1.7182818284590455\n"
     ]
    }
   ],
   "source": [
    "contador=0\n",
    "soma = 0\n",
    "termo_adicional = 1\n",
    "\n",
    "while contador < 1000:\n",
    "    contador+=1\n",
    "    termo_adicional  = termo_adicional*contador  \n",
    "    soma = soma + 1/termo_adicional \n",
    "print(soma)"
   ]
  },
  {
   "cell_type": "markdown",
   "metadata": {},
   "source": [
    "**03. Faça um programa que imprima o maior e o menor número de uma lista, sem usar a função `min()` ou `max()`.**"
   ]
  },
  {
   "cell_type": "code",
   "execution_count": 81,
   "metadata": {},
   "outputs": [],
   "source": [
    "#Lista a ser analisada em max&min\n",
    "lista = [1,2,3,4,5,6,7,2,0,100,0,-1.3,-2.01,3,1,1,1,1]"
   ]
  },
  {
   "cell_type": "code",
   "execution_count": 78,
   "metadata": {},
   "outputs": [
    {
     "name": "stdout",
     "output_type": "stream",
     "text": [
      "O maior numero é 100\n",
      "O menor numero é -2.01\n"
     ]
    }
   ],
   "source": [
    "#Máximo\n",
    "for i in lista:\n",
    "    lista_interna = []\n",
    "    for elemento in lista:\n",
    "\n",
    "        if i>=elemento:\n",
    "            lista_interna.append(0)\n",
    "            \n",
    "        else:\n",
    "            lista_interna.append(1)\n",
    "\n",
    "    if sum(lista_interna) == 0:\n",
    "        print(f'O maior numero é {i}')\n",
    "        \n",
    "#Mímimo\n",
    "for i in lista:\n",
    "    lista_interna = []\n",
    "    for elemento in lista:\n",
    "\n",
    "        if i<=elemento:\n",
    "            lista_interna.append(0)\n",
    "            \n",
    "        else:\n",
    "            lista_interna.append(1)\n",
    "\n",
    "    if sum(lista_interna) == 0:\n",
    "        print(f'O menor numero é {i}')"
   ]
  },
  {
   "cell_type": "code",
   "execution_count": 80,
   "metadata": {},
   "outputs": [
    {
     "name": "stdout",
     "output_type": "stream",
     "text": [
      "O maior elemento da lista é 100\n",
      "O menor elemento da lista é -2.01\n"
     ]
    }
   ],
   "source": [
    "#Com Sort\n",
    "lista.sort()\n",
    "maior = lista[-1]\n",
    "menor = lista[0]\n",
    "print('O maior elemento da lista é', maior)\n",
    "print('O menor elemento da lista é', menor)"
   ]
  },
  {
   "cell_type": "markdown",
   "metadata": {},
   "source": [
    "**04. Utilizando a função max() faça um programa que imprima os três maiores números de uma lista.**"
   ]
  },
  {
   "cell_type": "code",
   "execution_count": 85,
   "metadata": {},
   "outputs": [
    {
     "name": "stdout",
     "output_type": "stream",
     "text": [
      "30\n",
      "20\n",
      "15\n"
     ]
    }
   ],
   "source": [
    "lista = [1,2,3,4,5,6,7,8,9,10,11,12,15,20,30]\n",
    "\n",
    "def max3(lista):\n",
    "    maxlista = lista.copy()\n",
    "    for i in range(3):\n",
    "        print(max(maxlista))\n",
    "        alfa = maxlista.index(max(maxlista))\n",
    "        maxlista.pop(alfa)\n",
    "\n",
    "#Executar a função\n",
    "max3(lista)"
   ]
  },
  {
   "cell_type": "markdown",
   "metadata": {},
   "source": [
    "**05. Faça um programa que pede para o usuário digitar o CPF e verifica se ele é válido. Para isso, primeiramente o programa deve multiplicar cada um dos 9 primeiros dígitos do CPF pelos números de 10 a 2 e somar todas as respostas. O resultado deve ser multiplicado por 10 e dividido por 11. O resto dessa divisão deve ser igual ao primeiro dígito verificador (10º dígito). Em seguida, o programa deve multiplicar cada um dos 10 primeiros dígitos do CPF pelos números de 11 a 2 e repetir o procedimento anterior para verificar o segundo dígito verificador.**b"
   ]
  },
  {
   "cell_type": "markdown",
   "metadata": {},
   "source": [
    "_Exemplo:_\n",
    "\n",
    "Se o CPF for 286.255.878-87 o programa deve fazer primeiro:\n",
    "\n",
    " x = (2\\*10 + 8\\*9 + 6\\*8 + 2\\*7 + 5\\*6 + 5\\*5 + 8\\*4 + 7\\*3 + 8\\*2)\n",
    " \n",
    "Em seguida, o programa deve testar se x\\*10%11 == 8 (o décimo número do CPF). Se sim, o programa deve calcular:\n",
    "\n",
    " x = (2\\*11 + 8\\*10 + 6\\*9 + 2\\*8 + 5\\*7 + 5\\*6 + 8\\*5 + 7\\*4 + 8\\*3 + 8\\*2)\n",
    " \n",
    "e verificar se x\\*10%11 == 7 (o décimo primeiro número do CPF)."
   ]
  },
  {
   "cell_type": "code",
   "execution_count": 107,
   "metadata": {},
   "outputs": [
    {
     "data": {
      "text/plain": [
       "189"
      ]
     },
     "execution_count": 107,
     "metadata": {},
     "output_type": "execute_result"
    }
   ],
   "source": [
    "x = 1*10 + 4*9 + 3*8 + 7*7 + 2*6 + 2*5 + 7*4 + 2*3 + 7*2\n",
    "x\n"
   ]
  },
  {
   "cell_type": "code",
   "execution_count": 192,
   "metadata": {},
   "outputs": [
    {
     "name": "stdout",
     "output_type": "stream",
     "text": [
      "Digite um CPF válido! Ele deve ter 11 digitos númericos!\n",
      "Digite o CPF: 124541241\n",
      "Digite um CPF válido! Ele deve ter 11 digitos númericos!\n",
      "Digite o CPF: 12345678910\n",
      "[1, 2, 3, 4, 5, 6, 7, 8, 9, 1, 0]\n",
      "CPF inválido!\n"
     ]
    }
   ],
   "source": [
    "#Funções\n",
    "#---------\n",
    "#Primeiro Verificador\n",
    "def V1(CPF):\n",
    "    contador1,soma1,check1=10,0,0\n",
    "    for numero in CPF[0:9]:\n",
    "        soma1 = soma1 + contador1*numero\n",
    "        contador1-=1\n",
    "    if (soma1*10)%11==CPF[9]:\n",
    "        check1 = 1\n",
    "        return 1\n",
    " \n",
    "#Segundo Verificado\n",
    "def V2(CPF):\n",
    "    contador2,soma2,check2=11,0,0\n",
    "    for numero in CPF[0:10]:\n",
    "        soma2 = soma2 + contador2*numero\n",
    "        contador2-=1\n",
    "\n",
    "    if (soma2*10)%11==CPF[10]:\n",
    "        check2 = 1\n",
    "        return 1\n",
    " \n",
    "\n",
    "#Main\n",
    "CPF_string='Num'\n",
    "condicao = False\n",
    "while condicao == False:\n",
    "    print('Digite um CPF válido! Ele deve ter 11 digitos númericos!')\n",
    "    CPF_string=input('Digite o CPF: ')\n",
    "    condicao = (CPF_string.isnumeric()==True) and (len(CPF_string)==11)\n",
    "\n",
    "CPF = [int(numero) for numero in CPF_string]\n",
    "\n",
    "print(CPF)\n",
    "#CPF = [1,4,3,7,2,2,7,2,7,9,0]   \n",
    "if(1==V1(CPF)):\n",
    "    print('1º Verificado!')\n",
    "    if (1==V2(CPF)):\n",
    "        print('2º Verificado! \\nCPF Válido!')\n",
    "    else:\n",
    "        print('CPF inválido!')\n",
    "else:\n",
    "    print('CPF inválido!')\n",
    "\n"
   ]
  },
  {
   "cell_type": "code",
   "execution_count": 191,
   "metadata": {},
   "outputs": [
    {
     "name": "stdout",
     "output_type": "stream",
     "text": [
      "['1', '2', '3', '4', '5', '6', '7', '8']\n"
     ]
    }
   ],
   "source": [
    "CPF ='12345678'\n",
    "h_letters = [ letter for letter in CPF ]\n",
    "print( h_letters)"
   ]
  },
  {
   "cell_type": "code",
   "execution_count": null,
   "metadata": {},
   "outputs": [],
   "source": []
  },
  {
   "cell_type": "code",
   "execution_count": null,
   "metadata": {
    "scrolled": true
   },
   "outputs": [],
   "source": []
  },
  {
   "cell_type": "markdown",
   "metadata": {},
   "source": [
    "---\n",
    "\n",
    "### Para evoluir! 🚀"
   ]
  },
  {
   "cell_type": "markdown",
   "metadata": {},
   "source": [
    "**01. Faça um programa que peça ao usuário um número e imprima todos os números de um até o número dado.**\n",
    "\n",
    "Exemplo:\n",
    "digite: 5\n",
    "\n",
    "imprime: 1 2 3 4 5"
   ]
  },
  {
   "cell_type": "code",
   "execution_count": 16,
   "metadata": {},
   "outputs": [
    {
     "name": "stdout",
     "output_type": "stream",
     "text": [
      "Digite num numero inteiro positivo: 5\n",
      "1\n",
      "2\n",
      "3\n",
      "4\n",
      "5\n"
     ]
    }
   ],
   "source": [
    "numero = int(input(\"Digite num numero inteiro positivo: \"))\n",
    "\n",
    "# Compreensão de lista\n",
    "lista_numero = [print(i+1) for i in range(numero)]"
   ]
  },
  {
   "cell_type": "markdown",
   "metadata": {},
   "source": [
    "**02. Peça ao usuário para digitar um número e imprima o fatorial de n.**"
   ]
  },
  {
   "cell_type": "code",
   "execution_count": 329,
   "metadata": {},
   "outputs": [
    {
     "name": "stdout",
     "output_type": "stream",
     "text": [
      "Digite num numero inteiro positivo: 5\n",
      "120\n"
     ]
    }
   ],
   "source": [
    "numero = int(input(\"Digite num numero inteiro positivo: \"))\n",
    "\n",
    "def fat(numero):  \n",
    "    if numero==1 or numero==0:\n",
    "        print(1)\n",
    "    else:\n",
    "        fatorial=1\n",
    "        while 1<numero:\n",
    "            fatorial = fatorial*numero\n",
    "            numero-=1\n",
    "        print(fatorial)\n",
    "        \n",
    "fat(numero)"
   ]
  },
  {
   "cell_type": "markdown",
   "metadata": {},
   "source": [
    "**03. Peça ao usuário para digitar um número N e some todos os números de 1 a N utilizando o laço de repetição while.**"
   ]
  },
  {
   "cell_type": "code",
   "execution_count": 196,
   "metadata": {},
   "outputs": [
    {
     "name": "stdout",
     "output_type": "stream",
     "text": [
      "Digite num numero inteiro positivo: 3\n",
      "6\n"
     ]
    }
   ],
   "source": [
    "numero = int(input(\"Digite num numero inteiro positivo: \"))\n",
    "i=1\n",
    "soma=0\n",
    "while i<=numero:\n",
    "    soma = soma + i\n",
    "    i+=1\n",
    "print(soma)"
   ]
  },
  {
   "cell_type": "markdown",
   "metadata": {},
   "source": [
    "**04. Faça um programa que imprima a tabuada do 9 (de $9\\times 1$ a $9\\times 10$) usando `while`.**"
   ]
  },
  {
   "cell_type": "code",
   "execution_count": 201,
   "metadata": {},
   "outputs": [
    {
     "name": "stdout",
     "output_type": "stream",
     "text": [
      "A tabuada do 9: \n",
      "9 x 1 = 9\n",
      "9 x 2 = 18\n",
      "9 x 3 = 27\n",
      "9 x 4 = 36\n",
      "9 x 5 = 45\n",
      "9 x 6 = 54\n",
      "9 x 7 = 63\n",
      "9 x 8 = 72\n",
      "9 x 9 = 81\n",
      "9 x 10 = 90\n"
     ]
    }
   ],
   "source": [
    "i=1\n",
    "print('A tabuada do 9: ')\n",
    "while i<=10:\n",
    "    print(f'9 x {i} = {9*i}')\n",
    "    i+=1"
   ]
  },
  {
   "cell_type": "markdown",
   "metadata": {},
   "source": [
    "**05. Faça um programa, usando loops, que peça para um usuário digitar um número e que só finaliza quando o usuário digitar 0. Ao final imprima a soma de todos os números digitados.**"
   ]
  },
  {
   "cell_type": "code",
   "execution_count": 203,
   "metadata": {},
   "outputs": [
    {
     "name": "stdout",
     "output_type": "stream",
     "text": [
      "Digite um número: 1\n",
      "Digite um número: 2\n",
      "Digite um número: 0\n",
      "3.0\n"
     ]
    }
   ],
   "source": [
    "sumcum = 0\n",
    "numero = 1\n",
    "while numero!=0:\n",
    "    numero = float(input('Digite um número real: '))\n",
    "    sumcum = sumcum + numero\n",
    "print(sumcum)"
   ]
  },
  {
   "cell_type": "markdown",
   "metadata": {},
   "source": [
    "**06. Faça um programa que sorteia um número N e peça para o usuário adivinhar o número sorteado. A cada resposta errada, o seu programa deve imprimir um aviso dizendo que a resposta está errada e pedir novamente uma resposta ao usuário.**\n",
    "\n",
    "> Para a realização desse exercício, utilize alguma função da biblioteca random (e.g. randint())."
   ]
  },
  {
   "cell_type": "code",
   "execution_count": 334,
   "metadata": {},
   "outputs": [
    {
     "name": "stdout",
     "output_type": "stream",
     "text": [
      "Digite um número entre 1 e 6 para saber se você acertou\n",
      "Digite o numero: 1\n",
      "Tente novamente!\n",
      "Digite o numero: 2\n",
      "Tente novamente!\n",
      "Digite o numero: 3\n",
      "Tente novamente!\n",
      "Digite o numero: 4\n",
      "Tente novamente!\n",
      "Digite o numero: 5\n",
      "Você acertou!\n"
     ]
    }
   ],
   "source": [
    "import random\n",
    "numero_sorteado = random.randint(1, 6)\n",
    "numero = False\n",
    "print('Digite um número entre 1 e 6 para saber se você acertou')\n",
    "while numero_sorteado != numero:\n",
    "    numero = int(input('Digite o numero: '))\n",
    "    if numero == numero_sorteado:\n",
    "        print('Você acertou!')\n",
    "    else:\n",
    "        print('Tente novamente!')"
   ]
  },
  {
   "cell_type": "markdown",
   "metadata": {},
   "source": [
    "**07. Faça um programa que peça para o usuário digitar a idade, o salário e o sexo de uma pessoa até que as entradas digitadas sejam válidas.**\n",
    "\n",
    "a. Idade: entre 0 e 150;  \n",
    "b. Salário: maior que 0;  \n",
    "c. Sexo: M, F ou Outro."
   ]
  },
  {
   "cell_type": "code",
   "execution_count": 345,
   "metadata": {},
   "outputs": [
    {
     "name": "stdout",
     "output_type": "stream",
     "text": [
      "Digite a idade em anos: 11\n",
      "Digite o salário em R$: 11\n",
      "Digite um sexo [M/F/Outro]: M\n",
      "\n",
      "Idade 11 anos\n",
      " Salário R$11.0 \n",
      "O sexo é M\n"
     ]
    }
   ],
   "source": [
    "#idade\n",
    "criterio_idade=False\n",
    "while criterio_idade==False:\n",
    "    idade = int(input('Digite a idade em anos: '))\n",
    "    criterio_idade = (idade>0 and idade<150)\n",
    "    if criterio_idade==False:\n",
    "        print('Digite uma idade válida. Entre 0 e 150 anos!') \n",
    "        \n",
    "#salario\n",
    "criterio_salario=False\n",
    "while criterio_salario==False:\n",
    "    salario = float(input('Digite o salário em R$: '))\n",
    "    criterio_salario = (salario>0)\n",
    "    if criterio_salario==False:\n",
    "        print('Digite um valor positivo para salário!') \n",
    "        \n",
    "#sexo\n",
    "criterio_sexo=False\n",
    "while criterio_sexo==False:\n",
    "    sexo = (input('Digite um sexo [M/F/Outro]: '))\n",
    "    criterio_sexo = (sexo=='M' or sexo==\"F\" or sexo=='Outro')\n",
    "    if criterio_sexo==False:\n",
    "        print('Digite um sexo válida! [M/F/Outro]') \n",
    "        \n",
    "print(f'\\nIdade {idade} anos \\nSalário R${salario} \\nO sexo é {sexo}')"
   ]
  },
  {
   "cell_type": "markdown",
   "metadata": {},
   "source": [
    "**08. Crie uma lista qualquer e faça um programa que imprima cada elemento da lista usando o for.**"
   ]
  },
  {
   "cell_type": "code",
   "execution_count": 214,
   "metadata": {},
   "outputs": [
    {
     "name": "stdout",
     "output_type": "stream",
     "text": [
      "1\n",
      "2\n",
      "3\n",
      "4\n",
      "5\n"
     ]
    }
   ],
   "source": [
    "#For Normal\n",
    "lista = [1,2,3,4,5]\n",
    "for i in lista:\n",
    "    print(i)"
   ]
  },
  {
   "cell_type": "code",
   "execution_count": 215,
   "metadata": {},
   "outputs": [
    {
     "name": "stdout",
     "output_type": "stream",
     "text": [
      "1\n",
      "2\n",
      "3\n",
      "4\n",
      "5\n"
     ]
    }
   ],
   "source": [
    "#Listcomprehension\n",
    "numeros = [print(i) for i in lista]"
   ]
  },
  {
   "cell_type": "markdown",
   "metadata": {},
   "source": [
    "**09. Faça um programa que imprima todos os itens de uma lista usando while e compare com o exercício anterior.**"
   ]
  },
  {
   "cell_type": "code",
   "execution_count": 218,
   "metadata": {},
   "outputs": [
    {
     "name": "stdout",
     "output_type": "stream",
     "text": [
      "1\n",
      "2\n",
      "3\n",
      "4\n",
      "5\n"
     ]
    }
   ],
   "source": [
    "#While\n",
    "i = 0 \n",
    "while i<len(lista):\n",
    "    print(lista[i])\n",
    "    i+=1"
   ]
  },
  {
   "cell_type": "markdown",
   "metadata": {},
   "source": [
    "**10. Faça um programa que peça para o usuário digitar um número n e imprima uma lista com todos os números de 0 a n-1.**\n",
    "\n",
    "Exemplo: se o usuário digitar 5, o programa deve imprimir [0, 1, 2, 3, 4]"
   ]
  },
  {
   "cell_type": "code",
   "execution_count": 206,
   "metadata": {},
   "outputs": [
    {
     "name": "stdout",
     "output_type": "stream",
     "text": [
      "Digite num numero inteiro positivo: 5\n",
      "[0, 1, 2, 3, 4]\n"
     ]
    }
   ],
   "source": [
    "i = int(input('Digite num numero inteiro positivo: '))\n",
    "numeros = [i for i in range(5)]\n",
    "print(numeros)"
   ]
  },
  {
   "cell_type": "markdown",
   "metadata": {},
   "source": [
    "**11. Faça um programa que olhe todos os itens de uma lista e diga quantos deles são pares.**"
   ]
  },
  {
   "cell_type": "code",
   "execution_count": 213,
   "metadata": {},
   "outputs": [
    {
     "name": "stdout",
     "output_type": "stream",
     "text": [
      "O número total de pares é 4\n"
     ]
    }
   ],
   "source": [
    "lista = [1,2,3,4,5,6,7,8]\n",
    "numeros=[i for i in lista if i%2==0]\n",
    "print(f'O número total de pares é {len(numeros)}')"
   ]
  },
  {
   "cell_type": "markdown",
   "metadata": {},
   "source": [
    "**12. Faça um programa que, dadas duas listas de mesmo tamanho, crie uma nova lista com cada elemento igual a soma dos elementos da lista 1 com os da lista 2, na mesma posição.**\n",
    "\n",
    "Exemplo:\n",
    "\n",
    "Dadas lista1 = [1, 4, 5] e lista2 = [2, 2, 3], então lista3 = [1+2, 4+2, 5+3] = [3, 6, 8]"
   ]
  },
  {
   "cell_type": "code",
   "execution_count": 219,
   "metadata": {},
   "outputs": [
    {
     "name": "stdout",
     "output_type": "stream",
     "text": [
      "[4, 4, 10]\n"
     ]
    }
   ],
   "source": [
    "#For\n",
    "lista1 = [1,2,3]\n",
    "lista2 = [3,2,7]\n",
    "lista3 = []\n",
    "\n",
    "for i in range(len(lista1)):\n",
    "    soma = lista1[i]+lista2[i]\n",
    "    lista3.append(soma)\n",
    "    \n",
    "print(lista3)"
   ]
  },
  {
   "cell_type": "code",
   "execution_count": 222,
   "metadata": {},
   "outputs": [
    {
     "name": "stdout",
     "output_type": "stream",
     "text": [
      "[1, 5, 14]\n"
     ]
    }
   ],
   "source": [
    "#ListC\n",
    "lista1 = [-2,3,7]\n",
    "lista2 = [3,2,7]\n",
    "lista3 = [lista1[i]+lista2[i] for i in range(len(lista1))]\n",
    "print(lista3)"
   ]
  },
  {
   "cell_type": "markdown",
   "metadata": {},
   "source": [
    "**13. Faça um programa que dadas duas listas de mesmo tamanho, imprima o produto escalar entre elas.**\n",
    "\n",
    "> OBS: produto escalar é a soma do resultado da multiplicação entre o número na posição i da lista1 pelo número na posição i da lista2, com i variando de 0 ao tamanho da lista."
   ]
  },
  {
   "cell_type": "code",
   "execution_count": 235,
   "metadata": {},
   "outputs": [
    {
     "name": "stdout",
     "output_type": "stream",
     "text": [
      "O produto escalar é 28\n"
     ]
    }
   ],
   "source": [
    "#For\n",
    "lista1 = [1,2,3]\n",
    "lista2 = [3,2,7]\n",
    "lista3 = []\n",
    "\n",
    "for i in range(len(lista1)):\n",
    "    mult = lista1[i]*lista2[i]\n",
    "    lista3.append(mult)\n",
    "     \n",
    "print(f'O produto escalar é {sum(lista3)}')"
   ]
  },
  {
   "cell_type": "code",
   "execution_count": 236,
   "metadata": {},
   "outputs": [
    {
     "name": "stdout",
     "output_type": "stream",
     "text": [
      "O produto escalar é 49\n"
     ]
    }
   ],
   "source": [
    "#ListC\n",
    "lista1 = [-2,3,7]\n",
    "lista2 = [3,2,7]\n",
    "lista3 = [lista1[i]*lista2[i] for i in range(len(lista1))]\n",
    "print(f'O produto escalar é {sum(lista3)}')"
   ]
  },
  {
   "cell_type": "markdown",
   "metadata": {},
   "source": [
    "**14. Faça um programa que pede para o usuário digitar 5 números e, ao final, imprime uma lista com os 5 números digitados pelo usuário (sem converter os números para int ou float).**\n",
    "\n",
    "> Exemplo: Se o usuário digitar 1, 5, 2, 3, 6, o programa deve imprimir a lista ['1','5','2','3','6']"
   ]
  },
  {
   "cell_type": "code",
   "execution_count": 224,
   "metadata": {},
   "outputs": [
    {
     "name": "stdout",
     "output_type": "stream",
     "text": [
      "Digite 5 números!\n",
      "Digite o 1º: 1\n",
      "Digite o 2º: 2\n",
      "Digite o 3º: 3\n",
      "Digite o 4º: 4\n",
      "Digite o 5º: 5\n",
      "['1', '2', '3', '4', '5']\n"
     ]
    }
   ],
   "source": [
    "i=0\n",
    "lista=[]\n",
    "print('Digite 5 números!')\n",
    "while i<5:\n",
    "    elemento = input(f\"Digite o {1+i}º: \")\n",
    "    lista.append(elemento)\n",
    "    i+=1\n",
    "print(lista)"
   ]
  },
  {
   "cell_type": "code",
   "execution_count": 237,
   "metadata": {},
   "outputs": [
    {
     "name": "stdout",
     "output_type": "stream",
     "text": [
      "Digite um número: 1\n",
      "Digite um número: 2\n",
      "Digite um número: 3\n",
      "Digite um número: 4\n",
      "Digite um número: 5\n",
      "['1', '2', '3', '4', '5']\n"
     ]
    }
   ],
   "source": [
    "#LC\n",
    "lista = [input('Digite um número: ') for i in range(5) ]\n",
    "print(lista)"
   ]
  },
  {
   "cell_type": "markdown",
   "metadata": {},
   "source": [
    "**15. Faça um programa que peça as 4 notas bimestrais e mostre a média aritmética delas, usando listas.**"
   ]
  },
  {
   "cell_type": "code",
   "execution_count": 231,
   "metadata": {},
   "outputs": [
    {
     "name": "stdout",
     "output_type": "stream",
     "text": [
      "Digite as 4 notas bimestrais: \n",
      "Digite a 1º nota: 1\n",
      "Digite a 2º nota: 2\n",
      "Digite a 3º nota: 3\n",
      "Digite a 4º nota: 4\n",
      "A média das 4 notas foi 2.5\n"
     ]
    }
   ],
   "source": [
    "print('Digite as 4 notas bimestrais: ')\n",
    "lista = [float(input(f'Digite a {i+1}º nota: ')) for i in range(4) ]\n",
    "media  = sum(lista)/len(lista)\n",
    "print(f'A média das 4 notas foi {media}')"
   ]
  },
  {
   "cell_type": "markdown",
   "metadata": {},
   "source": [
    "**16. Sorteie uma lista de 10 números e imprima:**\n",
    "\n",
    "a.\tuma lista com os 4 primeiros números;  \n",
    "b.\tuma lista com os 5 últimos números;  \n",
    "c.\tuma lista contendo apenas os elementos das posições pares;  \n",
    "d.\tuma lista contendo apenas os elementos das posições ímpares;  \n",
    "e.\ta lista inversa da lista sorteada (isto é, uma lista que começa com o último elemento da lista sorteada e termina com o primeiro);  \n",
    "f.\tuma lista inversa dos 5 primeiros números;  \n",
    "g.\tuma lista inversa dos 5 últimos números.  "
   ]
  },
  {
   "cell_type": "code",
   "execution_count": 284,
   "metadata": {},
   "outputs": [
    {
     "name": "stdout",
     "output_type": "stream",
     "text": [
      "A lista orignal é [91, 90, 69, 43, 63, 84, 42, 44, 26, 45]\n",
      "\n",
      "a.uma lista com os 4 primeiros números\n",
      "[91, 90, 69, 43]\n",
      "b.uma lista com os 5 últimos números\n",
      "[84, 42, 44, 26, 45]\n",
      "c.uma lista contendo apenas os elementos das posições pares\n",
      "[90, 43, 84, 44, 45]\n",
      "d.uma lista contendo apenas os elementos das posições ímpares\n",
      "[91, 69, 63, 42, 26]\n",
      "e.a lista inversa da lista sorteada\n",
      "[45, 26, 44, 42, 84, 63, 43, 69, 90, 91]\n",
      "f.uma lista inversa dos 5 primeiros números\n",
      "[63, 43, 69, 90, 91]\n",
      "g.uma lista inversa dos 5 últimos números\n",
      "[45, 26, 44, 42, 84]\n"
     ]
    }
   ],
   "source": [
    "lista\n",
    "import random\n",
    "lista = [(random.randint(0, 100)) for i in range(10)]\n",
    "print(f'A lista orignal é {lista}\\n')\n",
    "\n",
    "#a\n",
    "print('a.uma lista com os 4 primeiros números')\n",
    "lista_4_ini = lista[0:4]\n",
    "print(lista_4_ini)\n",
    "#b\n",
    "print('b.uma lista com os 5 últimos números')\n",
    "lista_5_last = lista[-5:]\n",
    "print(lista_5_last)\n",
    "#c\n",
    "print('c.uma lista contendo apenas os elementos das posições pares')\n",
    "lista_par = [lista[i] for i in range(len(lista)) if (i+1)%2==0]\n",
    "print(lista_par)\n",
    "#d\n",
    "print('d.uma lista contendo apenas os elementos das posições ímpares')\n",
    "lista_impar = [lista[i] for i in range(len(lista)) if (i+1)%2!=0]\n",
    "print(lista_impar)\n",
    "#e\n",
    "print('e.a lista inversa da lista sorteada')\n",
    "lista_inversa = lista[::-1]\n",
    "print(lista_inversa)\n",
    "#f\n",
    "print('f.uma lista inversa dos 5 primeiros números')\n",
    "lista_5_ini_inversa = ((lista[0:5])[::-1])\n",
    "print(lista_5_ini_inversa)\n",
    "#g\n",
    "print('g.uma lista inversa dos 5 últimos números')\n",
    "lista_5_last_inversa = ((lista[-5:])[::-1])\n",
    "print(lista_5_last_inversa)"
   ]
  },
  {
   "cell_type": "markdown",
   "metadata": {},
   "source": [
    "**17. Faça um programa que sorteia 10 números entre 0 e 100 e conte quantos números sorteados são maiores que 50.**"
   ]
  },
  {
   "cell_type": "code",
   "execution_count": 293,
   "metadata": {},
   "outputs": [
    {
     "name": "stdout",
     "output_type": "stream",
     "text": [
      "[24, 29, 28, 48, 3, 45, 23, 35, 35, 54]\n",
      "[54]\n",
      "O total de número maiores que 50 é 1\n"
     ]
    }
   ],
   "source": [
    "import random\n",
    "\n",
    "sorteados = [(random.randint(0, 100)) for i in range(10)]\n",
    "total_maiores_50 = [i for i in sorteados if i>50]\n",
    "\n",
    "print(sorteados)\n",
    "print(total_maiores_50)\n",
    "print(f'O total de número maiores que 50 é {len(total_maiores_50)}')"
   ]
  },
  {
   "cell_type": "markdown",
   "metadata": {},
   "source": [
    "**18. Faça um programa que sorteie 10 números entre 0 e 100 e imprima:**\n",
    "\n",
    "a.\to maior número sorteado;  \n",
    "b.\to menor número sorteado;  \n",
    "c.\ta média dos números sorteados;  \n",
    "d.\ta soma dos números sorteados.  "
   ]
  },
  {
   "cell_type": "code",
   "execution_count": 292,
   "metadata": {},
   "outputs": [
    {
     "name": "stdout",
     "output_type": "stream",
     "text": [
      "[93, 1, 29, 1, 50, 4, 41, 13, 85, 6]\n",
      "O maior número sorteado é 93\n",
      "O menor número sorteado é 1\n",
      "A média dos número sortedos é 32.3\n",
      "A soma de todos os elementos da lista é 323\n"
     ]
    }
   ],
   "source": [
    "import random\n",
    "sorteados = [(random.randint(0, 100)) for i in range(10)]\n",
    "print(sorteados)\n",
    "\n",
    "print(f'O maior número sorteado é {max(sorteados)}')\n",
    "print(f'O menor número sorteado é {min(sorteados)}')\n",
    "print(f'A média dos número sortedos é {sum(sorteados)/len(sorteados)}')\n",
    "print(f'A soma de todos os elementos da lista é {sum(sorteados)}')\n"
   ]
  },
  {
   "cell_type": "markdown",
   "metadata": {},
   "source": [
    "**19. Faça um programa que peça para o usuário digitar o nome e a idade de um aluno e o número de provas que esse aluno fez. Depois, o programa deve pedir para o usuário digitar as notas de cada prova do aluno. Ao final o programa deve imprimir uma lista contendo:**\n",
    "\n",
    "a.\tNome do aluno na posição 0;  \n",
    "b.\tIdade do aluno na posição 1;  \n",
    "c.\tUma lista com todas as notas na posição 2;  \n",
    "d.\tA média do aluno na posição 3;  \n",
    "e.\tTrue ou False, caso a média seja maior que 5 ou não, na posição 4.  \n",
    "\n",
    "> Dica: Use o que você fez nos exercícios anteriores para criar esse programa.\n"
   ]
  },
  {
   "cell_type": "code",
   "execution_count": 302,
   "metadata": {},
   "outputs": [
    {
     "name": "stdout",
     "output_type": "stream",
     "text": [
      "Digite o nome do aluno: Piter\n",
      "Digite a idade do aluno em anos: 10\n",
      "Digite o numero de provas que o aluno fez: 2\n",
      "Digite a nota da prova1: 33\n",
      "Digite a nota da prova2: 20\n",
      "['Piter', 10, [33.0, 20.0], 26.5, True]\n"
     ]
    }
   ],
   "source": [
    "nome = input('Digite o nome do aluno: ')\n",
    "idade = int(input('Digite a idade do aluno em anos: '))\n",
    "numero_provas =int(input('Digite o numero de provas que o aluno fez: '))\n",
    "\n",
    "lista_provas=[]\n",
    "i=0\n",
    "while i<numero_provas:\n",
    "    nota = float(input(f'Digite a nota da prova{i+1}: '))\n",
    "    lista_provas.append(nota)\n",
    "    i+=1\n",
    "\n",
    "media = sum(lista_provas)/len(lista_provas)\n",
    "boleana = media>5    \n",
    "lista_final = [nome,idade,lista_provas,media,boleana]\n",
    "print(lista_final)"
   ]
  },
  {
   "cell_type": "markdown",
   "metadata": {},
   "source": [
    "**20. Faça um programa como o do item anterior, porém que imprima a média sem considerar a maior e menor nota do aluno (nesse caso o número de provas precisa ser obrigatoriamente maior que dois).**\n",
    "\n",
    "> Dica: crie uma cópia com a lista de todas as notas antes de fazer a média."
   ]
  },
  {
   "cell_type": "code",
   "execution_count": 320,
   "metadata": {},
   "outputs": [
    {
     "name": "stdout",
     "output_type": "stream",
     "text": [
      "Digite o nome do aluno: Furlam\n",
      "Digite a idade do aluno em anos: 50\n",
      "O número de provas deve ser maior ou igual a 3\n",
      "Digite o numero de provas que o aluno fez: 3\n",
      "Digite a nota da prova1: 10\n",
      "Digite a nota da prova2: 7\n",
      "Digite a nota da prova3: 4\n",
      "['Furlam', 50, [7.0], 7.0, True]\n"
     ]
    }
   ],
   "source": [
    "nome = input('Digite o nome do aluno: ')\n",
    "idade = int(input('Digite a idade do aluno em anos: '))\n",
    "print('O número de provas deve ser maior ou igual a 3')\n",
    "\n",
    "numero_provas = 0\n",
    "while numero_provas<3:\n",
    "    numero_provas =int(input('Digite o numero de provas que o aluno fez: '))\n",
    "\n",
    "lista_provas=[]\n",
    "i=0\n",
    "while i<numero_provas:\n",
    "    nota = float(input(f'Digite a nota da prova{i+1}: '))\n",
    "    lista_provas.append(nota)\n",
    "    i+=1\n",
    "    \n",
    "maximo=max(lista_provas)\n",
    "minimo=min(lista_provas)\n",
    "\n",
    "lista_sem = lista_provas.copy()\n",
    "lista_sem.pop(lista_sem.index(maximo))\n",
    "lista_sem.pop(lista_sem.index(minimo))\n",
    "\n",
    "media = sum(lista_sem)/len(lista_sem)\n",
    "boleana = media>5    \n",
    "lista_final = [nome,idade,lista_sem,media,boleana]\n",
    "print(lista_final)"
   ]
  },
  {
   "cell_type": "code",
   "execution_count": null,
   "metadata": {},
   "outputs": [],
   "source": []
  }
 ],
 "metadata": {
  "kernelspec": {
   "display_name": "Python 3",
   "language": "python",
   "name": "python3"
  },
  "language_info": {
   "codemirror_mode": {
    "name": "ipython",
    "version": 3
   },
   "file_extension": ".py",
   "mimetype": "text/x-python",
   "name": "python",
   "nbconvert_exporter": "python",
   "pygments_lexer": "ipython3",
   "version": "3.8.8"
  }
 },
 "nbformat": 4,
 "nbformat_minor": 2
}
