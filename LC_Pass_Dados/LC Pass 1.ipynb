{
 "cells": [
  {
   "cell_type": "markdown",
   "id": "43ed82f0",
   "metadata": {},
   "source": [
    "### Let's Code Pass Dados\n",
    "##### Exercícios Módulo 1 - Python\n"
   ]
  },
  {
   "cell_type": "markdown",
   "id": "dfa9874a",
   "metadata": {},
   "source": [
    "Faça um programa que peça um valor monetário e diminua-o em 15%. Seu \n",
    "programa deve imprimir a mensagem “O novo valor é [valor]”."
   ]
  },
  {
   "cell_type": "code",
   "execution_count": 1,
   "id": "17a00135",
   "metadata": {},
   "outputs": [
    {
     "name": "stdout",
     "output_type": "stream",
     "text": [
      "Digite um valor para ser reduzido em 15%: 100\n",
      "100.0\n"
     ]
    }
   ],
   "source": [
    "valor = float(input(\"Digite um valor para ser reduzido em 15%: \"))\n",
    "print(valor)"
   ]
  },
  {
   "cell_type": "code",
   "execution_count": null,
   "id": "56df3861",
   "metadata": {},
   "outputs": [],
   "source": []
  }
 ],
 "metadata": {
  "kernelspec": {
   "display_name": "Python 3 (ipykernel)",
   "language": "python",
   "name": "python3"
  },
  "language_info": {
   "codemirror_mode": {
    "name": "ipython",
    "version": 3
   },
   "file_extension": ".py",
   "mimetype": "text/x-python",
   "name": "python",
   "nbconvert_exporter": "python",
   "pygments_lexer": "ipython3",
   "version": "3.9.7"
  }
 },
 "nbformat": 4,
 "nbformat_minor": 5
}
