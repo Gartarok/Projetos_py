{
 "cells": [
  {
   "cell_type": "markdown",
   "id": "43ed82f0",
   "metadata": {},
   "source": [
    "### Let's Code Pass Dados\n",
    "##### Exercícios Módulo 1 - Python\n"
   ]
  },
  {
   "cell_type": "markdown",
   "id": "dfa9874a",
   "metadata": {},
   "source": [
    "1. Faça um programa que peça um valor monetário e diminua-o em 15%. Seu \n",
    "programa deve imprimir a mensagem “O novo valor é [valor]”."
   ]
  },
  {
   "cell_type": "code",
   "execution_count": 1,
   "id": "17a00135",
   "metadata": {},
   "outputs": [
    {
     "name": "stdout",
     "output_type": "stream",
     "text": [
      "Digite um valor para ser reduzido em 15%: 100\n",
      "100.0\n"
     ]
    }
   ],
   "source": [
    "valor = float(input(\"Digite um valor para ser reduzido em 15%: \"))\n",
    "print(valor)"
   ]
  },
  {
   "cell_type": "markdown",
   "id": "5cdd3027",
   "metadata": {},
   "source": [
    "2. Faça um programa que leia a validade das informações:  \n",
    "a. Idade: entre 0 e 150;  \n",
    "b. Salário: maior que 0;  \n",
    "c. Sexo: M, F ou Outro;  \n",
    "O programa deve imprimir uma mensagem de erro para cada informação \n",
    "inválida"
   ]
  },
  {
   "cell_type": "code",
   "execution_count": null,
   "id": "f242175d",
   "metadata": {},
   "outputs": [],
   "source": [
    "valor = float(input(\"Digite um valor para ser reduzido em 15%: \"))\n",
    "print(valor)"
   ]
  },
  {
   "cell_type": "markdown",
   "id": "1aa175aa",
   "metadata": {},
   "source": [
    "3. Vamos fazer um programa para verificar quem é o assassino de um crime. \n",
    "Para descobrir o assassino, a polícia faz um pequeno questionário com 5 \n",
    "perguntas onde a resposta só pode ser sim ou não:  \n",
    "a. Mora perto da vítima?  \n",
    "b. Já trabalhou com a vítima?  \n",
    "c. Telefonou para a vítima?  \n",
    "d. Esteve no local do crime?  \n",
    "e. Devia para a vítima?  \n",
    "Cada resposta sim dá um ponto para o suspeito. A polícia considera que os \n",
    "suspeitos com 5 pontos são os assassinos, com 4 a 3 pontos são cúmplices e \n",
    "2 pontos são apenas suspeitos, necessitando outras investigações. Valores \n",
    "iguais ou abaixo de 1 são liberados.  "
   ]
  },
  {
   "cell_type": "code",
   "execution_count": 2,
   "id": "639b9699",
   "metadata": {},
   "outputs": [
    {
     "name": "stdout",
     "output_type": "stream",
     "text": [
      "Responda com sim [1] ou não [0]\n",
      "Mora perto da vítima?: 0\n",
      "Já trabalhou com a vítima?: 0\n",
      "Telefonou para a vítima?: 0\n",
      "Esteve no local do crime?: 0\n",
      "Devia para a vítima?: 0\n",
      "Liberado!\n"
     ]
    }
   ],
   "source": [
    "print(\"Responda com sim [1] ou não [0]\")\n",
    "v1 = int(input(\"Mora perto da vítima?: \"))\n",
    "v2 = int(input(\"Já trabalhou com a vítima?: \"))\n",
    "v3 = int(input(\"Telefonou para a vítima?: \"))\n",
    "v4 = int(input(\"Esteve no local do crime?: \"))\n",
    "v5 = int(input(\"Devia para a vítima?: \"))\n",
    "\n",
    "soma = v1+v2+v3+v4+v5\n",
    "\n",
    "if soma == 5:\n",
    "    print('Assassino!')\n",
    "elif soma >=3:\n",
    "    print('Cúmplice!')\n",
    "elif soma >=2:\n",
    "    print('Suspeito!')\n",
    "else:\n",
    "    print('Liberado!')"
   ]
  },
  {
   "cell_type": "markdown",
   "id": "ed293d92",
   "metadata": {},
   "source": [
    "4. Faça um programa que imprima a tabuada do 9 (de 9x1 a 9x10) usando loops."
   ]
  },
  {
   "cell_type": "code",
   "execution_count": 3,
   "id": "68df6bfd",
   "metadata": {},
   "outputs": [
    {
     "name": "stdout",
     "output_type": "stream",
     "text": [
      "9\n",
      "18\n",
      "27\n",
      "36\n",
      "45\n",
      "54\n",
      "63\n",
      "72\n",
      "81\n",
      "90\n"
     ]
    }
   ],
   "source": [
    "for i in range(10):\n",
    "    print(9*(i+1))"
   ]
  },
  {
   "cell_type": "code",
   "execution_count": null,
   "id": "a1f895ed",
   "metadata": {},
   "outputs": [],
   "source": []
  }
 ],
 "metadata": {
  "kernelspec": {
   "display_name": "Python 3 (ipykernel)",
   "language": "python",
   "name": "python3"
  },
  "language_info": {
   "codemirror_mode": {
    "name": "ipython",
    "version": 3
   },
   "file_extension": ".py",
   "mimetype": "text/x-python",
   "name": "python",
   "nbconvert_exporter": "python",
   "pygments_lexer": "ipython3",
   "version": "3.9.7"
  }
 },
 "nbformat": 4,
 "nbformat_minor": 5
}
