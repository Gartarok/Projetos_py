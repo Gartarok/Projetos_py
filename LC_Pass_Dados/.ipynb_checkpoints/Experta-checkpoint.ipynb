{
 "cells": [
  {
   "cell_type": "code",
   "execution_count": 1,
   "id": "631134d0",
   "metadata": {},
   "outputs": [
    {
     "name": "stdout",
     "output_type": "stream",
     "text": [
      "Collecting experta\n",
      "  Downloading experta-1.9.4-py3-none-any.whl (35 kB)\n",
      "Collecting schema==0.6.7\n",
      "  Downloading schema-0.6.7-py2.py3-none-any.whl (14 kB)\n",
      "Collecting frozendict==1.2\n",
      "  Downloading frozendict-1.2.tar.gz (2.6 kB)\n",
      "Building wheels for collected packages: frozendict\n",
      "  Building wheel for frozendict (setup.py): started\n",
      "  Building wheel for frozendict (setup.py): finished with status 'done'\n",
      "  Created wheel for frozendict: filename=frozendict-1.2-py3-none-any.whl size=3166 sha256=9ac2521b59be46e9d21b112cac8396404f547c7dcf4946226a94356337ef2064\n",
      "  Stored in directory: c:\\users\\gartarok\\appdata\\local\\pip\\cache\\wheels\\5b\\fa\\ab\\0a80360debb57b95f092356ee3a075bbbffc631b9813136599\n",
      "Successfully built frozendict\n",
      "Installing collected packages: schema, frozendict, experta\n",
      "Successfully installed experta-1.9.4 frozendict-1.2 schema-0.6.7\n",
      "Note: you may need to restart the kernel to use updated packages.\n"
     ]
    }
   ],
   "source": [
    "pip install experta"
   ]
  },
  {
   "cell_type": "code",
   "execution_count": null,
   "id": "dfdb9895",
   "metadata": {},
   "outputs": [],
   "source": [
    "from random import choice\n",
    "from experta import *\n",
    "\n",
    "\n",
    "class Light(Fact):\n",
    "    \"\"\"Info about the traffic light.\"\"\"\n",
    "    pass\n",
    "\n",
    "\n",
    "class RobotCrossStreet(KnowledgeEngine):\n",
    "    @Rule(Light(color='green'))\n",
    "    def green_light(self):\n",
    "        print(\"Walk\")\n",
    "\n",
    "    @Rule(Light(color='red'))\n",
    "    def red_light(self):\n",
    "        print(\"Don't walk\")\n",
    "\n",
    "    @Rule(AS.light << Light(color=L('yellow') | L('blinking-yellow')))\n",
    "    def cautious(self, light):\n",
    "        print(\"Be cautious because light is\", light[\"color\"])"
   ]
  }
 ],
 "metadata": {
  "kernelspec": {
   "display_name": "Python 3 (ipykernel)",
   "language": "python",
   "name": "python3"
  },
  "language_info": {
   "codemirror_mode": {
    "name": "ipython",
    "version": 3
   },
   "file_extension": ".py",
   "mimetype": "text/x-python",
   "name": "python",
   "nbconvert_exporter": "python",
   "pygments_lexer": "ipython3",
   "version": "3.9.7"
  }
 },
 "nbformat": 4,
 "nbformat_minor": 5
}
