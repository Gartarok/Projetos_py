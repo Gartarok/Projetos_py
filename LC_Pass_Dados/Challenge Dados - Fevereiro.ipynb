{
 "cells": [
  {
   "cell_type": "markdown",
   "id": "99da50c0",
   "metadata": {},
   "source": [
    "### Conhecendo o Challenge\n",
    "Criptografia via método de substituição (Twist)\n",
    "Criptografia é uma área da Ciência da Computação que estuda os métodos de\n",
    "comunicação secreta que transformam uma mensagem (textoplano) em uma\n",
    "mensagem cifrada (textocifrado), de forma que apenas o real receptor da mensagem\n",
    "seja capaz de restaurar o seu conteúdo original.\n",
    "O ato de transformar uma mensagem em uma mensagem cifrada é chamado de\n",
    "codificação e o ato contrário é chamado de decodificação. Um método bastante\n",
    "simples de codificação é o Método Twist, que requer que ambos: remetente e receptor\n",
    "combinem uma chave secreta k, que deve ser um inteiro positivo (1, 2, 3, 4, ...).\n",
    "O Método Twist utiliza quatro listas: textoplano, textocifrado, codigoplano e\n",
    "cifradocodigo, sendo  textoplano e textocifrado listas de caracteres e codigoplano\n",
    "e cifradocodigo listas de inteiros. Todas as listas têm tamanho n, onde n é o tamanho\n",
    "da mensagem a ser codificada (as listas são iniciadas na posição zero de forma que\n",
    "seus elementos são numerados de 0 a n – 1). Para este problema, as mensagens\n",
    "apenas conterão letras minúsculas, pontos e “barra baixa” (underscore, representando\n",
    "espaço em branco"
   ]
  },
  {
   "cell_type": "code",
   "execution_count": null,
   "id": "66259a60",
   "metadata": {},
   "outputs": [],
   "source": [
    "#chave \n",
    "k = 1 "
   ]
  }
 ],
 "metadata": {
  "kernelspec": {
   "display_name": "Python 3 (ipykernel)",
   "language": "python",
   "name": "python3"
  },
  "language_info": {
   "codemirror_mode": {
    "name": "ipython",
    "version": 3
   },
   "file_extension": ".py",
   "mimetype": "text/x-python",
   "name": "python",
   "nbconvert_exporter": "python",
   "pygments_lexer": "ipython3",
   "version": "3.9.7"
  }
 },
 "nbformat": 4,
 "nbformat_minor": 5
}
