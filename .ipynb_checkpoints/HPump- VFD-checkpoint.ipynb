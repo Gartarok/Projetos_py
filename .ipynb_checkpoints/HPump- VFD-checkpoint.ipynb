{
 "cells": [
  {
   "cell_type": "markdown",
   "id": "69e73bda",
   "metadata": {},
   "source": [
    "## Algoritimo de variação de frequencia de bomba hidraulica"
   ]
  },
  {
   "cell_type": "markdown",
   "id": "1fe8ede7",
   "metadata": {},
   "source": [
    "-------------------------------"
   ]
  },
  {
   "cell_type": "code",
   "execution_count": 2,
   "id": "d5b91893",
   "metadata": {},
   "outputs": [],
   "source": [
    "import pandas as pd\n",
    "import matplotlib.pyplot as plt\n",
    "import plotly.graph_objects as go\n",
    "import numpy as np\n",
    "import numpy.polynomial.polynomial as poly"
   ]
  },
  {
   "cell_type": "code",
   "execution_count": 3,
   "id": "b5bcbc48",
   "metadata": {},
   "outputs": [],
   "source": [
    "#fatiar cada parte e colocar no python"
   ]
  },
  {
   "cell_type": "markdown",
   "id": "20a6cac6",
   "metadata": {},
   "source": [
    "### Dados do sistema elétrico"
   ]
  },
  {
   "cell_type": "code",
   "execution_count": 37,
   "id": "e6913ee8",
   "metadata": {},
   "outputs": [],
   "source": [
    "#Rotações por minuto da bomba\n",
    "n_nominal = 1750\n",
    "#Frequência da rede em Hz\n",
    "f_rede_hz = 60\n",
    "#Tensão da rede em V\n",
    "V_volt= 380\n",
    "#Fator de serviço do fabricante para bombas acimda de 20cv   \n",
    "fator_servico = 1.15\n",
    "#cos(fi)\n",
    "fator_potencia = 0.95\n",
    "#Rendimento do motor. O rendimento é muito próximo de 90% para todos os valores de potência de 60% - 130% do valor nominal. \n",
    "#Todas os valores de potência analisados estão nessa faixa. \n",
    "eta_motor=0.90\n",
    "#Potência nominal da bomba\n",
    "potencial_nominal_cv = 40\n",
    "#Preço kWh em reais - Suposição feita com base no custo médio da CEMIG\n",
    "preco_kwh=0.70\n",
    "#Tempo de funcionamento\n",
    "tempo_h=240\n",
    "\n",
    "#O intervalo da vazão de 0 - 60 l/s , porém apenas de 5 l/s a 35 l/s é\n",
    "#sensato avaliar, pois a bomba tem uma perfomance péssima próxima ou abaixo\n",
    "#5 l/s e ela simplesmente não consegue prover mais que 35 l/s\n",
    "\n",
    "x=np.arange(1,60.01,0.01)"
   ]
  },
  {
   "cell_type": "markdown",
   "id": "26fb13b0",
   "metadata": {},
   "source": [
    "### Dados hidraulicos coletados no local"
   ]
  },
  {
   "cell_type": "code",
   "execution_count": 38,
   "id": "dcc19b8f",
   "metadata": {},
   "outputs": [],
   "source": [
    "#Viscosidade cinemática da água a 24ºC [m^2/s], página 629 MacYntire\n",
    "eta=0.000000917\n",
    "#Diâmetro da tubulação em metros [m]\n",
    "D_tub=0.20\n",
    "#Área da seção da tubulação\n",
    "area= np.pi *(D_tub/2)**2"
   ]
  },
  {
   "cell_type": "code",
   "execution_count": 39,
   "id": "13266b16",
   "metadata": {},
   "outputs": [],
   "source": [
    "K_var = 200 # O intervalo adequado é 12 - Até 8000 \n",
    "\n",
    "#Dados coletados inloco\n",
    "# a sãos os valores da corrente medido no local [A]\n",
    "a=np.array([32, 35.5, 41, 43, 46])\n",
    "# p são os valores de pressão medidos no local [mca]\n",
    "p=np.array([54.5, 54, 51.5, 49, 46])\n",
    "# q são os valores de pressão medidos no local [m³/h]\n",
    "q=np.array([5, 12, 21, 25.5, 32.5])"
   ]
  },
  {
   "cell_type": "code",
   "execution_count": 40,
   "id": "683b3c05",
   "metadata": {
    "scrolled": true
   },
   "outputs": [
    {
     "data": {
      "text/html": [
       "<div>\n",
       "<style scoped>\n",
       "    .dataframe tbody tr th:only-of-type {\n",
       "        vertical-align: middle;\n",
       "    }\n",
       "\n",
       "    .dataframe tbody tr th {\n",
       "        vertical-align: top;\n",
       "    }\n",
       "\n",
       "    .dataframe thead th {\n",
       "        text-align: right;\n",
       "    }\n",
       "</style>\n",
       "<table border=\"1\" class=\"dataframe\">\n",
       "  <thead>\n",
       "    <tr style=\"text-align: right;\">\n",
       "      <th></th>\n",
       "      <th>Corrente</th>\n",
       "      <th>Pressão</th>\n",
       "      <th>Vazão</th>\n",
       "    </tr>\n",
       "  </thead>\n",
       "  <tbody>\n",
       "    <tr>\n",
       "      <th>0</th>\n",
       "      <td>32.0</td>\n",
       "      <td>54.5</td>\n",
       "      <td>5.0</td>\n",
       "    </tr>\n",
       "    <tr>\n",
       "      <th>1</th>\n",
       "      <td>35.5</td>\n",
       "      <td>54.0</td>\n",
       "      <td>12.0</td>\n",
       "    </tr>\n",
       "    <tr>\n",
       "      <th>2</th>\n",
       "      <td>41.0</td>\n",
       "      <td>51.5</td>\n",
       "      <td>21.0</td>\n",
       "    </tr>\n",
       "    <tr>\n",
       "      <th>3</th>\n",
       "      <td>43.0</td>\n",
       "      <td>49.0</td>\n",
       "      <td>25.5</td>\n",
       "    </tr>\n",
       "    <tr>\n",
       "      <th>4</th>\n",
       "      <td>46.0</td>\n",
       "      <td>46.0</td>\n",
       "      <td>32.5</td>\n",
       "    </tr>\n",
       "  </tbody>\n",
       "</table>\n",
       "</div>"
      ],
      "text/plain": [
       "   Corrente  Pressão  Vazão\n",
       "0      32.0     54.5    5.0\n",
       "1      35.5     54.0   12.0\n",
       "2      41.0     51.5   21.0\n",
       "3      43.0     49.0   25.5\n",
       "4      46.0     46.0   32.5"
      ]
     },
     "execution_count": 40,
     "metadata": {},
     "output_type": "execute_result"
    }
   ],
   "source": [
    "#Construir o dataframe\n",
    "data = {'Corrente':a, 'Pressão':p , 'Vazão':q}\n",
    "dados_coletados = pd.DataFrame.from_dict(data)\n",
    "dados_coletados"
   ]
  },
  {
   "cell_type": "code",
   "execution_count": 52,
   "id": "aeae6bee",
   "metadata": {},
   "outputs": [
    {
     "data": {
      "image/png": "[encoded data removed]",
      "text/plain": [
       "<Figure size 432x288 with 1 Axes>"
      ]
     },
     "metadata": {
      "needs_background": "light"
     },
     "output_type": "display_data"
    }
   ],
   "source": [
    "coefs = poly.polyfit(q, p, 2)\n",
    "bomba = poly.polyval(x, coefs)\n",
    "\n",
    "plt.plot(x, bomba)\n",
    "plt.scatter(q,p,c='Black')\n",
    "plt.xlabel(\"Vazão [l/s]\")\n",
    "plt.ylabel(\"Pressão [mca]\")\n",
    "\n",
    "plt.show()"
   ]
  },
  {
   "cell_type": "markdown",
   "id": "cd72a94c",
   "metadata": {},
   "source": [
    "### Eficiência da bomba"
   ]
  },
  {
   "cell_type": "code",
   "execution_count": 42,
   "id": "d3127805",
   "metadata": {
    "scrolled": false
   },
   "outputs": [
    {
     "data": {
      "image/png": "[encoded data removed]",
      "text/plain": [
       "<Figure size 432x288 with 1 Axes>"
      ]
     },
     "metadata": {
      "needs_background": "light"
     },
     "output_type": "display_data"
    }
   ],
   "source": [
    "#Dados eficiência da bomba, Fonte: Thebes\n",
    "\n",
    "eff_y=np.array([50,60,63,65.5,63,60])\n",
    "eff_x=np.array([65,92,111,145,182,205])\n",
    "\n",
    "coefs = poly.polyfit(eff_x/3.6, eff_y, 2)\n",
    "ffit = poly.polyval(x, coefs)\n",
    "\n",
    "plt.plot(x, ffit)\n",
    "plt.scatter(eff_x/3.6,eff_y,c='Black')\n",
    "plt.xlabel(\"Vazão [l/s]\")\n",
    "plt.ylabel(\"Eficiência da bomba [%]\")\n",
    "\n",
    "plt.show()"
   ]
  },
  {
   "cell_type": "code",
   "execution_count": 45,
   "id": "2b32b05d",
   "metadata": {},
   "outputs": [
    {
     "data": {
      "text/plain": [
       "6942.418455480713"
      ]
     },
     "execution_count": 45,
     "metadata": {},
     "output_type": "execute_result"
    }
   ],
   "source": [
    "#CALCULO NUMERO DE REYNOLDS\n",
    "\n",
    "#converter a vazão de l/s para m³/s\n",
    "q_m=x/1000\n",
    "#velocidade média da água em m/s\n",
    "velocidade=q_m/area\n",
    "\n",
    "Reynolds=(D_tub*velocidade)/eta\n",
    "\n",
    "np.min(Reynolds)"
   ]
  },
  {
   "cell_type": "code",
   "execution_count": 49,
   "id": "8f545078",
   "metadata": {},
   "outputs": [],
   "source": [
    "#PERDA DE CARGA PRIMÁRIA\n",
    "#Rugosidade relativa da tubulação\n",
    "epsilon= 0.005334\n",
    "#Rugosidade absoluta, fibra de vidro [mm]\n",
    "rugosidade_relativa=epsilon/(D_tub*1000)\n",
    "#Equação de Darcy-Weisbach \n",
    "#Aceleração da gravidade [m/s²]\n",
    "g = 9.81 \n",
    "#Comprimento total da tubulação [m]\n",
    "L = 218 \n",
    "\n",
    "#f_D = ((1./(-1.8.*log10(((rugosidade_relativa./3.7).^1.11)+(6.9./Reynolds)))).^2);\n",
    "f_D = ((1/(-1.8*np.log10(((rugosidade_relativa/3.7)**1.11)+(6.9/Reynolds))))**2)\n",
    "h_f = f_D*((L*(velocidade**2))/(D_tub*2*g))\n",
    "#Diferença de altura do ponto de coleta à ao reservatório [mca]\n",
    "h_e = 44;\n"
   ]
  },
  {
   "cell_type": "code",
   "execution_count": 50,
   "id": "3f5e909c",
   "metadata": {},
   "outputs": [],
   "source": [
    "#PERDA DE CARGA SECUNDÁRIA\n",
    "#Perda de carga decorrente do uso de acessórios\n",
    "#MacIntyre pag 656\n",
    "K_entrada= 0.1\n",
    "K_saida = 1\n",
    "\n",
    "#O K da valvula varia conforme o nível de oclusão, diametro da valvula,\n",
    "#assim como o material. Algumas fontes indicam que esse valor tem de fato\n",
    "#variação de mais de 600x de totalmente aberto até 7/8 de oclusão.\n",
    "#Cheguei a valores empiricos na analise desse K_ValvulaRegistro.\n",
    "\n",
    "#1.4(totalmente aberto) - Até 8000 (Quase total oclusão)\n",
    "K_ValvulaRegistro = K_var; \n",
    "K_Curva45 = 1.5\n",
    "K_Curva90Longa = 4.3;\n",
    "K_Curva90Media = 5.5;\n",
    "K_Curva90Curta = 6.4;\n",
    "\n",
    "K= K_saida + K_entrada + K_ValvulaRegistro + K_Curva45 + K_Curva90Longa + K_Curva90Media + K_Curva90Curta\n",
    "K_nominal = K_saida + K_entrada + K_Curva45 + K_Curva90Longa + K_Curva90Media + K_Curva90Curta + 1.4\n",
    "\n",
    "h_a = (K)*((velocidade**2)/(2*g));\n",
    "h_a_nominal = (K_nominal)*((velocidade**2)/(2*g));\n",
    "\n",
    "#Perda de carga total da tubulação\n",
    "h_total = h_e + h_f + h_a\n",
    "h_total_nominal = h_e + h_f + h_a_nominal"
   ]
  },
  {
   "cell_type": "code",
   "execution_count": 83,
   "id": "0c57c388",
   "metadata": {},
   "outputs": [
    {
     "name": "stdout",
     "output_type": "stream",
     "text": [
      "A rotação nova é 1653\n"
     ]
    }
   ],
   "source": [
    "eqn= np.abs(bomba - h_total)\n",
    "\n",
    "valor_minimo = np.min(eqn2)\n",
    "indice_minimo = np.where(eqn2 == minimo)\n",
    "Z = indice_minimo[0][0]\n",
    "\n",
    "rot_nova =  round((np.sqrt(h_total_nominal[Z]/bomba[Z]))*n_nominal)\n",
    "print(f'A rotação nova é {rot_nova}')\n",
    "\n",
    "#MUDANÇA DE FREQUENCIA - MCINTYRE p.125\n",
    "#Algo entre 1570 - 1750\n",
    "bomba_rotnova = bomba*((rot_nova/n_nominal)**2);"
   ]
  },
  {
   "cell_type": "markdown",
   "id": "d61d86e8",
   "metadata": {},
   "source": [
    "### Gráficos\n"
   ]
  },
  {
   "cell_type": "code",
   "execution_count": 92,
   "id": "914894d9",
   "metadata": {},
   "outputs": [
    {
     "data": {
      "image/png": "[encoded data removed]",
      "text/plain": [
       "<Figure size 432x288 with 1 Axes>"
      ]
     },
     "metadata": {
      "needs_background": "light"
     },
     "output_type": "display_data"
    }
   ],
   "source": [
    "#Gráfico curva da bomba e curva do sistema\n",
    "plt.plot(x,bomba,c='Black')\n",
    "plt.plot(x,h_total,c='Red')\n",
    "plt.scatter(x[Z],bomba[Z])\n",
    "\n",
    "plt.xlabel('Vazão [l/s]')\n",
    "plt.ylabel('Diferença de pressão [mca]')\n",
    "plt.xlim(0, 40);\n",
    "plt.ylim(42, 56);\n",
    "#plt.legend('Curva da bomba nominal','Curva do sistema K_var','Location','northeast')\n",
    "plt.title('QxH')\n",
    "plt.show()"
   ]
  },
  {
   "cell_type": "code",
   "execution_count": 93,
   "id": "a131504f",
   "metadata": {},
   "outputs": [
    {
     "data": {
      "image/png": "[encoded data removed]",
      "text/plain": [
       "<Figure size 432x288 with 1 Axes>"
      ]
     },
     "metadata": {
      "needs_background": "light"
     },
     "output_type": "display_data"
    }
   ],
   "source": [
    "#Gráfico da nova curva\n",
    "plt.plot(x,bomba_rotnova, c='Black')\n",
    "plt.plot(x,h_total_nominal, c='Red')\n",
    "plt.scatter(x[Z],bomba_rotnova[Z])\n",
    "\n",
    "plt.xlabel('Vazão [l/s]')\n",
    "plt.ylabel('Diferença de pressão [mca]')\n",
    "plt.xlim(0, 40);\n",
    "plt.ylim(42, 56);\n",
    "plt.title('QxH')\n",
    "plt.show()"
   ]
  },
  {
   "cell_type": "code",
   "execution_count": null,
   "id": "5acbad49",
   "metadata": {},
   "outputs": [],
   "source": []
  },
  {
   "cell_type": "markdown",
   "id": "5016b9bf",
   "metadata": {},
   "source": [
    "-------------------------------------------------\n",
    "### Para implementar\n",
    "---------------------------------------"
   ]
  },
  {
   "cell_type": "markdown",
   "id": "d19a251a",
   "metadata": {},
   "source": [
    " #### FALTA IMPLEMENTAR\n",
    " \n",
    "    %POTÊNCIA ELÉTRICA NECESSÁRIA AO SISTEMA\n",
    "    P_kw =((bomba.*(3.6*x))./(367*eta_motor.*(f_eff_ls./100))./fator_potencia);\n",
    "    %P_cv =(bomba.*(3.6*x))./(270*eta_motor.*(f_eff_ls./100));\n",
    "\n",
    "    %Medido\n",
    "    P_medida_a=((V_volt/1000)*1.73*eta_motor.*A); %A divisão por 1000 é para o valor final já ser em kW.\n",
    "    [f_ana,gof_ana]=fit(Q,P_medida_a,'poly2');  \n",
    "\n",
    " \n",
    "    P_kw_rotacao_nova=(bomba_rotnova.*(3.6*x))./(367*eta_motor.*(f_eff_ls./100));"
   ]
  },
  {
   "cell_type": "code",
   "execution_count": null,
   "id": "36f5f3c6",
   "metadata": {},
   "outputs": [],
   "source": [
    "'''\n",
    "#Adptar para os gráficos finais\n",
    "# Generate curve data\n",
    "t = np.linspace(-1, 1, 100)\n",
    "x = t + t ** 2\n",
    "y = t - t ** 2\n",
    "xm = np.min(x) - 1.5\n",
    "xM = np.max(x) + 1.5\n",
    "ym = np.min(y) - 1.5\n",
    "yM = np.max(y) + 1.5\n",
    "N = 50\n",
    "s = np.linspace(-1, 1, N)\n",
    "xx = s + s ** 2\n",
    "yy = s - s ** 2\n",
    "\n",
    "\n",
    "# Create figure\n",
    "fig = go.Figure(\n",
    "    data=[go.Scatter(x=x, y=y,\n",
    "                     mode=\"lines\",\n",
    "                     line=dict(width=2, color=\"blue\")),\n",
    "          go.Scatter(x=x, y=y,\n",
    "                     mode=\"lines\",\n",
    "                     line=dict(width=2, color=\"blue\"))],\n",
    "    layout=go.Layout(\n",
    "        xaxis=dict(range=[xm, xM], autorange=False, zeroline=False),\n",
    "        yaxis=dict(range=[ym, yM], autorange=False, zeroline=False),\n",
    "        title_text=\"Kinematic Generation of a Planar Curve\", hovermode=\"closest\",\n",
    "        updatemenus=[dict(type=\"buttons\",\n",
    "                          buttons=[dict(label=\"Play\",\n",
    "                                        method=\"animate\",\n",
    "                                        args=[None])])]),\n",
    "    frames=[go.Frame(\n",
    "        data=[go.Scatter(\n",
    "            x=[xx[k]],\n",
    "            y=[yy[k]],\n",
    "            mode=\"markers\",\n",
    "            marker=dict(color=\"red\", size=10))])\n",
    "\n",
    "        for k in range(N)]\n",
    ")\n",
    "\n",
    "fig.show()\n",
    "'''"
   ]
  },
  {
   "cell_type": "markdown",
   "id": "23afbc8a",
   "metadata": {},
   "source": [
    "---------------------------------------"
   ]
  },
  {
   "cell_type": "markdown",
   "id": "a405939e",
   "metadata": {},
   "source": [
    "#### Original em Matlab\n",
    "\n",
    "    % Dados para adaptar o algoritimo para organizar  \n",
    "    % adequadamente o gráfico de bomba  \n",
    "    % Bomba TH 80-315, página 51 manual Thebes  \n",
    "\n",
    "    % cd C:\\Users\\(nome_do_usuário)\\Desktop\\Pump\\ScriptsMatLab % Load no scrip caso tenha\n",
    "    % load curva; %carregar os dados da curva num arquivo curva.mat. Dados em colunas, para principalmente, a função FIT\n",
    "    clf('reset')\n",
    "\n",
    "    %Tudo é em função do valor de K_var que equivale a K da valvula registro\n",
    "    %Varia de 12 (totalmente aberto) até aproximadamente 8000 (quase total\n",
    "    %oclusão) do sistema. Na literatura é visto alterações desse valor de K de\n",
    "    %em alguns casos de aproximadamente x576 vezes maior na variação de\n",
    "    %totalmente aberto a 7/8 de oclusão.\n",
    "    K_var = 200; % - 12 - Até 8000 -\n",
    "\n",
    "    %Dados coletados inloco\n",
    "    %A e a sãos os valores da corrente medido no local\n",
    "    a=[32 35.5 41 43 46];\n",
    "    A=a';\n",
    "    %P e p são os valores de pressão medidos no local\n",
    "    p=[54.5 54 51.5 49 46];\n",
    "    P=p';\n",
    "    %Q e q são os valores de pressão medidos no local\n",
    "    q=[5 12 21 25.5 32.5];\n",
    "    Q=q';\n",
    "    %Os valores de corrente, pressão e vazão são relacionados\n",
    "    %Por exemplo na primeira coleta P=54.5 Q=5 e A=32.35\n",
    "    %O \" ' \" indica apenas que por exemplo Q é a matriz inversa de q, pois a\n",
    "    %função FIT do matlab só recebe vetores do tipo coluna.\n",
    "\n",
    "    syms x1 x2 x3 x4 positive\n",
    "\n",
    "    %Dados do sisteme elétrico\n",
    "    n_nominal = 1750; %Rotações por minuto da bomba\n",
    "    f_rede_hz = 60; %Frequência da rede em Hz\n",
    "    V_volt= 380; %Tensão da rede em V\n",
    "    fator_servico = 1.15; %Fator de serviço do fabricante para bombas acimda de 20cv   \n",
    "    fator_potencia = 0.95; %cos(fi)\n",
    "    eta_motor=0.90; %Rendimento do motor. O rendimento é muito próximo de 90% para todos os valores de potência de 60% - 130% do valor nominal. Todas os valores de potência analisados estão nessa faixa. \n",
    "    potencial_nominal_cv = 40;\n",
    "    preco_kwh=0.70;%Preço kWh em reais - Suposição feita com base no custo médio da CEMIG\n",
    "    tempo_h=240;%Tempo de funcionamente em horas\n",
    "\n",
    "    ---------------------------\n",
    "\n",
    "    %EFICIÊNCIA DA BOMBA\n",
    "    %Dados eficiência da bomba, Fonte: Thebes\n",
    "    eff_y=[50;60;63;65.5;63;60];\n",
    "    eff_x=[65;92;111;145;182;205];\n",
    "\n",
    "    [f_eff,gof_eff]=fit(eff_x,eff_y,'poly2');  \n",
    "    [f2,gof_bomba]=fit(Q,P,'poly2'); %Curva da bomba feita em polinômio de grau 2\n",
    "    %GOF (goodness of fit) é um dado que contém os parametros estatisticos como\n",
    "    %por exmplo o desvio padrão.\n",
    "\n",
    "    %intervalo da vazão de 0 - 60 l/s , porém apenas de 5 l/s a 35 l/s é\n",
    "    %sensato avaliar, pois a bomba tem uma perfomance péssima próxima ou abaixo\n",
    "    %5 l/s e ela simplesmente não consegue prover mais que 35 l/s\n",
    "    x=[0:0.01:60];\n",
    "    para = coeffvalues(f2); %parametrização dos coeficientes do polinômio de segundo grau para a curva da bomba\n",
    "    bomba = para(1)*x.^2 + para(2)*x + para(3);\n",
    "    curva_bomba_mh = para(1)*(3.6*x).^2  + para(2)*(3.6*x) + para(3);\n",
    "\n",
    "    para_eff = coeffvalues(f_eff); %parametrização dos coeficientes do polinômio de segundo grau para a curva de eficiência\n",
    "    f_eff_ls =(para_eff(1)*(3.6*x).^2 + para_eff(2)*(3.6*x) + para_eff(3)); %Função da eficiência da bomba x Q[l/s]\n",
    "    f_eff_mh =(para_eff(1)*(x).^2 + para_eff(2)*(x) + para_eff(3)); %Função da eficiência da bomba x Q[m^3/h]\n",
    "\n",
    "    -------------------------------------------------------\n",
    "\n",
    "    %Calculo N de Reynolds\n",
    "    D_tub=0.20;%Diâmetro da tubulação em metros [m]\n",
    "    area=3.1413*(D_tub/2)^2;%Área da seção da tubulação\n",
    "    q_m=x/1000; %converter a vazão de l/s para m³/s\n",
    "    velocidade=q_m/area; %velocidade média da água em m/s\n",
    "    eta=0.000000917; %Viscosidade cinemática da água a 24ºC [m^2/s], página 629 MacYntire\n",
    "    Reynolds=(D_tub*velocidade)/eta;\n",
    "\n",
    "    %PERDA DE CARGA PRIMÁRIA\n",
    "    %Rugosidade relativa da tubulação\n",
    "    epsilon= 0.005334; %Rugosidade absoluta, fibra de vidro [mm]\n",
    "    rugosidade_relativa=epsilon/(D_tub*1000);\n",
    "    %Equação de Darcy-Weisbach \n",
    "    g = 9.81; %Aceleração da gravidade [m/s²]\n",
    "    L = 218; %Comprimento total da tubulação [m]\n",
    "    f_D = ((1./(-1.8.*log10(((rugosidade_relativa./3.7).^1.11)+(6.9./Reynolds)))).^2);\n",
    "    h_f = f_D.*((L.*(velocidade.^2))./(D_tub*2*g));\n",
    "    %Diferença de altura do ponto de coleta à ao reservatório [mca]\n",
    "    h_e = 44; \n",
    "\n",
    "    %PERDA DE CARGA SECUNDÁRIA\n",
    "    %Perda de carga decorrente do uso de acessórios\n",
    "    %MacIntyre pag 656\n",
    "    K_entrada= 0.1;\n",
    "    K_saida = 1;\n",
    "    %O K da valvula varia conforme o nível de oclusão, diametro da valvula,\n",
    "    %assim como o material. Algumas fontes indicam que esse valor tem de fato\n",
    "    %variação de mais de 600x de totalmente aberto até 7/8 de oclusão.\n",
    "    %Cheguei a valores impiricos na analise desse K_ValvulaRegistro.\n",
    "    K_ValvulaRegistro = K_var; % - 1.4(totalmente aberto) - Até 8000 (Quase total oclusão)\n",
    "    K_Curva45 = 1.5;\n",
    "    K_Curva90Longa = 4.3;\n",
    "    K_Curva90Media = 5.5;\n",
    "    K_Curva90Curta = 6.4;\n",
    "    K= K_saida + K_entrada + K_ValvulaRegistro + K_Curva45 + K_Curva90Longa + K_Curva90Media + K_Curva90Curta;\n",
    "    K_nominal = K_saida + K_entrada + K_Curva45 + K_Curva90Longa + K_Curva90Media + K_Curva90Curta + 1.4;\n",
    "\n",
    "    h_a = (K).*((velocidade.^2)/(2*g));\n",
    "    h_a_nominal = (K_nominal).*((velocidade.^2)/(2*g));\n",
    "\n",
    "    %Perda de carga total da tubulação\n",
    "    h_total = h_e + h_f + h_a;\n",
    "    h_total_nominal = h_e + h_f +h_a_nominal;\n",
    "\n",
    "    eqn=bomba - h_total;\n",
    "    eqn2=eqn.^2;\n",
    "    [W,Z]=min(eqn2);%W é o valor real, para realmente se ter noção que é um valor minusculo, muito próximo a 0, Z é o indice\n",
    "\n",
    "    equac = h_total_nominal(Z) == ((para(1)*x(Z)^2 + para(2)*x(Z) + para(3))*((x1/n_nominal)^2));\n",
    "    rot_nova = solve(equac,x1);\n",
    "    n_novo = round(rot_nova)\n",
    "\n",
    "    %POTÊNCIA ELÉTRICA NECESSÁRIA AO SISTEMA\n",
    "    P_kw =((bomba.*(3.6*x))./(367*eta_motor.*(f_eff_ls./100))./fator_potencia);\n",
    "    %P_cv =(bomba.*(3.6*x))./(270*eta_motor.*(f_eff_ls./100));\n",
    "\n",
    "    %Medido\n",
    "    P_medida_a=((V_volt/1000)*1.73*eta_motor.*A); %A divisão por 1000 é para o valor final já ser em kW.\n",
    "    [f_ana,gof_ana]=fit(Q,P_medida_a,'poly2');  \n",
    "\n",
    "    %MUDANÇA DE FREQUENCIA - MCINTYRE p.125\n",
    "    %n_novo=1600; Algo entre 1570 - 1750\n",
    "    bomba_rotnova = bomba.*((n_novo/n_nominal)^2);\n",
    "\n",
    "    P_kw_rotacao_nova=(bomba_rotnova.*(3.6*x))./(367*eta_motor.*(f_eff_ls./100));\n",
    "\n",
    "    ------------------------------------\n",
    "\n",
    "    %Gráfico curva da bomba e curva do sistema\n",
    "    figure(1)\n",
    "    hold on\n",
    "    plot(x,bomba,'b')\n",
    "    plot(x,h_total,'r--')\n",
    "    plot(x(Z),bomba(Z),'o')\n",
    "    plot(q, p, 'k.') %plotar os pontos coletados como pontos\n",
    "    Ponto_de_funcionamento_rot_nominal =[x(Z),bomba(Z)]; % Vazão[l/s] mca[m] \n",
    "    xlabel('Vazão [l/s]')\n",
    "    ylabel('Diferença de pressão [mca]')\n",
    "    xlim([0 40]);\n",
    "    ylim([42 58]);\n",
    "    legend('Curva da bomba nominal','Curva do sistema K_var','Location','northeast')\n",
    "    title('QxH')\n",
    "    hold off\n",
    "\n",
    "    figure(2)\n",
    "    hold on\n",
    "    plot(x,bomba_rotnova,'b')\n",
    "    plot(x,h_total_nominal,'r--')\n",
    "    plot(x(Z),bomba_rotnova(Z),'o')\n",
    "    Ponto_de_funcionamento_rot_nominal =[x(Z),bomba(Z)]; % Vazão[l/s] mca[m] \n",
    "    xlabel('Vazão [l/s]')\n",
    "    ylabel('Diferença de pressão [mca]')\n",
    "    xlim([0 40]);\n",
    "    ylim([42 58]);\n",
    "    legend('Curva da bomba nova','Curva do sistema K_const','Location','northeast')\n",
    "    title('QxH')\n",
    "    hold off\n",
    "    %Gráfico eficiência da bomba\n",
    "    %Segundo MacIntyre pág 126 a eficência da bomba se mantém para baixas\n",
    "    %mudanças da rotação. Ele considera no seu exemplo um mudança consideravel\n",
    "    %quando a rotação foi reduzida a 60% da nominal\n",
    "    figure(3)\n",
    "    hold on\n",
    "    plot(x,f_eff_ls)\n",
    "    plot(x(Z),f_eff_ls(Z),'o')\n",
    "    xlim([0 40]);\n",
    "    ylim([20 68]); \n",
    "    xlabel('Vazão [l/s]')\n",
    "    ylabel('Eficiência [%]')\n",
    "    title('Eficiência da bomba \\eta')\n",
    "\n",
    "    %Gráfico potência consumida em KW\n",
    "    %29.42 kW = 40 cv = Potência nominal do motor elétrico\n",
    "    figure(4);\n",
    "    hold on\n",
    "    plot(x,P_kw,'r--');\n",
    "    plot(f_ana,'b');\n",
    "    plot(x,P_kw_rotacao_nova,'k')\n",
    "    plot(x(Z),P_kw_rotacao_nova(Z),'o')\n",
    "    plot(x(Z),P_kw(Z),'o');\n",
    "    plot(x(Z),f_ana(Z),'o')\n",
    "    yline(29.42); %Potência nominal do motor elétrico em kW - O equivalente a 40cv, fica uma linha horizontal marcando isso no gráfico\n",
    "    xlim([0 40]);\n",
    "    ylim([0 35]); \n",
    "    xlabel('Vazão [l/s]')\n",
    "    ylabel('Potência consumida')\n",
    "    legend('Potência teórica[kW]','Potência medida[kW]','Location','northwest')\n",
    "    hold off\n",
    "    Economia_pot = P_kw(Z) - P_kw_rotacao_nova(Z);\n",
    "    Economia_financeira = round(tempo_h * preco_kwh * Economia_pot)\n",
    "\n",
    "    %Gráfico potência consumida em CV\n",
    "    %figure(4)\n",
    "    %hold on\n",
    "    %plot(x,P_cv);\n",
    "    %yline(40); %Potência nominal do motor elétrico em cv\n",
    "    %xlim([0 40]);\n",
    "    %ylim([0 45]); \n",
    "    %xlabel('Vazão [l/s]');\n",
    "    %ylabel('Potência consumida');\n",
    "    %legend('Potência teórica[cv]','Location','northwest');"
   ]
  },
  {
   "cell_type": "code",
   "execution_count": null,
   "id": "987b2555",
   "metadata": {},
   "outputs": [],
   "source": []
  }
 ],
 "metadata": {
  "kernelspec": {
   "display_name": "Python 3 (ipykernel)",
   "language": "python",
   "name": "python3"
  },
  "language_info": {
   "codemirror_mode": {
    "name": "ipython",
    "version": 3
   },
   "file_extension": ".py",
   "mimetype": "text/x-python",
   "name": "python",
   "nbconvert_exporter": "python",
   "pygments_lexer": "ipython3",
   "version": "3.9.7"
  }
 },
 "nbformat": 4,
 "nbformat_minor": 5
}
