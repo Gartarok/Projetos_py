{
 "cells": [
  {
   "cell_type": "code",
   "execution_count": 1,
   "id": "9a968153",
   "metadata": {},
   "outputs": [],
   "source": [
    "#pip install psycopg2"
   ]
  },
  {
   "cell_type": "code",
   "execution_count": 5,
   "id": "55df2465",
   "metadata": {},
   "outputs": [
    {
     "name": "stdout",
     "output_type": "stream",
     "text": [
      "Write a city name: Pickles\n",
      "Write an animal name: Words\n",
      "\n",
      "Your Band name is: Pickles Words\n"
     ]
    }
   ],
   "source": [
    "#Day 1 Band name Generator\n",
    "\n",
    "city = input('Write a city name: ')\n",
    "animal = input('Write an animal name: ')\n",
    "\n",
    "\n",
    "band_name = print('\\nYour Band name is: ' + city + ' ' + animal)"
   ]
  },
  {
   "cell_type": "code",
   "execution_count": null,
   "id": "1c43c346",
   "metadata": {},
   "outputs": [],
   "source": []
  }
 ],
 "metadata": {
  "kernelspec": {
   "display_name": "Python 3 (ipykernel)",
   "language": "python",
   "name": "python3"
  },
  "language_info": {
   "codemirror_mode": {
    "name": "ipython",
    "version": 3
   },
   "file_extension": ".py",
   "mimetype": "text/x-python",
   "name": "python",
   "nbconvert_exporter": "python",
   "pygments_lexer": "ipython3",
   "version": "3.9.7"
  }
 },
 "nbformat": 4,
 "nbformat_minor": 5
}
