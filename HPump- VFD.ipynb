{
 "cells": [
  {
   "cell_type": "markdown",
   "id": "69e73bda",
   "metadata": {},
   "source": [
    "### Algoritimo de variação de frequencia de bomba hidraulica"
   ]
  },
  {
   "cell_type": "markdown",
   "id": "a405939e",
   "metadata": {},
   "source": [
    "Original em Matlab\n",
    "\n",
    "    % Dados para adaptar o algoritimo para organizar  \n",
    "    % adequadamente o gráfico de bomba  \n",
    "    % Bomba TH 80-315, página 51 manual Thebes  \n",
    "\n",
    "    % cd C:\\Users\\(nome_do_usuário)\\Desktop\\Pump\\ScriptsMatLab % Load no scrip caso tenha\n",
    "    % load curva; %carregar os dados da curva num arquivo curva.mat. Dados em colunas, para principalmente, a função FIT\n",
    "    clf('reset')\n",
    "\n",
    "    %Tudo é em função do valor de K_var que equivale a K da valvula registro\n",
    "    %Varia de 12 (totalmente aberto) até aproximadamente 8000 (quase total\n",
    "    %oclusão) do sistema. Na literatura é visto alterações desse valor de K de\n",
    "    %em alguns casos de aproximadamente x576 vezes maior na variação de\n",
    "    %totalmente aberto a 7/8 de oclusão.\n",
    "    K_var = 200; % - 12 - Até 8000 -\n",
    "\n",
    "    %Dados coletados inloco\n",
    "    %A e a sãos os valores da corrente medido no local\n",
    "    a=[32 35.5 41 43 46];\n",
    "    A=a';\n",
    "    %P e p são os valores de pressão medidos no local\n",
    "    p=[54.5 54 51.5 49 46];\n",
    "    P=p';\n",
    "    %Q e q são os valores de pressão medidos no local\n",
    "    q=[5 12 21 25.5 32.5];\n",
    "    Q=q';\n",
    "    %Os valores de corrente, pressão e vazão são relacionados\n",
    "    %Por exemplo na primeira coleta P=54.5 Q=5 e A=32.35\n",
    "    %O \" ' \" indica apenas que por exemplo Q é a matriz inversa de q, pois a\n",
    "    %função FIT do matlab só recebe vetores do tipo coluna.\n",
    "\n",
    "    syms x1 x2 x3 x4 positive\n",
    "\n",
    "    %Dados do sisteme elétrico\n",
    "    n_nominal = 1750; %Rotações por minuto da bomba\n",
    "    f_rede_hz = 60; %Frequência da rede em Hz\n",
    "    V_volt= 380; %Tensão da rede em V\n",
    "    fator_servico = 1.15; %Fator de serviço do fabricante para bombas acimda de 20cv   \n",
    "    fator_potencia = 0.95; %cos(fi)\n",
    "    eta_motor=0.90; %Rendimento do motor. O rendimento é muito próximo de 90% para todos os valores de potência de 60% - 130% do valor nominal. Todas os valores de potência analisados estão nessa faixa. \n",
    "    potencial_nominal_cv = 40;\n",
    "    preco_kwh=0.70;%Preço kWh em reais - Suposição feita com base no custo médio da CEMIG\n",
    "    tempo_h=240;%Tempo de funcionamente em horas\n",
    "\n",
    "    %EFICIÊNCIA DA BOMBA\n",
    "    %Dados eficiência da bomba, Fonte: Thebes\n",
    "    eff_y=[50;60;63;65.5;63;60];\n",
    "    eff_x=[65;92;111;145;182;205];\n",
    "\n",
    "    [f_eff,gof_eff]=fit(eff_x,eff_y,'poly2');  \n",
    "    [f2,gof_bomba]=fit(Q,P,'poly2'); %Curva da bomba feita em polinômio de grau 2\n",
    "    %GOF (goodness of fit) é um dado que contém os parametros estatisticos como\n",
    "    %por exmplo o desvio padrão.\n",
    "\n",
    "    %intervalo da vazão de 0 - 60 l/s , porém apenas de 5 l/s a 35 l/s é\n",
    "    %sensato avaliar, pois a bomba tem uma perfomance péssima próxima ou abaixo\n",
    "    %5 l/s e ela simplesmente não consegue prover mais que 35 l/s\n",
    "    x=[0:0.01:60];\n",
    "    para = coeffvalues(f2); %parametrização dos coeficientes do polinômio de segundo grau para a curva da bomba\n",
    "    bomba = para(1)*x.^2 + para(2)*x + para(3);\n",
    "    curva_bomba_mh = para(1)*(3.6*x).^2  + para(2)*(3.6*x) + para(3);\n",
    "\n",
    "    para_eff = coeffvalues(f_eff); %parametrização dos coeficientes do polinômio de segundo grau para a curva de eficiência\n",
    "    f_eff_ls =(para_eff(1)*(3.6*x).^2 + para_eff(2)*(3.6*x) + para_eff(3)); %Função da eficiência da bomba x Q[l/s]\n",
    "    f_eff_mh =(para_eff(1)*(x).^2 + para_eff(2)*(x) + para_eff(3)); %Função da eficiência da bomba x Q[m^3/h]\n",
    "\n",
    "    %Calculo N de Reynolds\n",
    "    D_tub=0.20;%Diâmetro da tubulação em metros [m]\n",
    "    area=3.1413*(D_tub/2)^2;%Área da seção da tubulação\n",
    "    q_m=x/1000; %converter a vazão de l/s para m³/s\n",
    "    velocidade=q_m/area; %velocidade média da água em m/s\n",
    "    eta=0.000000917; %Viscosidade cinemática da água a 24ºC [m^2/s], página 629 MacYntire\n",
    "    Reynolds=(D_tub*velocidade)/eta;\n",
    "\n",
    "    %PERDA DE CARGA PRIMÁRIA\n",
    "    %Rugosidade relativa da tubulação\n",
    "    epsilon= 0.005334; %Rugosidade absoluta, fibra de vidro [mm]\n",
    "    rugosidade_relativa=epsilon/(D_tub*1000);\n",
    "    %Equação de Darcy-Weisbach \n",
    "    g = 9.81; %Aceleração da gravidade [m/s²]\n",
    "    L = 218; %Comprimento total da tubulação [m]\n",
    "    f_D = ((1./(-1.8.*log10(((rugosidade_relativa./3.7).^1.11)+(6.9./Reynolds)))).^2);\n",
    "    h_f = f_D.*((L.*(velocidade.^2))./(D_tub*2*g));\n",
    "    %Diferença de altura do ponto de coleta à ao reservatório [mca]\n",
    "    h_e = 44; \n",
    "\n",
    "    %PERDA DE CARGA SECUNDÁRIA\n",
    "    %Perda de carga decorrente do uso de acessórios\n",
    "    %MacIntyre pag 656\n",
    "    K_entrada= 0.1;\n",
    "    K_saida = 1;\n",
    "    %O K da valvula varia conforme o nível de oclusão, diametro da valvula,\n",
    "    %assim como o material. Algumas fontes indicam que esse valor tem de fato\n",
    "    %variação de mais de 600x de totalmente aberto até 7/8 de oclusão.\n",
    "    %Cheguei a valores impiricos na analise desse K_ValvulaRegistro.\n",
    "    K_ValvulaRegistro = K_var; % - 1.4(totalmente aberto) - Até 8000 (Quase total oclusão)\n",
    "    K_Curva45 = 1.5;\n",
    "    K_Curva90Longa = 4.3;\n",
    "    K_Curva90Media = 5.5;\n",
    "    K_Curva90Curta = 6.4;\n",
    "    K= K_saida + K_entrada + K_ValvulaRegistro + K_Curva45 + K_Curva90Longa + K_Curva90Media + K_Curva90Curta;\n",
    "    K_nominal = K_saida + K_entrada + K_Curva45 + K_Curva90Longa + K_Curva90Media + K_Curva90Curta + 1.4;\n",
    "\n",
    "    h_a = (K).*((velocidade.^2)/(2*g));\n",
    "    h_a_nominal = (K_nominal).*((velocidade.^2)/(2*g));\n",
    "\n",
    "    %Perda de carga total da tubulação\n",
    "    h_total = h_e + h_f + h_a;\n",
    "    h_total_nominal = h_e + h_f +h_a_nominal;\n",
    "\n",
    "    eqn=bomba - h_total;\n",
    "    eqn2=eqn.^2;\n",
    "    [W,Z]=min(eqn2);%W é o valor real, para realmente se ter noção que é um valor minusculo, muito próximo a 0, Z é o indice\n",
    "\n",
    "    equac = h_total_nominal(Z) == ((para(1)*x(Z)^2 + para(2)*x(Z) + para(3))*((x1/n_nominal)^2));\n",
    "    rot_nova = solve(equac,x1);\n",
    "    n_novo = round(rot_nova)\n",
    "\n",
    "    %POTÊNCIA ELÉTRICA NECESSÁRIA AO SISTEMA\n",
    "    P_kw =((bomba.*(3.6*x))./(367*eta_motor.*(f_eff_ls./100))./fator_potencia);\n",
    "    %P_cv =(bomba.*(3.6*x))./(270*eta_motor.*(f_eff_ls./100));\n",
    "\n",
    "    %Medido\n",
    "    P_medida_a=((V_volt/1000)*1.73*eta_motor.*A); %A divisão por 1000 é para o valor final já ser em kW.\n",
    "    [f_ana,gof_ana]=fit(Q,P_medida_a,'poly2');  \n",
    "\n",
    "    %MUDANÇA DE FREQUENCIA - MCINTYRE p.125\n",
    "    %n_novo=1600; Algo entre 1570 - 1750\n",
    "    bomba_rotnova = bomba.*((n_novo/n_nominal)^2);\n",
    "\n",
    "    P_kw_rotacao_nova=(bomba_rotnova.*(3.6*x))./(367*eta_motor.*(f_eff_ls./100));\n",
    "\n",
    "    %Gráfico curva da bomba e curva do sistema\n",
    "    figure(1)\n",
    "    hold on\n",
    "    plot(x,bomba,'b')\n",
    "    plot(x,h_total,'r--')\n",
    "    plot(x(Z),bomba(Z),'o')\n",
    "    plot(q, p, 'k.') %plotar os pontos coletados como pontos\n",
    "    Ponto_de_funcionamento_rot_nominal =[x(Z),bomba(Z)]; % Vazão[l/s] mca[m] \n",
    "    xlabel('Vazão [l/s]')\n",
    "    ylabel('Diferença de pressão [mca]')\n",
    "    xlim([0 40]);\n",
    "    ylim([42 58]);\n",
    "    legend('Curva da bomba nominal','Curva do sistema K_var','Location','northeast')\n",
    "    title('QxH')\n",
    "    hold off\n",
    "\n",
    "    figure(2)\n",
    "    hold on\n",
    "    plot(x,bomba_rotnova,'b')\n",
    "    plot(x,h_total_nominal,'r--')\n",
    "    plot(x(Z),bomba_rotnova(Z),'o')\n",
    "    Ponto_de_funcionamento_rot_nominal =[x(Z),bomba(Z)]; % Vazão[l/s] mca[m] \n",
    "    xlabel('Vazão [l/s]')\n",
    "    ylabel('Diferença de pressão [mca]')\n",
    "    xlim([0 40]);\n",
    "    ylim([42 58]);\n",
    "    legend('Curva da bomba nova','Curva do sistema K_const','Location','northeast')\n",
    "    title('QxH')\n",
    "    hold off\n",
    "    %Gráfico eficiência da bomba\n",
    "    %Segundo MacIntyre pág 126 a eficência da bomba se mantém para baixas\n",
    "    %mudanças da rotação. Ele considera no seu exemplo um mudança consideravel\n",
    "    %quando a rotação foi reduzida a 60% da nominal\n",
    "    figure(3)\n",
    "    hold on\n",
    "    plot(x,f_eff_ls)\n",
    "    plot(x(Z),f_eff_ls(Z),'o')\n",
    "    xlim([0 40]);\n",
    "    ylim([20 68]); \n",
    "    xlabel('Vazão [l/s]')\n",
    "    ylabel('Eficiência [%]')\n",
    "    title('Eficiência da bomba \\eta')\n",
    "\n",
    "    %Gráfico potência consumida em KW\n",
    "    %29.42 kW = 40 cv = Potência nominal do motor elétrico\n",
    "    figure(4);\n",
    "    hold on\n",
    "    plot(x,P_kw,'r--');\n",
    "    plot(f_ana,'b');\n",
    "    plot(x,P_kw_rotacao_nova,'k')\n",
    "    plot(x(Z),P_kw_rotacao_nova(Z),'o')\n",
    "    plot(x(Z),P_kw(Z),'o');\n",
    "    plot(x(Z),f_ana(Z),'o')\n",
    "    yline(29.42); %Potência nominal do motor elétrico em kW - O equivalente a 40cv, fica uma linha horizontal marcando isso no gráfico\n",
    "    xlim([0 40]);\n",
    "    ylim([0 35]); \n",
    "    xlabel('Vazão [l/s]')\n",
    "    ylabel('Potência consumida')\n",
    "    legend('Potência teórica[kW]','Potência medida[kW]','Location','northwest')\n",
    "    hold off\n",
    "    Economia_pot = P_kw(Z) - P_kw_rotacao_nova(Z);\n",
    "    Economia_financeira = round(tempo_h * preco_kwh * Economia_pot)\n",
    "\n",
    "    %Gráfico potência consumida em CV\n",
    "    %figure(4)\n",
    "    %hold on\n",
    "    %plot(x,P_cv);\n",
    "    %yline(40); %Potência nominal do motor elétrico em cv\n",
    "    %xlim([0 40]);\n",
    "    %ylim([0 45]); \n",
    "    %xlabel('Vazão [l/s]');\n",
    "    %ylabel('Potência consumida');\n",
    "    %legend('Potência teórica[cv]','Location','northwest');"
   ]
  },
  {
   "cell_type": "code",
   "execution_count": 6,
   "id": "d5b91893",
   "metadata": {},
   "outputs": [],
   "source": [
    "import pandas as pd\n",
    "import plotly as plt\n",
    "import plotly.graph_objects as go\n",
    "import numpy as np"
   ]
  },
  {
   "cell_type": "code",
   "execution_count": null,
   "id": "b5bcbc48",
   "metadata": {},
   "outputs": [],
   "source": [
    "#fatiar cada parte e colocar no python"
   ]
  },
  {
   "cell_type": "code",
   "execution_count": null,
   "id": "13266b16",
   "metadata": {},
   "outputs": [],
   "source": [
    "#h = altura manometrica\n",
    "h = [5,4,3,2,1]\n",
    "#v = vazão\n",
    "v = [5,4,3,2,1]"
   ]
  },
  {
   "cell_type": "code",
   "execution_count": 8,
   "id": "9bcc3034",
   "metadata": {},
   "outputs": [
    {
     "data": {
      "application/vnd.plotly.v1+json": {
       "config": {
        "plotlyServerURL": "https://plot.ly"
       },
       "data": [
        {
         "line": {
          "color": "blue",
          "width": 2
         },
         "mode": "lines",
         "type": "scatter",
         "x": [
          1,
          0.9802061014182226,
          0.9612284460769309,
          0.9430670339761249,
          0.9257218651158046,
          0.9091929394959698,
          0.8934802571166207,
          0.8785838179777573,
          0.8645036220793796,
          0.8512396694214875,
          0.8387919600040812,
          0.8271604938271605,
          0.8163452708907254,
          0.8063462911947761,
          0.7971635547393123,
          0.7887970615243343,
          0.7812468115498419,
          0.7745128048158352,
          0.768595041322314,
          0.7634935210692786,
          0.7592082440567289,
          0.7557392102846648,
          0.7530864197530864,
          0.7512498724619936,
          0.7502295684113867,
          0.7500255076012652,
          0.7506376900316294,
          0.7520661157024793,
          0.754310784613815,
          0.7573716967656361,
          0.761248852157943,
          0.7659422507907356,
          0.7714518926640139,
          0.7777777777777778,
          0.7849199061320273,
          0.7928782777267627,
          0.8016528925619835,
          0.81124375063769,
          0.8216508519538823,
          0.8328741965105602,
          0.8449137843077238,
          0.857769615345373,
          0.8714416896235078,
          0.8859300071421283,
          0.9012345679012346,
          0.9173553719008265,
          0.9342924191409041,
          0.9520457096214673,
          0.9706152433425161,
          0.9900010203040507,
          1.010203040506071,
          1.031221303948577,
          1.0530558106315684,
          1.0757065605550453,
          1.0991735537190084,
          1.123456790123457,
          1.1485562697683913,
          1.174471992653811,
          1.2012039587797163,
          1.2287521681461078,
          1.2571166207529845,
          1.286297316600347,
          1.3162942556881951,
          1.3471074380165293,
          1.3787368635853485,
          1.4111825323946536,
          1.4444444444444446,
          1.478522599734721,
          1.5134169982654835,
          1.549127640036731,
          1.5856545250484648,
          1.6229976533006838,
          1.6611570247933884,
          1.7001326395265792,
          1.7399244975002552,
          1.7805325987144174,
          1.8219569431690648,
          1.8641975308641976,
          1.9072543617998168,
          1.951127435975921,
          1.9958167533925115,
          2.041322314049587,
          2.087644117947149,
          2.1347821650851957,
          2.1827364554637283,
          2.2315069890827472,
          2.281093765942251,
          2.331496786042241,
          2.3827160493827164,
          2.434751555963678,
          2.4876033057851243,
          2.5412712988470565,
          2.595755535149475,
          2.6510560146923785,
          2.7071727374757684,
          2.7641057034996432,
          2.821854912764004,
          2.8804203652688507,
          2.9398020610141824,
          3
         ],
         "y": [
          -2,
          -1.9398020610141822,
          -1.88042036526885,
          -1.8218549127640038,
          -1.764105703499643,
          -1.707172737475768,
          -1.6510560146923783,
          -1.5957555351494745,
          -1.5412712988470563,
          -1.487603305785124,
          -1.4347515559636772,
          -1.382716049382716,
          -1.3314967860422406,
          -1.2810937659422508,
          -1.2315069890827466,
          -1.1827364554637283,
          -1.1347821650851952,
          -1.0876441179471483,
          -1.0413223140495869,
          -0.9958167533925109,
          -0.9511274359759208,
          -0.9072543617998162,
          -0.8641975308641976,
          -0.8219569431690641,
          -0.7805325987144169,
          -0.739924497500255,
          -0.7001326395265788,
          -0.6611570247933882,
          -0.6229976533006835,
          -0.5856545250484644,
          -0.5491276400367309,
          -0.513416998265483,
          -0.47852259973472083,
          -0.4444444444444443,
          -0.41118253239465347,
          -0.37873686358534825,
          -0.3471074380165289,
          -0.316294255688195,
          -0.2862973166003468,
          -0.25711662075298425,
          -0.2287521681461074,
          -0.2012039587797162,
          -0.1744719926538108,
          -0.14855626976839093,
          -0.12345679012345671,
          -0.09917355371900817,
          -0.0757065605550453,
          -0.05305581063156808,
          -0.031221303948576647,
          -0.010203040506070762,
          0.009998979695949456,
          0.029384756657484114,
          0.047954290378532896,
          0.06570758085909602,
          0.08264462809917367,
          0.09876543209876547,
          0.11406999285787178,
          0.12855831037649226,
          0.14223038465462706,
          0.15508621569227637,
          0.16712580348943987,
          0.17834914804611784,
          0.18875624936231,
          0.19834710743801662,
          0.20712172227323747,
          0.21508009386797267,
          0.22222222222222227,
          0.22854810733598613,
          0.23405774920926442,
          0.23875114784205695,
          0.24262830323436388,
          0.2456892153861851,
          0.24793388429752067,
          0.24936230996837058,
          0.24997449239873482,
          0.2497704315886134,
          0.2487501275380063,
          0.24691358024691357,
          0.24426078971533516,
          0.24079175594327107,
          0.2365064789307213,
          0.2314049586776859,
          0.22548719518416482,
          0.21875318845015812,
          0.21120293847566574,
          0.20283644526068756,
          0.19365370880522392,
          0.1836547291092745,
          0.17283950617283939,
          0.1612080399959186,
          0.14876033057851235,
          0.1354963779206203,
          0.12141618202224247,
          0.10651974288337918,
          0.09080706050402998,
          0.07427813488419532,
          0.0569329660238751,
          0.03877155392306886,
          0.01979389858177727,
          0
         ]
        },
        {
         "line": {
          "color": "blue",
          "width": 2
         },
         "mode": "lines",
         "type": "scatter",
         "x": [
          1,
          0.9802061014182226,
          0.9612284460769309,
          0.9430670339761249,
          0.9257218651158046,
          0.9091929394959698,
          0.8934802571166207,
          0.8785838179777573,
          0.8645036220793796,
          0.8512396694214875,
          0.8387919600040812,
          0.8271604938271605,
          0.8163452708907254,
          0.8063462911947761,
          0.7971635547393123,
          0.7887970615243343,
          0.7812468115498419,
          0.7745128048158352,
          0.768595041322314,
          0.7634935210692786,
          0.7592082440567289,
          0.7557392102846648,
          0.7530864197530864,
          0.7512498724619936,
          0.7502295684113867,
          0.7500255076012652,
          0.7506376900316294,
          0.7520661157024793,
          0.754310784613815,
          0.7573716967656361,
          0.761248852157943,
          0.7659422507907356,
          0.7714518926640139,
          0.7777777777777778,
          0.7849199061320273,
          0.7928782777267627,
          0.8016528925619835,
          0.81124375063769,
          0.8216508519538823,
          0.8328741965105602,
          0.8449137843077238,
          0.857769615345373,
          0.8714416896235078,
          0.8859300071421283,
          0.9012345679012346,
          0.9173553719008265,
          0.9342924191409041,
          0.9520457096214673,
          0.9706152433425161,
          0.9900010203040507,
          1.010203040506071,
          1.031221303948577,
          1.0530558106315684,
          1.0757065605550453,
          1.0991735537190084,
          1.123456790123457,
          1.1485562697683913,
          1.174471992653811,
          1.2012039587797163,
          1.2287521681461078,
          1.2571166207529845,
          1.286297316600347,
          1.3162942556881951,
          1.3471074380165293,
          1.3787368635853485,
          1.4111825323946536,
          1.4444444444444446,
          1.478522599734721,
          1.5134169982654835,
          1.549127640036731,
          1.5856545250484648,
          1.6229976533006838,
          1.6611570247933884,
          1.7001326395265792,
          1.7399244975002552,
          1.7805325987144174,
          1.8219569431690648,
          1.8641975308641976,
          1.9072543617998168,
          1.951127435975921,
          1.9958167533925115,
          2.041322314049587,
          2.087644117947149,
          2.1347821650851957,
          2.1827364554637283,
          2.2315069890827472,
          2.281093765942251,
          2.331496786042241,
          2.3827160493827164,
          2.434751555963678,
          2.4876033057851243,
          2.5412712988470565,
          2.595755535149475,
          2.6510560146923785,
          2.7071727374757684,
          2.7641057034996432,
          2.821854912764004,
          2.8804203652688507,
          2.9398020610141824,
          3
         ],
         "y": [
          -2,
          -1.9398020610141822,
          -1.88042036526885,
          -1.8218549127640038,
          -1.764105703499643,
          -1.707172737475768,
          -1.6510560146923783,
          -1.5957555351494745,
          -1.5412712988470563,
          -1.487603305785124,
          -1.4347515559636772,
          -1.382716049382716,
          -1.3314967860422406,
          -1.2810937659422508,
          -1.2315069890827466,
          -1.1827364554637283,
          -1.1347821650851952,
          -1.0876441179471483,
          -1.0413223140495869,
          -0.9958167533925109,
          -0.9511274359759208,
          -0.9072543617998162,
          -0.8641975308641976,
          -0.8219569431690641,
          -0.7805325987144169,
          -0.739924497500255,
          -0.7001326395265788,
          -0.6611570247933882,
          -0.6229976533006835,
          -0.5856545250484644,
          -0.5491276400367309,
          -0.513416998265483,
          -0.47852259973472083,
          -0.4444444444444443,
          -0.41118253239465347,
          -0.37873686358534825,
          -0.3471074380165289,
          -0.316294255688195,
          -0.2862973166003468,
          -0.25711662075298425,
          -0.2287521681461074,
          -0.2012039587797162,
          -0.1744719926538108,
          -0.14855626976839093,
          -0.12345679012345671,
          -0.09917355371900817,
          -0.0757065605550453,
          -0.05305581063156808,
          -0.031221303948576647,
          -0.010203040506070762,
          0.009998979695949456,
          0.029384756657484114,
          0.047954290378532896,
          0.06570758085909602,
          0.08264462809917367,
          0.09876543209876547,
          0.11406999285787178,
          0.12855831037649226,
          0.14223038465462706,
          0.15508621569227637,
          0.16712580348943987,
          0.17834914804611784,
          0.18875624936231,
          0.19834710743801662,
          0.20712172227323747,
          0.21508009386797267,
          0.22222222222222227,
          0.22854810733598613,
          0.23405774920926442,
          0.23875114784205695,
          0.24262830323436388,
          0.2456892153861851,
          0.24793388429752067,
          0.24936230996837058,
          0.24997449239873482,
          0.2497704315886134,
          0.2487501275380063,
          0.24691358024691357,
          0.24426078971533516,
          0.24079175594327107,
          0.2365064789307213,
          0.2314049586776859,
          0.22548719518416482,
          0.21875318845015812,
          0.21120293847566574,
          0.20283644526068756,
          0.19365370880522392,
          0.1836547291092745,
          0.17283950617283939,
          0.1612080399959186,
          0.14876033057851235,
          0.1354963779206203,
          0.12141618202224247,
          0.10651974288337918,
          0.09080706050402998,
          0.07427813488419532,
          0.0569329660238751,
          0.03877155392306886,
          0.01979389858177727,
          0
         ]
        }
       ],
       "frames": [
        {
         "data": [
          {
           "marker": {
            "color": "red",
            "size": 10
           },
           "mode": "markers",
           "type": "scatter",
           "x": [
            0
           ],
           "y": [
            -2
           ]
          }
         ]
        },
        {
         "data": [
          {
           "marker": {
            "color": "red",
            "size": 10
           },
           "mode": "markers",
           "type": "scatter",
           "x": [
            -0.03915035401915867
           ],
           "y": [
            -1.8792169929196167
           ]
          }
         ]
        },
        {
         "data": [
          {
           "marker": {
            "color": "red",
            "size": 10
           },
           "mode": "markers",
           "type": "scatter",
           "x": [
            -0.07496876301541022
           ],
           "y": [
            -1.7617659308621407
           ]
          }
         ]
        },
        {
         "data": [
          {
           "marker": {
            "color": "red",
            "size": 10
           },
           "mode": "markers",
           "type": "scatter",
           "x": [
            -0.10745522698875476
           ],
           "y": [
            -1.6476468138275717
           ]
          }
         ]
        },
        {
         "data": [
          {
           "marker": {
            "color": "red",
            "size": 10
           },
           "mode": "markers",
           "type": "scatter",
           "x": [
            -0.13660974593919195
           ],
           "y": [
            -1.5368596418159102
           ]
          }
         ]
        },
        {
         "data": [
          {
           "marker": {
            "color": "red",
            "size": 10
           },
           "mode": "markers",
           "type": "scatter",
           "x": [
            -0.16243231986672224
           ],
           "y": [
            -1.4294044148271552
           ]
          }
         ]
        },
        {
         "data": [
          {
           "marker": {
            "color": "red",
            "size": 10
           },
           "mode": "markers",
           "type": "scatter",
           "x": [
            -0.1849229487713453
           ],
           "y": [
            -1.3252811328613077
           ]
          }
         ]
        },
        {
         "data": [
          {
           "marker": {
            "color": "red",
            "size": 10
           },
           "mode": "markers",
           "type": "scatter",
           "x": [
            -0.20408163265306123
           ],
           "y": [
            -1.2244897959183674
           ]
          }
         ]
        },
        {
         "data": [
          {
           "marker": {
            "color": "red",
            "size": 10
           },
           "mode": "markers",
           "type": "scatter",
           "x": [
            -0.21990837151187004
           ],
           "y": [
            -1.1270304039983343
           ]
          }
         ]
        },
        {
         "data": [
          {
           "marker": {
            "color": "red",
            "size": 10
           },
           "mode": "markers",
           "type": "scatter",
           "x": [
            -0.23240316534777178
           ],
           "y": [
            -1.0329029571012078
           ]
          }
         ]
        },
        {
         "data": [
          {
           "marker": {
            "color": "red",
            "size": 10
           },
           "mode": "markers",
           "type": "scatter",
           "x": [
            -0.24156601416076634
           ],
           "y": [
            -0.9421074552269888
           ]
          }
         ]
        },
        {
         "data": [
          {
           "marker": {
            "color": "red",
            "size": 10
           },
           "mode": "markers",
           "type": "scatter",
           "x": [
            -0.24739691795085378
           ],
           "y": [
            -0.854643898375677
           ]
          }
         ]
        },
        {
         "data": [
          {
           "marker": {
            "color": "red",
            "size": 10
           },
           "mode": "markers",
           "type": "scatter",
           "x": [
            -0.24989587671803415
           ],
           "y": [
            -0.770512286547272
           ]
          }
         ]
        },
        {
         "data": [
          {
           "marker": {
            "color": "red",
            "size": 10
           },
           "mode": "markers",
           "type": "scatter",
           "x": [
            -0.24906289046230737
           ],
           "y": [
            -0.6897126197417744
           ]
          }
         ]
        },
        {
         "data": [
          {
           "marker": {
            "color": "red",
            "size": 10
           },
           "mode": "markers",
           "type": "scatter",
           "x": [
            -0.24489795918367346
           ],
           "y": [
            -0.6122448979591837
           ]
          }
         ]
        },
        {
         "data": [
          {
           "marker": {
            "color": "red",
            "size": 10
           },
           "mode": "markers",
           "type": "scatter",
           "x": [
            -0.23740108288213246
           ],
           "y": [
            -0.5381091211995004
           ]
          }
         ]
        },
        {
         "data": [
          {
           "marker": {
            "color": "red",
            "size": 10
           },
           "mode": "markers",
           "type": "scatter",
           "x": [
            -0.2265722615576843
           ],
           "y": [
            -0.467305289462724
           ]
          }
         ]
        },
        {
         "data": [
          {
           "marker": {
            "color": "red",
            "size": 10
           },
           "mode": "markers",
           "type": "scatter",
           "x": [
            -0.21241149521032904
           ],
           "y": [
            -0.39983340274885465
           ]
          }
         ]
        },
        {
         "data": [
          {
           "marker": {
            "color": "red",
            "size": 10
           },
           "mode": "markers",
           "type": "scatter",
           "x": [
            -0.19491878384006667
           ],
           "y": [
            -0.33569346105789266
           ]
          }
         ]
        },
        {
         "data": [
          {
           "marker": {
            "color": "red",
            "size": 10
           },
           "mode": "markers",
           "type": "scatter",
           "x": [
            -0.17409412744689715
           ],
           "y": [
            -0.27488546438983763
           ]
          }
         ]
        },
        {
         "data": [
          {
           "marker": {
            "color": "red",
            "size": 10
           },
           "mode": "markers",
           "type": "scatter",
           "x": [
            -0.14993752603082056
           ],
           "y": [
            -0.21740941274468983
           ]
          }
         ]
        },
        {
         "data": [
          {
           "marker": {
            "color": "red",
            "size": 10
           },
           "mode": "markers",
           "type": "scatter",
           "x": [
            -0.12244897959183677
           ],
           "y": [
            -0.16326530612244905
           ]
          }
         ]
        },
        {
         "data": [
          {
           "marker": {
            "color": "red",
            "size": 10
           },
           "mode": "markers",
           "type": "scatter",
           "x": [
            -0.09162848812994595
           ],
           "y": [
            -0.1124531445231155
           ]
          }
         ]
        },
        {
         "data": [
          {
           "marker": {
            "color": "red",
            "size": 10
           },
           "mode": "markers",
           "type": "scatter",
           "x": [
            -0.057476051645147914
           ],
           "y": [
            -0.06497292794668895
           ]
          }
         ]
        },
        {
         "data": [
          {
           "marker": {
            "color": "red",
            "size": 10
           },
           "mode": "markers",
           "type": "scatter",
           "x": [
            -0.019991670137442755
           ],
           "y": [
            -0.020824656393169536
           ]
          }
         ]
        },
        {
         "data": [
          {
           "marker": {
            "color": "red",
            "size": 10
           },
           "mode": "markers",
           "type": "scatter",
           "x": [
            0.020824656393169536
           ],
           "y": [
            0.019991670137442755
           ]
          }
         ]
        },
        {
         "data": [
          {
           "marker": {
            "color": "red",
            "size": 10
           },
           "mode": "markers",
           "type": "scatter",
           "x": [
            0.06497292794668871
           ],
           "y": [
            0.05747605164514772
           ]
          }
         ]
        },
        {
         "data": [
          {
           "marker": {
            "color": "red",
            "size": 10
           },
           "mode": "markers",
           "type": "scatter",
           "x": [
            0.11245314452311524
           ],
           "y": [
            0.09162848812994577
           ]
          }
         ]
        },
        {
         "data": [
          {
           "marker": {
            "color": "red",
            "size": 10
           },
           "mode": "markers",
           "type": "scatter",
           "x": [
            0.16326530612244888
           ],
           "y": [
            0.12244897959183669
           ]
          }
         ]
        },
        {
         "data": [
          {
           "marker": {
            "color": "red",
            "size": 10
           },
           "mode": "markers",
           "type": "scatter",
           "x": [
            0.2174094127446897
           ],
           "y": [
            0.14993752603082047
           ]
          }
         ]
        },
        {
         "data": [
          {
           "marker": {
            "color": "red",
            "size": 10
           },
           "mode": "markers",
           "type": "scatter",
           "x": [
            0.2748854643898373
           ],
           "y": [
            0.174094127446897
           ]
          }
         ]
        },
        {
         "data": [
          {
           "marker": {
            "color": "red",
            "size": 10
           },
           "mode": "markers",
           "type": "scatter",
           "x": [
            0.33569346105789233
           ],
           "y": [
            0.19491878384006656
           ]
          }
         ]
        },
        {
         "data": [
          {
           "marker": {
            "color": "red",
            "size": 10
           },
           "mode": "markers",
           "type": "scatter",
           "x": [
            0.3998334027488545
           ],
           "y": [
            0.21241149521032898
           ]
          }
         ]
        },
        {
         "data": [
          {
           "marker": {
            "color": "red",
            "size": 10
           },
           "mode": "markers",
           "type": "scatter",
           "x": [
            0.46730528946272376
           ],
           "y": [
            0.22657226155768428
           ]
          }
         ]
        },
        {
         "data": [
          {
           "marker": {
            "color": "red",
            "size": 10
           },
           "mode": "markers",
           "type": "scatter",
           "x": [
            0.5381091211995002
           ],
           "y": [
            0.23740108288213244
           ]
          }
         ]
        },
        {
         "data": [
          {
           "marker": {
            "color": "red",
            "size": 10
           },
           "mode": "markers",
           "type": "scatter",
           "x": [
            0.6122448979591834
           ],
           "y": [
            0.24489795918367344
           ]
          }
         ]
        },
        {
         "data": [
          {
           "marker": {
            "color": "red",
            "size": 10
           },
           "mode": "markers",
           "type": "scatter",
           "x": [
            0.689712619741774
           ],
           "y": [
            0.24906289046230737
           ]
          }
         ]
        },
        {
         "data": [
          {
           "marker": {
            "color": "red",
            "size": 10
           },
           "mode": "markers",
           "type": "scatter",
           "x": [
            0.7705122865472718
           ],
           "y": [
            0.24989587671803415
           ]
          }
         ]
        },
        {
         "data": [
          {
           "marker": {
            "color": "red",
            "size": 10
           },
           "mode": "markers",
           "type": "scatter",
           "x": [
            0.8546438983756767
           ],
           "y": [
            0.24739691795085383
           ]
          }
         ]
        },
        {
         "data": [
          {
           "marker": {
            "color": "red",
            "size": 10
           },
           "mode": "markers",
           "type": "scatter",
           "x": [
            0.9421074552269882
           ],
           "y": [
            0.2415660141607664
           ]
          }
         ]
        },
        {
         "data": [
          {
           "marker": {
            "color": "red",
            "size": 10
           },
           "mode": "markers",
           "type": "scatter",
           "x": [
            1.0329029571012074
           ],
           "y": [
            0.23240316534777183
           ]
          }
         ]
        },
        {
         "data": [
          {
           "marker": {
            "color": "red",
            "size": 10
           },
           "mode": "markers",
           "type": "scatter",
           "x": [
            1.1270304039983337
           ],
           "y": [
            0.2199083715118701
           ]
          }
         ]
        },
        {
         "data": [
          {
           "marker": {
            "color": "red",
            "size": 10
           },
           "mode": "markers",
           "type": "scatter",
           "x": [
            1.2244897959183672
           ],
           "y": [
            0.20408163265306123
           ]
          }
         ]
        },
        {
         "data": [
          {
           "marker": {
            "color": "red",
            "size": 10
           },
           "mode": "markers",
           "type": "scatter",
           "x": [
            1.3252811328613077
           ],
           "y": [
            0.1849229487713453
           ]
          }
         ]
        },
        {
         "data": [
          {
           "marker": {
            "color": "red",
            "size": 10
           },
           "mode": "markers",
           "type": "scatter",
           "x": [
            1.4294044148271547
           ],
           "y": [
            0.16243231986672235
           ]
          }
         ]
        },
        {
         "data": [
          {
           "marker": {
            "color": "red",
            "size": 10
           },
           "mode": "markers",
           "type": "scatter",
           "x": [
            1.5368596418159095
           ],
           "y": [
            0.13660974593919217
           ]
          }
         ]
        },
        {
         "data": [
          {
           "marker": {
            "color": "red",
            "size": 10
           },
           "mode": "markers",
           "type": "scatter",
           "x": [
            1.6476468138275715
           ],
           "y": [
            0.10745522698875476
           ]
          }
         ]
        },
        {
         "data": [
          {
           "marker": {
            "color": "red",
            "size": 10
           },
           "mode": "markers",
           "type": "scatter",
           "x": [
            1.7617659308621405
           ],
           "y": [
            0.07496876301541033
           ]
          }
         ]
        },
        {
         "data": [
          {
           "marker": {
            "color": "red",
            "size": 10
           },
           "mode": "markers",
           "type": "scatter",
           "x": [
            1.8792169929196167
           ],
           "y": [
            0.03915035401915867
           ]
          }
         ]
        },
        {
         "data": [
          {
           "marker": {
            "color": "red",
            "size": 10
           },
           "mode": "markers",
           "type": "scatter",
           "x": [
            2
           ],
           "y": [
            0
           ]
          }
         ]
        }
       ],
       "layout": {
        "hovermode": "closest",
        "template": {
         "data": {
          "bar": [
           {
            "error_x": {
             "color": "#2a3f5f"
            },
            "error_y": {
             "color": "#2a3f5f"
            },
            "marker": {
             "line": {
              "color": "#E5ECF6",
              "width": 0.5
             },
             "pattern": {
              "fillmode": "overlay",
              "size": 10,
              "solidity": 0.2
             }
            },
            "type": "bar"
           }
          ],
          "barpolar": [
           {
            "marker": {
             "line": {
              "color": "#E5ECF6",
              "width": 0.5
             },
             "pattern": {
              "fillmode": "overlay",
              "size": 10,
              "solidity": 0.2
             }
            },
            "type": "barpolar"
           }
          ],
          "carpet": [
           {
            "aaxis": {
             "endlinecolor": "#2a3f5f",
             "gridcolor": "white",
             "linecolor": "white",
             "minorgridcolor": "white",
             "startlinecolor": "#2a3f5f"
            },
            "baxis": {
             "endlinecolor": "#2a3f5f",
             "gridcolor": "white",
             "linecolor": "white",
             "minorgridcolor": "white",
             "startlinecolor": "#2a3f5f"
            },
            "type": "carpet"
           }
          ],
          "choropleth": [
           {
            "colorbar": {
             "outlinewidth": 0,
             "ticks": ""
            },
            "type": "choropleth"
           }
          ],
          "contour": [
           {
            "colorbar": {
             "outlinewidth": 0,
             "ticks": ""
            },
            "colorscale": [
             [
              0,
              "#0d0887"
             ],
             [
              0.1111111111111111,
              "#46039f"
             ],
             [
              0.2222222222222222,
              "#7201a8"
             ],
             [
              0.3333333333333333,
              "#9c179e"
             ],
             [
              0.4444444444444444,
              "#bd3786"
             ],
             [
              0.5555555555555556,
              "#d8576b"
             ],
             [
              0.6666666666666666,
              "#ed7953"
             ],
             [
              0.7777777777777778,
              "#fb9f3a"
             ],
             [
              0.8888888888888888,
              "#fdca26"
             ],
             [
              1,
              "#f0f921"
             ]
            ],
            "type": "contour"
           }
          ],
          "contourcarpet": [
           {
            "colorbar": {
             "outlinewidth": 0,
             "ticks": ""
            },
            "type": "contourcarpet"
           }
          ],
          "heatmap": [
           {
            "colorbar": {
             "outlinewidth": 0,
             "ticks": ""
            },
            "colorscale": [
             [
              0,
              "#0d0887"
             ],
             [
              0.1111111111111111,
              "#46039f"
             ],
             [
              0.2222222222222222,
              "#7201a8"
             ],
             [
              0.3333333333333333,
              "#9c179e"
             ],
             [
              0.4444444444444444,
              "#bd3786"
             ],
             [
              0.5555555555555556,
              "#d8576b"
             ],
             [
              0.6666666666666666,
              "#ed7953"
             ],
             [
              0.7777777777777778,
              "#fb9f3a"
             ],
             [
              0.8888888888888888,
              "#fdca26"
             ],
             [
              1,
              "#f0f921"
             ]
            ],
            "type": "heatmap"
           }
          ],
          "heatmapgl": [
           {
            "colorbar": {
             "outlinewidth": 0,
             "ticks": ""
            },
            "colorscale": [
             [
              0,
              "#0d0887"
             ],
             [
              0.1111111111111111,
              "#46039f"
             ],
             [
              0.2222222222222222,
              "#7201a8"
             ],
             [
              0.3333333333333333,
              "#9c179e"
             ],
             [
              0.4444444444444444,
              "#bd3786"
             ],
             [
              0.5555555555555556,
              "#d8576b"
             ],
             [
              0.6666666666666666,
              "#ed7953"
             ],
             [
              0.7777777777777778,
              "#fb9f3a"
             ],
             [
              0.8888888888888888,
              "#fdca26"
             ],
             [
              1,
              "#f0f921"
             ]
            ],
            "type": "heatmapgl"
           }
          ],
          "histogram": [
           {
            "marker": {
             "pattern": {
              "fillmode": "overlay",
              "size": 10,
              "solidity": 0.2
             }
            },
            "type": "histogram"
           }
          ],
          "histogram2d": [
           {
            "colorbar": {
             "outlinewidth": 0,
             "ticks": ""
            },
            "colorscale": [
             [
              0,
              "#0d0887"
             ],
             [
              0.1111111111111111,
              "#46039f"
             ],
             [
              0.2222222222222222,
              "#7201a8"
             ],
             [
              0.3333333333333333,
              "#9c179e"
             ],
             [
              0.4444444444444444,
              "#bd3786"
             ],
             [
              0.5555555555555556,
              "#d8576b"
             ],
             [
              0.6666666666666666,
              "#ed7953"
             ],
             [
              0.7777777777777778,
              "#fb9f3a"
             ],
             [
              0.8888888888888888,
              "#fdca26"
             ],
             [
              1,
              "#f0f921"
             ]
            ],
            "type": "histogram2d"
           }
          ],
          "histogram2dcontour": [
           {
            "colorbar": {
             "outlinewidth": 0,
             "ticks": ""
            },
            "colorscale": [
             [
              0,
              "#0d0887"
             ],
             [
              0.1111111111111111,
              "#46039f"
             ],
             [
              0.2222222222222222,
              "#7201a8"
             ],
             [
              0.3333333333333333,
              "#9c179e"
             ],
             [
              0.4444444444444444,
              "#bd3786"
             ],
             [
              0.5555555555555556,
              "#d8576b"
             ],
             [
              0.6666666666666666,
              "#ed7953"
             ],
             [
              0.7777777777777778,
              "#fb9f3a"
             ],
             [
              0.8888888888888888,
              "#fdca26"
             ],
             [
              1,
              "#f0f921"
             ]
            ],
            "type": "histogram2dcontour"
           }
          ],
          "mesh3d": [
           {
            "colorbar": {
             "outlinewidth": 0,
             "ticks": ""
            },
            "type": "mesh3d"
           }
          ],
          "parcoords": [
           {
            "line": {
             "colorbar": {
              "outlinewidth": 0,
              "ticks": ""
             }
            },
            "type": "parcoords"
           }
          ],
          "pie": [
           {
            "automargin": true,
            "type": "pie"
           }
          ],
          "scatter": [
           {
            "marker": {
             "colorbar": {
              "outlinewidth": 0,
              "ticks": ""
             }
            },
            "type": "scatter"
           }
          ],
          "scatter3d": [
           {
            "line": {
             "colorbar": {
              "outlinewidth": 0,
              "ticks": ""
             }
            },
            "marker": {
             "colorbar": {
              "outlinewidth": 0,
              "ticks": ""
             }
            },
            "type": "scatter3d"
           }
          ],
          "scattercarpet": [
           {
            "marker": {
             "colorbar": {
              "outlinewidth": 0,
              "ticks": ""
             }
            },
            "type": "scattercarpet"
           }
          ],
          "scattergeo": [
           {
            "marker": {
             "colorbar": {
              "outlinewidth": 0,
              "ticks": ""
             }
            },
            "type": "scattergeo"
           }
          ],
          "scattergl": [
           {
            "marker": {
             "colorbar": {
              "outlinewidth": 0,
              "ticks": ""
             }
            },
            "type": "scattergl"
           }
          ],
          "scattermapbox": [
           {
            "marker": {
             "colorbar": {
              "outlinewidth": 0,
              "ticks": ""
             }
            },
            "type": "scattermapbox"
           }
          ],
          "scatterpolar": [
           {
            "marker": {
             "colorbar": {
              "outlinewidth": 0,
              "ticks": ""
             }
            },
            "type": "scatterpolar"
           }
          ],
          "scatterpolargl": [
           {
            "marker": {
             "colorbar": {
              "outlinewidth": 0,
              "ticks": ""
             }
            },
            "type": "scatterpolargl"
           }
          ],
          "scatterternary": [
           {
            "marker": {
             "colorbar": {
              "outlinewidth": 0,
              "ticks": ""
             }
            },
            "type": "scatterternary"
           }
          ],
          "surface": [
           {
            "colorbar": {
             "outlinewidth": 0,
             "ticks": ""
            },
            "colorscale": [
             [
              0,
              "#0d0887"
             ],
             [
              0.1111111111111111,
              "#46039f"
             ],
             [
              0.2222222222222222,
              "#7201a8"
             ],
             [
              0.3333333333333333,
              "#9c179e"
             ],
             [
              0.4444444444444444,
              "#bd3786"
             ],
             [
              0.5555555555555556,
              "#d8576b"
             ],
             [
              0.6666666666666666,
              "#ed7953"
             ],
             [
              0.7777777777777778,
              "#fb9f3a"
             ],
             [
              0.8888888888888888,
              "#fdca26"
             ],
             [
              1,
              "#f0f921"
             ]
            ],
            "type": "surface"
           }
          ],
          "table": [
           {
            "cells": {
             "fill": {
              "color": "#EBF0F8"
             },
             "line": {
              "color": "white"
             }
            },
            "header": {
             "fill": {
              "color": "#C8D4E3"
             },
             "line": {
              "color": "white"
             }
            },
            "type": "table"
           }
          ]
         },
         "layout": {
          "annotationdefaults": {
           "arrowcolor": "#2a3f5f",
           "arrowhead": 0,
           "arrowwidth": 1
          },
          "autotypenumbers": "strict",
          "coloraxis": {
           "colorbar": {
            "outlinewidth": 0,
            "ticks": ""
           }
          },
          "colorscale": {
           "diverging": [
            [
             0,
             "#8e0152"
            ],
            [
             0.1,
             "#c51b7d"
            ],
            [
             0.2,
             "#de77ae"
            ],
            [
             0.3,
             "#f1b6da"
            ],
            [
             0.4,
             "#fde0ef"
            ],
            [
             0.5,
             "#f7f7f7"
            ],
            [
             0.6,
             "#e6f5d0"
            ],
            [
             0.7,
             "#b8e186"
            ],
            [
             0.8,
             "#7fbc41"
            ],
            [
             0.9,
             "#4d9221"
            ],
            [
             1,
             "#276419"
            ]
           ],
           "sequential": [
            [
             0,
             "#0d0887"
            ],
            [
             0.1111111111111111,
             "#46039f"
            ],
            [
             0.2222222222222222,
             "#7201a8"
            ],
            [
             0.3333333333333333,
             "#9c179e"
            ],
            [
             0.4444444444444444,
             "#bd3786"
            ],
            [
             0.5555555555555556,
             "#d8576b"
            ],
            [
             0.6666666666666666,
             "#ed7953"
            ],
            [
             0.7777777777777778,
             "#fb9f3a"
            ],
            [
             0.8888888888888888,
             "#fdca26"
            ],
            [
             1,
             "#f0f921"
            ]
           ],
           "sequentialminus": [
            [
             0,
             "#0d0887"
            ],
            [
             0.1111111111111111,
             "#46039f"
            ],
            [
             0.2222222222222222,
             "#7201a8"
            ],
            [
             0.3333333333333333,
             "#9c179e"
            ],
            [
             0.4444444444444444,
             "#bd3786"
            ],
            [
             0.5555555555555556,
             "#d8576b"
            ],
            [
             0.6666666666666666,
             "#ed7953"
            ],
            [
             0.7777777777777778,
             "#fb9f3a"
            ],
            [
             0.8888888888888888,
             "#fdca26"
            ],
            [
             1,
             "#f0f921"
            ]
           ]
          },
          "colorway": [
           "#636efa",
           "#EF553B",
           "#00cc96",
           "#ab63fa",
           "#FFA15A",
           "#19d3f3",
           "#FF6692",
           "#B6E880",
           "#FF97FF",
           "#FECB52"
          ],
          "font": {
           "color": "#2a3f5f"
          },
          "geo": {
           "bgcolor": "white",
           "lakecolor": "white",
           "landcolor": "#E5ECF6",
           "showlakes": true,
           "showland": true,
           "subunitcolor": "white"
          },
          "hoverlabel": {
           "align": "left"
          },
          "hovermode": "closest",
          "mapbox": {
           "style": "light"
          },
          "paper_bgcolor": "white",
          "plot_bgcolor": "#E5ECF6",
          "polar": {
           "angularaxis": {
            "gridcolor": "white",
            "linecolor": "white",
            "ticks": ""
           },
           "bgcolor": "#E5ECF6",
           "radialaxis": {
            "gridcolor": "white",
            "linecolor": "white",
            "ticks": ""
           }
          },
          "scene": {
           "xaxis": {
            "backgroundcolor": "#E5ECF6",
            "gridcolor": "white",
            "gridwidth": 2,
            "linecolor": "white",
            "showbackground": true,
            "ticks": "",
            "zerolinecolor": "white"
           },
           "yaxis": {
            "backgroundcolor": "#E5ECF6",
            "gridcolor": "white",
            "gridwidth": 2,
            "linecolor": "white",
            "showbackground": true,
            "ticks": "",
            "zerolinecolor": "white"
           },
           "zaxis": {
            "backgroundcolor": "#E5ECF6",
            "gridcolor": "white",
            "gridwidth": 2,
            "linecolor": "white",
            "showbackground": true,
            "ticks": "",
            "zerolinecolor": "white"
           }
          },
          "shapedefaults": {
           "line": {
            "color": "#2a3f5f"
           }
          },
          "ternary": {
           "aaxis": {
            "gridcolor": "white",
            "linecolor": "white",
            "ticks": ""
           },
           "baxis": {
            "gridcolor": "white",
            "linecolor": "white",
            "ticks": ""
           },
           "bgcolor": "#E5ECF6",
           "caxis": {
            "gridcolor": "white",
            "linecolor": "white",
            "ticks": ""
           }
          },
          "title": {
           "x": 0.05
          },
          "xaxis": {
           "automargin": true,
           "gridcolor": "white",
           "linecolor": "white",
           "ticks": "",
           "title": {
            "standoff": 15
           },
           "zerolinecolor": "white",
           "zerolinewidth": 2
          },
          "yaxis": {
           "automargin": true,
           "gridcolor": "white",
           "linecolor": "white",
           "ticks": "",
           "title": {
            "standoff": 15
           },
           "zerolinecolor": "white",
           "zerolinewidth": 2
          }
         }
        },
        "title": {
         "text": "Kinematic Generation of a Planar Curve"
        },
        "updatemenus": [
         {
          "buttons": [
           {
            "args": [
             null
            ],
            "label": "Play",
            "method": "animate"
           }
          ],
          "type": "buttons"
         }
        ],
        "xaxis": {
         "autorange": false,
         "range": [
          -0.7499744923987348,
          4.5
         ],
         "zeroline": false
        },
        "yaxis": {
         "autorange": false,
         "range": [
          -3.5,
          1.7499744923987348
         ],
         "zeroline": false
        }
       }
      },
      "text/html": [
       "<div>                            <div id=\"eafa19a3-17d0-417d-966b-a9e832ac0395\" class=\"plotly-graph-div\" style=\"height:525px; width:100%;\"></div>            <script type=\"text/javascript\">                require([\"plotly\"], function(Plotly) {                    window.PLOTLYENV=window.PLOTLYENV || {};                                    if (document.getElementById(\"eafa19a3-17d0-417d-966b-a9e832ac0395\")) {                    Plotly.newPlot(                        \"eafa19a3-17d0-417d-966b-a9e832ac0395\",                        [{\"line\":{\"color\":\"blue\",\"width\":2},\"mode\":\"lines\",\"x\":[1.0,0.9802061014182226,0.9612284460769309,0.9430670339761249,0.9257218651158046,0.9091929394959698,0.8934802571166207,0.8785838179777573,0.8645036220793796,0.8512396694214875,0.8387919600040812,0.8271604938271605,0.8163452708907254,0.8063462911947761,0.7971635547393123,0.7887970615243343,0.7812468115498419,0.7745128048158352,0.768595041322314,0.7634935210692786,0.7592082440567289,0.7557392102846648,0.7530864197530864,0.7512498724619936,0.7502295684113867,0.7500255076012652,0.7506376900316294,0.7520661157024793,0.754310784613815,0.7573716967656361,0.761248852157943,0.7659422507907356,0.7714518926640139,0.7777777777777778,0.7849199061320273,0.7928782777267627,0.8016528925619835,0.81124375063769,0.8216508519538823,0.8328741965105602,0.8449137843077238,0.857769615345373,0.8714416896235078,0.8859300071421283,0.9012345679012346,0.9173553719008265,0.9342924191409041,0.9520457096214673,0.9706152433425161,0.9900010203040507,1.010203040506071,1.031221303948577,1.0530558106315684,1.0757065605550453,1.0991735537190084,1.123456790123457,1.1485562697683913,1.174471992653811,1.2012039587797163,1.2287521681461078,1.2571166207529845,1.286297316600347,1.3162942556881951,1.3471074380165293,1.3787368635853485,1.4111825323946536,1.4444444444444446,1.478522599734721,1.5134169982654835,1.549127640036731,1.5856545250484648,1.6229976533006838,1.6611570247933884,1.7001326395265792,1.7399244975002552,1.7805325987144174,1.8219569431690648,1.8641975308641976,1.9072543617998168,1.951127435975921,1.9958167533925115,2.041322314049587,2.087644117947149,2.1347821650851957,2.1827364554637283,2.2315069890827472,2.281093765942251,2.331496786042241,2.3827160493827164,2.434751555963678,2.4876033057851243,2.5412712988470565,2.595755535149475,2.6510560146923785,2.7071727374757684,2.7641057034996432,2.821854912764004,2.8804203652688507,2.9398020610141824,3.0],\"y\":[-2.0,-1.9398020610141822,-1.88042036526885,-1.8218549127640038,-1.764105703499643,-1.707172737475768,-1.6510560146923783,-1.5957555351494745,-1.5412712988470563,-1.487603305785124,-1.4347515559636772,-1.382716049382716,-1.3314967860422406,-1.2810937659422508,-1.2315069890827466,-1.1827364554637283,-1.1347821650851952,-1.0876441179471483,-1.0413223140495869,-0.9958167533925109,-0.9511274359759208,-0.9072543617998162,-0.8641975308641976,-0.8219569431690641,-0.7805325987144169,-0.739924497500255,-0.7001326395265788,-0.6611570247933882,-0.6229976533006835,-0.5856545250484644,-0.5491276400367309,-0.513416998265483,-0.47852259973472083,-0.4444444444444443,-0.41118253239465347,-0.37873686358534825,-0.3471074380165289,-0.316294255688195,-0.2862973166003468,-0.25711662075298425,-0.2287521681461074,-0.2012039587797162,-0.1744719926538108,-0.14855626976839093,-0.12345679012345671,-0.09917355371900817,-0.0757065605550453,-0.05305581063156808,-0.031221303948576647,-0.010203040506070762,0.009998979695949456,0.029384756657484114,0.047954290378532896,0.06570758085909602,0.08264462809917367,0.09876543209876547,0.11406999285787178,0.12855831037649226,0.14223038465462706,0.15508621569227637,0.16712580348943987,0.17834914804611784,0.18875624936231,0.19834710743801662,0.20712172227323747,0.21508009386797267,0.22222222222222227,0.22854810733598613,0.23405774920926442,0.23875114784205695,0.24262830323436388,0.2456892153861851,0.24793388429752067,0.24936230996837058,0.24997449239873482,0.2497704315886134,0.2487501275380063,0.24691358024691357,0.24426078971533516,0.24079175594327107,0.2365064789307213,0.2314049586776859,0.22548719518416482,0.21875318845015812,0.21120293847566574,0.20283644526068756,0.19365370880522392,0.1836547291092745,0.17283950617283939,0.1612080399959186,0.14876033057851235,0.1354963779206203,0.12141618202224247,0.10651974288337918,0.09080706050402998,0.07427813488419532,0.0569329660238751,0.03877155392306886,0.01979389858177727,0.0],\"type\":\"scatter\"},{\"line\":{\"color\":\"blue\",\"width\":2},\"mode\":\"lines\",\"x\":[1.0,0.9802061014182226,0.9612284460769309,0.9430670339761249,0.9257218651158046,0.9091929394959698,0.8934802571166207,0.8785838179777573,0.8645036220793796,0.8512396694214875,0.8387919600040812,0.8271604938271605,0.8163452708907254,0.8063462911947761,0.7971635547393123,0.7887970615243343,0.7812468115498419,0.7745128048158352,0.768595041322314,0.7634935210692786,0.7592082440567289,0.7557392102846648,0.7530864197530864,0.7512498724619936,0.7502295684113867,0.7500255076012652,0.7506376900316294,0.7520661157024793,0.754310784613815,0.7573716967656361,0.761248852157943,0.7659422507907356,0.7714518926640139,0.7777777777777778,0.7849199061320273,0.7928782777267627,0.8016528925619835,0.81124375063769,0.8216508519538823,0.8328741965105602,0.8449137843077238,0.857769615345373,0.8714416896235078,0.8859300071421283,0.9012345679012346,0.9173553719008265,0.9342924191409041,0.9520457096214673,0.9706152433425161,0.9900010203040507,1.010203040506071,1.031221303948577,1.0530558106315684,1.0757065605550453,1.0991735537190084,1.123456790123457,1.1485562697683913,1.174471992653811,1.2012039587797163,1.2287521681461078,1.2571166207529845,1.286297316600347,1.3162942556881951,1.3471074380165293,1.3787368635853485,1.4111825323946536,1.4444444444444446,1.478522599734721,1.5134169982654835,1.549127640036731,1.5856545250484648,1.6229976533006838,1.6611570247933884,1.7001326395265792,1.7399244975002552,1.7805325987144174,1.8219569431690648,1.8641975308641976,1.9072543617998168,1.951127435975921,1.9958167533925115,2.041322314049587,2.087644117947149,2.1347821650851957,2.1827364554637283,2.2315069890827472,2.281093765942251,2.331496786042241,2.3827160493827164,2.434751555963678,2.4876033057851243,2.5412712988470565,2.595755535149475,2.6510560146923785,2.7071727374757684,2.7641057034996432,2.821854912764004,2.8804203652688507,2.9398020610141824,3.0],\"y\":[-2.0,-1.9398020610141822,-1.88042036526885,-1.8218549127640038,-1.764105703499643,-1.707172737475768,-1.6510560146923783,-1.5957555351494745,-1.5412712988470563,-1.487603305785124,-1.4347515559636772,-1.382716049382716,-1.3314967860422406,-1.2810937659422508,-1.2315069890827466,-1.1827364554637283,-1.1347821650851952,-1.0876441179471483,-1.0413223140495869,-0.9958167533925109,-0.9511274359759208,-0.9072543617998162,-0.8641975308641976,-0.8219569431690641,-0.7805325987144169,-0.739924497500255,-0.7001326395265788,-0.6611570247933882,-0.6229976533006835,-0.5856545250484644,-0.5491276400367309,-0.513416998265483,-0.47852259973472083,-0.4444444444444443,-0.41118253239465347,-0.37873686358534825,-0.3471074380165289,-0.316294255688195,-0.2862973166003468,-0.25711662075298425,-0.2287521681461074,-0.2012039587797162,-0.1744719926538108,-0.14855626976839093,-0.12345679012345671,-0.09917355371900817,-0.0757065605550453,-0.05305581063156808,-0.031221303948576647,-0.010203040506070762,0.009998979695949456,0.029384756657484114,0.047954290378532896,0.06570758085909602,0.08264462809917367,0.09876543209876547,0.11406999285787178,0.12855831037649226,0.14223038465462706,0.15508621569227637,0.16712580348943987,0.17834914804611784,0.18875624936231,0.19834710743801662,0.20712172227323747,0.21508009386797267,0.22222222222222227,0.22854810733598613,0.23405774920926442,0.23875114784205695,0.24262830323436388,0.2456892153861851,0.24793388429752067,0.24936230996837058,0.24997449239873482,0.2497704315886134,0.2487501275380063,0.24691358024691357,0.24426078971533516,0.24079175594327107,0.2365064789307213,0.2314049586776859,0.22548719518416482,0.21875318845015812,0.21120293847566574,0.20283644526068756,0.19365370880522392,0.1836547291092745,0.17283950617283939,0.1612080399959186,0.14876033057851235,0.1354963779206203,0.12141618202224247,0.10651974288337918,0.09080706050402998,0.07427813488419532,0.0569329660238751,0.03877155392306886,0.01979389858177727,0.0],\"type\":\"scatter\"}],                        {\"hovermode\":\"closest\",\"title\":{\"text\":\"Kinematic Generation of a Planar Curve\"},\"updatemenus\":[{\"buttons\":[{\"args\":[null],\"label\":\"Play\",\"method\":\"animate\"}],\"type\":\"buttons\"}],\"xaxis\":{\"autorange\":false,\"range\":[-0.7499744923987348,4.5],\"zeroline\":false},\"yaxis\":{\"autorange\":false,\"range\":[-3.5,1.7499744923987348],\"zeroline\":false},\"template\":{\"data\":{\"bar\":[{\"error_x\":{\"color\":\"#2a3f5f\"},\"error_y\":{\"color\":\"#2a3f5f\"},\"marker\":{\"line\":{\"color\":\"#E5ECF6\",\"width\":0.5},\"pattern\":{\"fillmode\":\"overlay\",\"size\":10,\"solidity\":0.2}},\"type\":\"bar\"}],\"barpolar\":[{\"marker\":{\"line\":{\"color\":\"#E5ECF6\",\"width\":0.5},\"pattern\":{\"fillmode\":\"overlay\",\"size\":10,\"solidity\":0.2}},\"type\":\"barpolar\"}],\"carpet\":[{\"aaxis\":{\"endlinecolor\":\"#2a3f5f\",\"gridcolor\":\"white\",\"linecolor\":\"white\",\"minorgridcolor\":\"white\",\"startlinecolor\":\"#2a3f5f\"},\"baxis\":{\"endlinecolor\":\"#2a3f5f\",\"gridcolor\":\"white\",\"linecolor\":\"white\",\"minorgridcolor\":\"white\",\"startlinecolor\":\"#2a3f5f\"},\"type\":\"carpet\"}],\"choropleth\":[{\"colorbar\":{\"outlinewidth\":0,\"ticks\":\"\"},\"type\":\"choropleth\"}],\"contour\":[{\"colorbar\":{\"outlinewidth\":0,\"ticks\":\"\"},\"colorscale\":[[0.0,\"#0d0887\"],[0.1111111111111111,\"#46039f\"],[0.2222222222222222,\"#7201a8\"],[0.3333333333333333,\"#9c179e\"],[0.4444444444444444,\"#bd3786\"],[0.5555555555555556,\"#d8576b\"],[0.6666666666666666,\"#ed7953\"],[0.7777777777777778,\"#fb9f3a\"],[0.8888888888888888,\"#fdca26\"],[1.0,\"#f0f921\"]],\"type\":\"contour\"}],\"contourcarpet\":[{\"colorbar\":{\"outlinewidth\":0,\"ticks\":\"\"},\"type\":\"contourcarpet\"}],\"heatmap\":[{\"colorbar\":{\"outlinewidth\":0,\"ticks\":\"\"},\"colorscale\":[[0.0,\"#0d0887\"],[0.1111111111111111,\"#46039f\"],[0.2222222222222222,\"#7201a8\"],[0.3333333333333333,\"#9c179e\"],[0.4444444444444444,\"#bd3786\"],[0.5555555555555556,\"#d8576b\"],[0.6666666666666666,\"#ed7953\"],[0.7777777777777778,\"#fb9f3a\"],[0.8888888888888888,\"#fdca26\"],[1.0,\"#f0f921\"]],\"type\":\"heatmap\"}],\"heatmapgl\":[{\"colorbar\":{\"outlinewidth\":0,\"ticks\":\"\"},\"colorscale\":[[0.0,\"#0d0887\"],[0.1111111111111111,\"#46039f\"],[0.2222222222222222,\"#7201a8\"],[0.3333333333333333,\"#9c179e\"],[0.4444444444444444,\"#bd3786\"],[0.5555555555555556,\"#d8576b\"],[0.6666666666666666,\"#ed7953\"],[0.7777777777777778,\"#fb9f3a\"],[0.8888888888888888,\"#fdca26\"],[1.0,\"#f0f921\"]],\"type\":\"heatmapgl\"}],\"histogram\":[{\"marker\":{\"pattern\":{\"fillmode\":\"overlay\",\"size\":10,\"solidity\":0.2}},\"type\":\"histogram\"}],\"histogram2d\":[{\"colorbar\":{\"outlinewidth\":0,\"ticks\":\"\"},\"colorscale\":[[0.0,\"#0d0887\"],[0.1111111111111111,\"#46039f\"],[0.2222222222222222,\"#7201a8\"],[0.3333333333333333,\"#9c179e\"],[0.4444444444444444,\"#bd3786\"],[0.5555555555555556,\"#d8576b\"],[0.6666666666666666,\"#ed7953\"],[0.7777777777777778,\"#fb9f3a\"],[0.8888888888888888,\"#fdca26\"],[1.0,\"#f0f921\"]],\"type\":\"histogram2d\"}],\"histogram2dcontour\":[{\"colorbar\":{\"outlinewidth\":0,\"ticks\":\"\"},\"colorscale\":[[0.0,\"#0d0887\"],[0.1111111111111111,\"#46039f\"],[0.2222222222222222,\"#7201a8\"],[0.3333333333333333,\"#9c179e\"],[0.4444444444444444,\"#bd3786\"],[0.5555555555555556,\"#d8576b\"],[0.6666666666666666,\"#ed7953\"],[0.7777777777777778,\"#fb9f3a\"],[0.8888888888888888,\"#fdca26\"],[1.0,\"#f0f921\"]],\"type\":\"histogram2dcontour\"}],\"mesh3d\":[{\"colorbar\":{\"outlinewidth\":0,\"ticks\":\"\"},\"type\":\"mesh3d\"}],\"parcoords\":[{\"line\":{\"colorbar\":{\"outlinewidth\":0,\"ticks\":\"\"}},\"type\":\"parcoords\"}],\"pie\":[{\"automargin\":true,\"type\":\"pie\"}],\"scatter\":[{\"marker\":{\"colorbar\":{\"outlinewidth\":0,\"ticks\":\"\"}},\"type\":\"scatter\"}],\"scatter3d\":[{\"line\":{\"colorbar\":{\"outlinewidth\":0,\"ticks\":\"\"}},\"marker\":{\"colorbar\":{\"outlinewidth\":0,\"ticks\":\"\"}},\"type\":\"scatter3d\"}],\"scattercarpet\":[{\"marker\":{\"colorbar\":{\"outlinewidth\":0,\"ticks\":\"\"}},\"type\":\"scattercarpet\"}],\"scattergeo\":[{\"marker\":{\"colorbar\":{\"outlinewidth\":0,\"ticks\":\"\"}},\"type\":\"scattergeo\"}],\"scattergl\":[{\"marker\":{\"colorbar\":{\"outlinewidth\":0,\"ticks\":\"\"}},\"type\":\"scattergl\"}],\"scattermapbox\":[{\"marker\":{\"colorbar\":{\"outlinewidth\":0,\"ticks\":\"\"}},\"type\":\"scattermapbox\"}],\"scatterpolar\":[{\"marker\":{\"colorbar\":{\"outlinewidth\":0,\"ticks\":\"\"}},\"type\":\"scatterpolar\"}],\"scatterpolargl\":[{\"marker\":{\"colorbar\":{\"outlinewidth\":0,\"ticks\":\"\"}},\"type\":\"scatterpolargl\"}],\"scatterternary\":[{\"marker\":{\"colorbar\":{\"outlinewidth\":0,\"ticks\":\"\"}},\"type\":\"scatterternary\"}],\"surface\":[{\"colorbar\":{\"outlinewidth\":0,\"ticks\":\"\"},\"colorscale\":[[0.0,\"#0d0887\"],[0.1111111111111111,\"#46039f\"],[0.2222222222222222,\"#7201a8\"],[0.3333333333333333,\"#9c179e\"],[0.4444444444444444,\"#bd3786\"],[0.5555555555555556,\"#d8576b\"],[0.6666666666666666,\"#ed7953\"],[0.7777777777777778,\"#fb9f3a\"],[0.8888888888888888,\"#fdca26\"],[1.0,\"#f0f921\"]],\"type\":\"surface\"}],\"table\":[{\"cells\":{\"fill\":{\"color\":\"#EBF0F8\"},\"line\":{\"color\":\"white\"}},\"header\":{\"fill\":{\"color\":\"#C8D4E3\"},\"line\":{\"color\":\"white\"}},\"type\":\"table\"}]},\"layout\":{\"annotationdefaults\":{\"arrowcolor\":\"#2a3f5f\",\"arrowhead\":0,\"arrowwidth\":1},\"autotypenumbers\":\"strict\",\"coloraxis\":{\"colorbar\":{\"outlinewidth\":0,\"ticks\":\"\"}},\"colorscale\":{\"diverging\":[[0,\"#8e0152\"],[0.1,\"#c51b7d\"],[0.2,\"#de77ae\"],[0.3,\"#f1b6da\"],[0.4,\"#fde0ef\"],[0.5,\"#f7f7f7\"],[0.6,\"#e6f5d0\"],[0.7,\"#b8e186\"],[0.8,\"#7fbc41\"],[0.9,\"#4d9221\"],[1,\"#276419\"]],\"sequential\":[[0.0,\"#0d0887\"],[0.1111111111111111,\"#46039f\"],[0.2222222222222222,\"#7201a8\"],[0.3333333333333333,\"#9c179e\"],[0.4444444444444444,\"#bd3786\"],[0.5555555555555556,\"#d8576b\"],[0.6666666666666666,\"#ed7953\"],[0.7777777777777778,\"#fb9f3a\"],[0.8888888888888888,\"#fdca26\"],[1.0,\"#f0f921\"]],\"sequentialminus\":[[0.0,\"#0d0887\"],[0.1111111111111111,\"#46039f\"],[0.2222222222222222,\"#7201a8\"],[0.3333333333333333,\"#9c179e\"],[0.4444444444444444,\"#bd3786\"],[0.5555555555555556,\"#d8576b\"],[0.6666666666666666,\"#ed7953\"],[0.7777777777777778,\"#fb9f3a\"],[0.8888888888888888,\"#fdca26\"],[1.0,\"#f0f921\"]]},\"colorway\":[\"#636efa\",\"#EF553B\",\"#00cc96\",\"#ab63fa\",\"#FFA15A\",\"#19d3f3\",\"#FF6692\",\"#B6E880\",\"#FF97FF\",\"#FECB52\"],\"font\":{\"color\":\"#2a3f5f\"},\"geo\":{\"bgcolor\":\"white\",\"lakecolor\":\"white\",\"landcolor\":\"#E5ECF6\",\"showlakes\":true,\"showland\":true,\"subunitcolor\":\"white\"},\"hoverlabel\":{\"align\":\"left\"},\"hovermode\":\"closest\",\"mapbox\":{\"style\":\"light\"},\"paper_bgcolor\":\"white\",\"plot_bgcolor\":\"#E5ECF6\",\"polar\":{\"angularaxis\":{\"gridcolor\":\"white\",\"linecolor\":\"white\",\"ticks\":\"\"},\"bgcolor\":\"#E5ECF6\",\"radialaxis\":{\"gridcolor\":\"white\",\"linecolor\":\"white\",\"ticks\":\"\"}},\"scene\":{\"xaxis\":{\"backgroundcolor\":\"#E5ECF6\",\"gridcolor\":\"white\",\"gridwidth\":2,\"linecolor\":\"white\",\"showbackground\":true,\"ticks\":\"\",\"zerolinecolor\":\"white\"},\"yaxis\":{\"backgroundcolor\":\"#E5ECF6\",\"gridcolor\":\"white\",\"gridwidth\":2,\"linecolor\":\"white\",\"showbackground\":true,\"ticks\":\"\",\"zerolinecolor\":\"white\"},\"zaxis\":{\"backgroundcolor\":\"#E5ECF6\",\"gridcolor\":\"white\",\"gridwidth\":2,\"linecolor\":\"white\",\"showbackground\":true,\"ticks\":\"\",\"zerolinecolor\":\"white\"}},\"shapedefaults\":{\"line\":{\"color\":\"#2a3f5f\"}},\"ternary\":{\"aaxis\":{\"gridcolor\":\"white\",\"linecolor\":\"white\",\"ticks\":\"\"},\"baxis\":{\"gridcolor\":\"white\",\"linecolor\":\"white\",\"ticks\":\"\"},\"bgcolor\":\"#E5ECF6\",\"caxis\":{\"gridcolor\":\"white\",\"linecolor\":\"white\",\"ticks\":\"\"}},\"title\":{\"x\":0.05},\"xaxis\":{\"automargin\":true,\"gridcolor\":\"white\",\"linecolor\":\"white\",\"ticks\":\"\",\"title\":{\"standoff\":15},\"zerolinecolor\":\"white\",\"zerolinewidth\":2},\"yaxis\":{\"automargin\":true,\"gridcolor\":\"white\",\"linecolor\":\"white\",\"ticks\":\"\",\"title\":{\"standoff\":15},\"zerolinecolor\":\"white\",\"zerolinewidth\":2}}}},                        {\"responsive\": true}                    ).then(function(){\n",
       "                            Plotly.addFrames('eafa19a3-17d0-417d-966b-a9e832ac0395', [{\"data\":[{\"marker\":{\"color\":\"red\",\"size\":10},\"mode\":\"markers\",\"x\":[0.0],\"y\":[-2.0],\"type\":\"scatter\"}]},{\"data\":[{\"marker\":{\"color\":\"red\",\"size\":10},\"mode\":\"markers\",\"x\":[-0.03915035401915867],\"y\":[-1.8792169929196167],\"type\":\"scatter\"}]},{\"data\":[{\"marker\":{\"color\":\"red\",\"size\":10},\"mode\":\"markers\",\"x\":[-0.07496876301541022],\"y\":[-1.7617659308621407],\"type\":\"scatter\"}]},{\"data\":[{\"marker\":{\"color\":\"red\",\"size\":10},\"mode\":\"markers\",\"x\":[-0.10745522698875476],\"y\":[-1.6476468138275717],\"type\":\"scatter\"}]},{\"data\":[{\"marker\":{\"color\":\"red\",\"size\":10},\"mode\":\"markers\",\"x\":[-0.13660974593919195],\"y\":[-1.5368596418159102],\"type\":\"scatter\"}]},{\"data\":[{\"marker\":{\"color\":\"red\",\"size\":10},\"mode\":\"markers\",\"x\":[-0.16243231986672224],\"y\":[-1.4294044148271552],\"type\":\"scatter\"}]},{\"data\":[{\"marker\":{\"color\":\"red\",\"size\":10},\"mode\":\"markers\",\"x\":[-0.1849229487713453],\"y\":[-1.3252811328613077],\"type\":\"scatter\"}]},{\"data\":[{\"marker\":{\"color\":\"red\",\"size\":10},\"mode\":\"markers\",\"x\":[-0.20408163265306123],\"y\":[-1.2244897959183674],\"type\":\"scatter\"}]},{\"data\":[{\"marker\":{\"color\":\"red\",\"size\":10},\"mode\":\"markers\",\"x\":[-0.21990837151187004],\"y\":[-1.1270304039983343],\"type\":\"scatter\"}]},{\"data\":[{\"marker\":{\"color\":\"red\",\"size\":10},\"mode\":\"markers\",\"x\":[-0.23240316534777178],\"y\":[-1.0329029571012078],\"type\":\"scatter\"}]},{\"data\":[{\"marker\":{\"color\":\"red\",\"size\":10},\"mode\":\"markers\",\"x\":[-0.24156601416076634],\"y\":[-0.9421074552269888],\"type\":\"scatter\"}]},{\"data\":[{\"marker\":{\"color\":\"red\",\"size\":10},\"mode\":\"markers\",\"x\":[-0.24739691795085378],\"y\":[-0.854643898375677],\"type\":\"scatter\"}]},{\"data\":[{\"marker\":{\"color\":\"red\",\"size\":10},\"mode\":\"markers\",\"x\":[-0.24989587671803415],\"y\":[-0.770512286547272],\"type\":\"scatter\"}]},{\"data\":[{\"marker\":{\"color\":\"red\",\"size\":10},\"mode\":\"markers\",\"x\":[-0.24906289046230737],\"y\":[-0.6897126197417744],\"type\":\"scatter\"}]},{\"data\":[{\"marker\":{\"color\":\"red\",\"size\":10},\"mode\":\"markers\",\"x\":[-0.24489795918367346],\"y\":[-0.6122448979591837],\"type\":\"scatter\"}]},{\"data\":[{\"marker\":{\"color\":\"red\",\"size\":10},\"mode\":\"markers\",\"x\":[-0.23740108288213246],\"y\":[-0.5381091211995004],\"type\":\"scatter\"}]},{\"data\":[{\"marker\":{\"color\":\"red\",\"size\":10},\"mode\":\"markers\",\"x\":[-0.2265722615576843],\"y\":[-0.467305289462724],\"type\":\"scatter\"}]},{\"data\":[{\"marker\":{\"color\":\"red\",\"size\":10},\"mode\":\"markers\",\"x\":[-0.21241149521032904],\"y\":[-0.39983340274885465],\"type\":\"scatter\"}]},{\"data\":[{\"marker\":{\"color\":\"red\",\"size\":10},\"mode\":\"markers\",\"x\":[-0.19491878384006667],\"y\":[-0.33569346105789266],\"type\":\"scatter\"}]},{\"data\":[{\"marker\":{\"color\":\"red\",\"size\":10},\"mode\":\"markers\",\"x\":[-0.17409412744689715],\"y\":[-0.27488546438983763],\"type\":\"scatter\"}]},{\"data\":[{\"marker\":{\"color\":\"red\",\"size\":10},\"mode\":\"markers\",\"x\":[-0.14993752603082056],\"y\":[-0.21740941274468983],\"type\":\"scatter\"}]},{\"data\":[{\"marker\":{\"color\":\"red\",\"size\":10},\"mode\":\"markers\",\"x\":[-0.12244897959183677],\"y\":[-0.16326530612244905],\"type\":\"scatter\"}]},{\"data\":[{\"marker\":{\"color\":\"red\",\"size\":10},\"mode\":\"markers\",\"x\":[-0.09162848812994595],\"y\":[-0.1124531445231155],\"type\":\"scatter\"}]},{\"data\":[{\"marker\":{\"color\":\"red\",\"size\":10},\"mode\":\"markers\",\"x\":[-0.057476051645147914],\"y\":[-0.06497292794668895],\"type\":\"scatter\"}]},{\"data\":[{\"marker\":{\"color\":\"red\",\"size\":10},\"mode\":\"markers\",\"x\":[-0.019991670137442755],\"y\":[-0.020824656393169536],\"type\":\"scatter\"}]},{\"data\":[{\"marker\":{\"color\":\"red\",\"size\":10},\"mode\":\"markers\",\"x\":[0.020824656393169536],\"y\":[0.019991670137442755],\"type\":\"scatter\"}]},{\"data\":[{\"marker\":{\"color\":\"red\",\"size\":10},\"mode\":\"markers\",\"x\":[0.06497292794668871],\"y\":[0.05747605164514772],\"type\":\"scatter\"}]},{\"data\":[{\"marker\":{\"color\":\"red\",\"size\":10},\"mode\":\"markers\",\"x\":[0.11245314452311524],\"y\":[0.09162848812994577],\"type\":\"scatter\"}]},{\"data\":[{\"marker\":{\"color\":\"red\",\"size\":10},\"mode\":\"markers\",\"x\":[0.16326530612244888],\"y\":[0.12244897959183669],\"type\":\"scatter\"}]},{\"data\":[{\"marker\":{\"color\":\"red\",\"size\":10},\"mode\":\"markers\",\"x\":[0.2174094127446897],\"y\":[0.14993752603082047],\"type\":\"scatter\"}]},{\"data\":[{\"marker\":{\"color\":\"red\",\"size\":10},\"mode\":\"markers\",\"x\":[0.2748854643898373],\"y\":[0.174094127446897],\"type\":\"scatter\"}]},{\"data\":[{\"marker\":{\"color\":\"red\",\"size\":10},\"mode\":\"markers\",\"x\":[0.33569346105789233],\"y\":[0.19491878384006656],\"type\":\"scatter\"}]},{\"data\":[{\"marker\":{\"color\":\"red\",\"size\":10},\"mode\":\"markers\",\"x\":[0.3998334027488545],\"y\":[0.21241149521032898],\"type\":\"scatter\"}]},{\"data\":[{\"marker\":{\"color\":\"red\",\"size\":10},\"mode\":\"markers\",\"x\":[0.46730528946272376],\"y\":[0.22657226155768428],\"type\":\"scatter\"}]},{\"data\":[{\"marker\":{\"color\":\"red\",\"size\":10},\"mode\":\"markers\",\"x\":[0.5381091211995002],\"y\":[0.23740108288213244],\"type\":\"scatter\"}]},{\"data\":[{\"marker\":{\"color\":\"red\",\"size\":10},\"mode\":\"markers\",\"x\":[0.6122448979591834],\"y\":[0.24489795918367344],\"type\":\"scatter\"}]},{\"data\":[{\"marker\":{\"color\":\"red\",\"size\":10},\"mode\":\"markers\",\"x\":[0.689712619741774],\"y\":[0.24906289046230737],\"type\":\"scatter\"}]},{\"data\":[{\"marker\":{\"color\":\"red\",\"size\":10},\"mode\":\"markers\",\"x\":[0.7705122865472718],\"y\":[0.24989587671803415],\"type\":\"scatter\"}]},{\"data\":[{\"marker\":{\"color\":\"red\",\"size\":10},\"mode\":\"markers\",\"x\":[0.8546438983756767],\"y\":[0.24739691795085383],\"type\":\"scatter\"}]},{\"data\":[{\"marker\":{\"color\":\"red\",\"size\":10},\"mode\":\"markers\",\"x\":[0.9421074552269882],\"y\":[0.2415660141607664],\"type\":\"scatter\"}]},{\"data\":[{\"marker\":{\"color\":\"red\",\"size\":10},\"mode\":\"markers\",\"x\":[1.0329029571012074],\"y\":[0.23240316534777183],\"type\":\"scatter\"}]},{\"data\":[{\"marker\":{\"color\":\"red\",\"size\":10},\"mode\":\"markers\",\"x\":[1.1270304039983337],\"y\":[0.2199083715118701],\"type\":\"scatter\"}]},{\"data\":[{\"marker\":{\"color\":\"red\",\"size\":10},\"mode\":\"markers\",\"x\":[1.2244897959183672],\"y\":[0.20408163265306123],\"type\":\"scatter\"}]},{\"data\":[{\"marker\":{\"color\":\"red\",\"size\":10},\"mode\":\"markers\",\"x\":[1.3252811328613077],\"y\":[0.1849229487713453],\"type\":\"scatter\"}]},{\"data\":[{\"marker\":{\"color\":\"red\",\"size\":10},\"mode\":\"markers\",\"x\":[1.4294044148271547],\"y\":[0.16243231986672235],\"type\":\"scatter\"}]},{\"data\":[{\"marker\":{\"color\":\"red\",\"size\":10},\"mode\":\"markers\",\"x\":[1.5368596418159095],\"y\":[0.13660974593919217],\"type\":\"scatter\"}]},{\"data\":[{\"marker\":{\"color\":\"red\",\"size\":10},\"mode\":\"markers\",\"x\":[1.6476468138275715],\"y\":[0.10745522698875476],\"type\":\"scatter\"}]},{\"data\":[{\"marker\":{\"color\":\"red\",\"size\":10},\"mode\":\"markers\",\"x\":[1.7617659308621405],\"y\":[0.07496876301541033],\"type\":\"scatter\"}]},{\"data\":[{\"marker\":{\"color\":\"red\",\"size\":10},\"mode\":\"markers\",\"x\":[1.8792169929196167],\"y\":[0.03915035401915867],\"type\":\"scatter\"}]},{\"data\":[{\"marker\":{\"color\":\"red\",\"size\":10},\"mode\":\"markers\",\"x\":[2.0],\"y\":[0.0],\"type\":\"scatter\"}]}]);\n",
       "                        }).then(function(){\n",
       "                            \n",
       "var gd = document.getElementById('eafa19a3-17d0-417d-966b-a9e832ac0395');\n",
       "var x = new MutationObserver(function (mutations, observer) {{\n",
       "        var display = window.getComputedStyle(gd).display;\n",
       "        if (!display || display === 'none') {{\n",
       "            console.log([gd, 'removed!']);\n",
       "            Plotly.purge(gd);\n",
       "            observer.disconnect();\n",
       "        }}\n",
       "}});\n",
       "\n",
       "// Listen for the removal of the full notebook cells\n",
       "var notebookContainer = gd.closest('#notebook-container');\n",
       "if (notebookContainer) {{\n",
       "    x.observe(notebookContainer, {childList: true});\n",
       "}}\n",
       "\n",
       "// Listen for the clearing of the current output cell\n",
       "var outputEl = gd.closest('.output');\n",
       "if (outputEl) {{\n",
       "    x.observe(outputEl, {childList: true});\n",
       "}}\n",
       "\n",
       "                        })                };                });            </script>        </div>"
      ]
     },
     "metadata": {},
     "output_type": "display_data"
    }
   ],
   "source": [
    "#Adptar para os gráficos finais\n",
    "\n",
    "# Generate curve data\n",
    "t = np.linspace(-1, 1, 100)\n",
    "x = t + t ** 2\n",
    "y = t - t ** 2\n",
    "xm = np.min(x) - 1.5\n",
    "xM = np.max(x) + 1.5\n",
    "ym = np.min(y) - 1.5\n",
    "yM = np.max(y) + 1.5\n",
    "N = 50\n",
    "s = np.linspace(-1, 1, N)\n",
    "xx = s + s ** 2\n",
    "yy = s - s ** 2\n",
    "\n",
    "\n",
    "# Create figure\n",
    "fig = go.Figure(\n",
    "    data=[go.Scatter(x=x, y=y,\n",
    "                     mode=\"lines\",\n",
    "                     line=dict(width=2, color=\"blue\")),\n",
    "          go.Scatter(x=x, y=y,\n",
    "                     mode=\"lines\",\n",
    "                     line=dict(width=2, color=\"blue\"))],\n",
    "    layout=go.Layout(\n",
    "        xaxis=dict(range=[xm, xM], autorange=False, zeroline=False),\n",
    "        yaxis=dict(range=[ym, yM], autorange=False, zeroline=False),\n",
    "        title_text=\"Kinematic Generation of a Planar Curve\", hovermode=\"closest\",\n",
    "        updatemenus=[dict(type=\"buttons\",\n",
    "                          buttons=[dict(label=\"Play\",\n",
    "                                        method=\"animate\",\n",
    "                                        args=[None])])]),\n",
    "    frames=[go.Frame(\n",
    "        data=[go.Scatter(\n",
    "            x=[xx[k]],\n",
    "            y=[yy[k]],\n",
    "            mode=\"markers\",\n",
    "            marker=dict(color=\"red\", size=10))])\n",
    "\n",
    "        for k in range(N)]\n",
    ")\n",
    "\n",
    "fig.show()"
   ]
  },
  {
   "cell_type": "code",
   "execution_count": null,
   "id": "4dde814a",
   "metadata": {},
   "outputs": [],
   "source": []
  }
 ],
 "metadata": {
  "kernelspec": {
   "display_name": "Python 3 (ipykernel)",
   "language": "python",
   "name": "python3"
  },
  "language_info": {
   "codemirror_mode": {
    "name": "ipython",
    "version": 3
   },
   "file_extension": ".py",
   "mimetype": "text/x-python",
   "name": "python",
   "nbconvert_exporter": "python",
   "pygments_lexer": "ipython3",
   "version": "3.9.7"
  }
 },
 "nbformat": 4,
 "nbformat_minor": 5
}
